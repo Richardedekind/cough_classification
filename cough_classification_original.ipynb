{
 "cells": [
  {
   "cell_type": "code",
   "execution_count": 1,
   "metadata": {},
   "outputs": [],
   "source": [
    "#Research references:\n",
    "#1) Dry/wet cough classification: https://link.springer.com/article/10.1007/s10439-013-0741-6\n",
    "#2) Pneumonia classification: https://ieeexplore.ieee.org/stamp/stamp.jsp?arnumber=6987276\n",
    "#3) https://espace.library.uq.edu.au/data/UQ_344963/s41943203_phd_submission.pdf?Expires=1585601065&Key-Pair-Id=APKAJKNBJ4MJBJNC6NLQ&Signature=Lnpf6wT8rkozSh9av7U9nGuC7WAH6KuI2Cj3Y7G366gkGlh8D-Ie1Kc~TyBAUu~uMsVltleJcSv3p6TCm6HdFnhpyoTgLcYh6eFfvQwIUqbk1Bf4JZldgB~BDKUOwY1G0pA-HoKjvIAu3avO98SMO35upakm9OEBByd4nC9aXsjKRThd6bTpq1qIuuD9gh1l5FaM6hNRB0c2lCf4Q3adx7C3FW0NMwdWhcuF45A9f~dO3zTWWSQamoo5Otc-PHMMt96TetNcML~jy9ghgJeCPY6DJLUIwQAt03fENBluS~TjTJ17WD~n51xiRofb94fEJHoRHh0d-430LLwr7BX4IA__"
   ]
  },
  {
   "cell_type": "code",
   "execution_count": 2,
   "metadata": {},
   "outputs": [],
   "source": [
    "import numpy as np\n",
    "import os\n",
    "#import pywt #wavelets\n",
    "from pydub import AudioSegment\n",
    "from pydub.silence import split_on_silence\n",
    "from pydub.utils import mediainfo\n",
    "from pydub.playback import play\n",
    "import matplotlib.pyplot as plt\n",
    "#import seaborn as sn\n",
    "import python_speech_features as spe_feats\n",
    "import pandas as pd\n",
    "from scipy.stats import kurtosis, skew\n",
    "from scipy.signal import lfilter\n",
    "import librosa\n",
    "import pysptk\n",
    "import math\n",
    "import sys\n",
    "\n",
    "#settings\n",
    "import config"
   ]
  },
  {
   "cell_type": "markdown",
   "metadata": {},
   "source": [
    "## Reading recordings"
   ]
  },
  {
   "cell_type": "code",
   "execution_count": 3,
   "metadata": {},
   "outputs": [],
   "source": [
    "all_s=[]\n",
    "all_label=[]\n",
    "all_id=[]\n",
    "all_fs=[]"
   ]
  },
  {
   "cell_type": "code",
   "execution_count": 4,
   "metadata": {},
   "outputs": [
    {
     "name": "stdout",
     "output_type": "stream",
     "text": [
      "Readings wavs...\n",
      "data/YT_set/edited_wavs/edit_Spring Allergy Coughing-7Ez5Wc_esBg-Dry.wav\n",
      "data/YT_set/edited_wavs/edit_Spring Allergy Coughing-7Ez5Wc_esBg-Dry.wav\n",
      "data/YT_set/edited_wavs/edit_Coughing 51-LkxvBb2VXbs-Dry.wav\n",
      "data/YT_set/edited_wavs/edit_Coughing 51-LkxvBb2VXbs-Dry.wav\n",
      "data/YT_set/edited_wavs/edit_Wet coughing-0QQxKN-KC1U-Wet.wav\n",
      "data/YT_set/edited_wavs/edit_Wet coughing-0QQxKN-KC1U-Wet.wav\n",
      "data/YT_set/edited_wavs/edit_Dry Coughing Fit in the Afternoon.-A5s2ZgwQ1VM-Dry.wav\n",
      "data/YT_set/edited_wavs/edit_Dry Coughing Fit in the Afternoon.-A5s2ZgwQ1VM-Dry.wav\n",
      "data/YT_set/edited_wavs/edit_Coughing 77-2Mw-s5jnqXU-Wet.wav\n",
      "data/YT_set/edited_wavs/edit_Coughing 77-2Mw-s5jnqXU-Wet.wav\n",
      "data/YT_set/edited_wavs/edit_Wheezing Chest and Wet Cough 2-5905FxXz9dI-Wet.wav\n",
      "data/YT_set/edited_wavs/edit_Wheezing Chest and Wet Cough 2-5905FxXz9dI-Wet.wav\n",
      "data/YT_set/edited_wavs/edit_Coughing 46-dg-I9j76-t8-Wet.wav\n",
      "data/YT_set/edited_wavs/edit_Coughing 46-dg-I9j76-t8-Wet.wav\n",
      "data/YT_set/edited_wavs/edit_Spring Cold Coughing.-u2KMBD5-oCg-Dry.wav\n",
      "data/YT_set/edited_wavs/edit_Spring Cold Coughing.-u2KMBD5-oCg-Dry.wav\n",
      "data/YT_set/edited_wavs/edit_Mid-morning Winter Coughing Fit-h-GtQfDCoaE-Dry.wav\n",
      "data/YT_set/edited_wavs/edit_Mid-morning Winter Coughing Fit-h-GtQfDCoaE-Dry.wav\n",
      "data/YT_set/edited_wavs/edit_More Allergy Coughing-NfKZNt25L-Q-Dry.wav\n",
      "data/YT_set/edited_wavs/edit_More Allergy Coughing-NfKZNt25L-Q-Dry.wav\n",
      "data/YT_set/edited_wavs/edit_Coughing 14 - After work-1UDFq2InljM-Dry.wav\n",
      "data/YT_set/edited_wavs/edit_Coughing 14 - After work-1UDFq2InljM-Dry.wav\n",
      "data/YT_set/edited_wavs/edit_# 31 night wet cough-Dc_aoUCqw2E-Wet.wav\n",
      "data/YT_set/edited_wavs/edit_# 31 night wet cough-Dc_aoUCqw2E-Wet.wav\n",
      "data/YT_set/edited_wavs/edit_# 30 Chesty and wet cough-d2wkdrScerU-Wet.wav\n",
      "data/YT_set/edited_wavs/edit_# 30 Chesty and wet cough-d2wkdrScerU-Wet.wav\n",
      "data/YT_set/edited_wavs/edit_Single wet cough-CTSLdNxN1cc-Wet.wav\n",
      "data/YT_set/edited_wavs/edit_Single wet cough-CTSLdNxN1cc-Wet.wav\n",
      "data/YT_set/edited_wavs/edit_# 61 morning phlegmy cough...again-qfpJg179YNk-Wet.wav\n",
      "data/YT_set/edited_wavs/edit_# 61 morning phlegmy cough...again-qfpJg179YNk-Wet.wav\n",
      "data/YT_set/edited_wavs/edit_DIST_Another Girl Coughing-iYxUHA-Pwsk-Dry.wav\n",
      "data/YT_set/edited_wavs/edit_DIST_Another Girl Coughing-iYxUHA-Pwsk-Dry.wav\n",
      "data/YT_set/edited_wavs/edit_Spring Cold Coughing 3-tZtJaS2ZtME-Dry.wav\n",
      "data/YT_set/edited_wavs/edit_Spring Cold Coughing 3-tZtJaS2ZtME-Dry.wav\n",
      "data/YT_set/edited_wavs/edit_Coughing Woman Sound - Woman Cough Sound Effect-zjd4HrJbc8o-Dry.wav\n",
      "data/YT_set/edited_wavs/edit_Coughing Woman Sound - Woman Cough Sound Effect-zjd4HrJbc8o-Dry.wav\n",
      "data/YT_set/edited_wavs/edit_Wet Throat Infection Cough-tfc5cXiXMDc-Wet.wav\n",
      "data/YT_set/edited_wavs/edit_Wet Throat Infection Cough-tfc5cXiXMDc-Wet.wav\n",
      "data/YT_set/edited_wavs/edit_Dry Afternoon Cough-6LK6yHtIung-Dry.wav\n",
      "data/YT_set/edited_wavs/edit_Dry Afternoon Cough-6LK6yHtIung-Dry.wav\n",
      "data/YT_set/edited_wavs/edit_Dry Early Morning Cough-XrpB4DTNQZw-Dry.wav\n",
      "data/YT_set/edited_wavs/edit_Dry Early Morning Cough-XrpB4DTNQZw-Dry.wav\n",
      "data/YT_set/edited_wavs/edit_Man Coughing Sound - Wet Cough Sound Effect-q6WsoL3J8U8-Wet.wav\n",
      "data/YT_set/edited_wavs/edit_Man Coughing Sound - Wet Cough Sound Effect-q6WsoL3J8U8-Wet.wav\n",
      "data/YT_set/edited_wavs/edit_November cold (wet coughing)-DYfjPnty2Ho-Wet.wav\n",
      "data/YT_set/edited_wavs/edit_November cold (wet coughing)-DYfjPnty2Ho-Wet.wav\n",
      "data/YT_set/edited_wavs/edit_Dry Morning Cough turns Chesty and Barking.-ekqLlw-Xe68-Dry.wav\n",
      "data/YT_set/edited_wavs/edit_Dry Morning Cough turns Chesty and Barking.-ekqLlw-Xe68-Dry.wav\n",
      "data/YT_set/edited_wavs/edit_Cough Around the Clock!-4k0ziD0j5BI-Wet.wav\n",
      "data/YT_set/edited_wavs/edit_Cough Around the Clock!-4k0ziD0j5BI-Wet.wav\n",
      "data/YT_set/edited_wavs/edit_# 34 coughing up crap again-rkF_uMizqoc-Wet.wav\n",
      "data/YT_set/edited_wavs/edit_# 34 coughing up crap again-rkF_uMizqoc-Wet.wav\n",
      "data/YT_set/edited_wavs/edit_# 60 coughing still (deep and wet cough)-jxYNLCYTwZQ-Wet.wav\n",
      "data/YT_set/edited_wavs/edit_# 60 coughing still (deep and wet cough)-jxYNLCYTwZQ-Wet.wav\n",
      "data/YT_set/edited_wavs/edit_Spring Cold Coughing 2-AQOeIVbhFm4-Dry.wav\n",
      "data/YT_set/edited_wavs/edit_Spring Cold Coughing 2-AQOeIVbhFm4-Dry.wav\n",
      "data/YT_set/edited_wavs/edit_Coughing 60-diuuEXKzNB8-Wet.wav\n",
      "data/YT_set/edited_wavs/edit_Coughing 60-diuuEXKzNB8-Wet.wav\n",
      "data/YT_set/edited_wavs/edit_DIST_Coughing 79-h2FLCKMcEX0-Wet.wav\n",
      "data/YT_set/edited_wavs/edit_DIST_Coughing 79-h2FLCKMcEX0-Wet.wav\n",
      "data/YT_set/edited_wavs/edit_Residual Phlegmy Morning Coughing and Gagging-TK4CveeCWfY-Wet.wav\n",
      "data/YT_set/edited_wavs/edit_Residual Phlegmy Morning Coughing and Gagging-TK4CveeCWfY-Wet.wav\n",
      "data/YT_set/edited_wavs/edit_Heavy cold and sore throat coughing.-NaOVmYoIjbs-Dry.wav\n",
      "data/YT_set/edited_wavs/edit_Heavy cold and sore throat coughing.-NaOVmYoIjbs-Dry.wav\n",
      "data/YT_set/edited_wavs/edit_Male bronchitis cough-IzPMbIll3LE-Wet.wav\n",
      "data/YT_set/edited_wavs/edit_Male bronchitis cough-IzPMbIll3LE-Wet.wav\n",
      "data/YT_set/edited_wavs/edit_#64 coughing, allergies, singing lungs-CsDXlt7Ei1c-Wet.wav\n",
      "data/YT_set/edited_wavs/edit_#64 coughing, allergies, singing lungs-CsDXlt7Ei1c-Wet.wav\n",
      "data/YT_set/edited_wavs/edit_My deep wet cough-De4HdyocTHY-Wet.wav\n",
      "data/YT_set/edited_wavs/edit_My deep wet cough-De4HdyocTHY-Wet.wav\n",
      "data/YT_set/edited_wavs/edit_# 55 gaggy wet cough-ct3tHDfNKiQ-Wet.wav\n",
      "data/YT_set/edited_wavs/edit_# 55 gaggy wet cough-ct3tHDfNKiQ-Wet.wav\n"
     ]
    }
   ],
   "source": [
    "#Read wav data set\n",
    "\n",
    "if config.featExtr_skip is False:\n",
    "    print(\"Readings wavs...\")\n",
    "\n",
    "    #only list files in FOLDER_PATH directory\n",
    "    wav_files = [f for f in os.listdir(config.FOLDER_PATH) if os.path.isfile(os.path.join(config.FOLDER_PATH, f))]\n",
    "    for file_name in wav_files:\n",
    "    \n",
    "        fname_noExt = os.path.splitext(file_name)[0] #file name without extension\n",
    "    \n",
    "        #full path file name\n",
    "        full_fname = config.FOLDER_PATH+file_name\n",
    "        print(full_fname)\n",
    "    \n",
    "        # load audio\n",
    "        s = AudioSegment.from_wav(full_fname)\n",
    "        print(full_fname)\n",
    "        all_s.append(s)\n",
    "        #sampling rate:\n",
    "        info = mediainfo(full_fname)\n",
    "        fs = float(info['sample_rate'])\n",
    "        all_fs.append(fs)\n",
    "    \n",
    "        #get ID of recording\n",
    "        ID = fname_noExt.split('-')[-2] #for the current type of naming\n",
    "        #print(file_name)\n",
    "        #print(ID)\n",
    "        all_id.append(ID)\n",
    "    \n",
    "        #get label\n",
    "        label = fname_noExt.split('-')[-1] #for the current type of naming\n",
    "        #print(label)\n",
    "        all_label.append(label)"
   ]
  },
  {
   "cell_type": "markdown",
   "metadata": {},
   "source": [
    "Listening to some of the audios"
   ]
  },
  {
   "cell_type": "code",
   "execution_count": 5,
   "metadata": {},
   "outputs": [],
   "source": [
    "if config.featExtr_skip is False:\n",
    "    np.where(np.array(all_label)=='Dry')"
   ]
  },
  {
   "cell_type": "code",
   "execution_count": 6,
   "metadata": {},
   "outputs": [],
   "source": [
    "if config.featExtr_skip is False:\n",
    "    np.where(np.array(all_label)=='Wet')"
   ]
  },
  {
   "cell_type": "code",
   "execution_count": 7,
   "metadata": {},
   "outputs": [],
   "source": [
    "if config.featExtr_skip is False:\n",
    "    s=all_s[15]\n",
    "    s"
   ]
  },
  {
   "cell_type": "markdown",
   "metadata": {},
   "source": [
    "## Feature extraction"
   ]
  },
  {
   "cell_type": "code",
   "execution_count": 8,
   "metadata": {},
   "outputs": [
    {
     "name": "stdout",
     "output_type": "stream",
     "text": [
      "High-pass filtering...\n",
      "Computing features...\n"
     ]
    },
    {
     "ename": "ValueError",
     "evalue": "attempt to get argmax of an empty sequence",
     "output_type": "error",
     "traceback": [
      "\u001b[0;31m---------------------------------------------------------------------------\u001b[0m",
      "\u001b[0;31mValueError\u001b[0m                                Traceback (most recent call last)",
      "\u001b[0;32m<ipython-input-8-47546de8f5b3>\u001b[0m in \u001b[0;36m<module>\u001b[0;34m\u001b[0m\n\u001b[1;32m      3\u001b[0m \u001b[0;32mif\u001b[0m \u001b[0mconfig\u001b[0m\u001b[0;34m.\u001b[0m\u001b[0mfeatExtr_skip\u001b[0m \u001b[0;32mis\u001b[0m \u001b[0;32mFalse\u001b[0m\u001b[0;34m:\u001b[0m\u001b[0;34m\u001b[0m\u001b[0;34m\u001b[0m\u001b[0m\n\u001b[1;32m      4\u001b[0m \u001b[0;34m\u001b[0m\u001b[0m\n\u001b[0;32m----> 5\u001b[0;31m     \u001b[0mfeats\u001b[0m \u001b[0;34m=\u001b[0m \u001b[0mfeatExtrLib\u001b[0m\u001b[0;34m.\u001b[0m\u001b[0mfeature_extraction_Step\u001b[0m\u001b[0;34m(\u001b[0m\u001b[0mall_s\u001b[0m\u001b[0;34m,\u001b[0m\u001b[0mall_id\u001b[0m\u001b[0;34m,\u001b[0m\u001b[0mall_label\u001b[0m\u001b[0;34m)\u001b[0m\u001b[0;34m\u001b[0m\u001b[0;34m\u001b[0m\u001b[0m\n\u001b[0m\u001b[1;32m      6\u001b[0m \u001b[0;34m\u001b[0m\u001b[0m\n\u001b[1;32m      7\u001b[0m \u001b[0;34m\u001b[0m\u001b[0m\n",
      "\u001b[0;32m~/Desktop/cough_classification/cough_classification/featureExtractionFunctions.py\u001b[0m in \u001b[0;36mfeature_extraction_Step\u001b[0;34m(all_s, all_id, all_label)\u001b[0m\n\u001b[1;32m    276\u001b[0m             \u001b[0;32mfor\u001b[0m \u001b[0midx\u001b[0m\u001b[0;34m,\u001b[0m \u001b[0mseg_i\u001b[0m \u001b[0;32min\u001b[0m \u001b[0menumerate\u001b[0m\u001b[0;34m(\u001b[0m\u001b[0ms_segments_filt\u001b[0m\u001b[0;34m)\u001b[0m\u001b[0;34m:\u001b[0m\u001b[0;34m\u001b[0m\u001b[0;34m\u001b[0m\u001b[0m\n\u001b[1;32m    277\u001b[0m                 \u001b[0;31m#print('\\tSegment %d' % idx)\u001b[0m\u001b[0;34m\u001b[0m\u001b[0;34m\u001b[0m\u001b[0;34m\u001b[0m\u001b[0m\n\u001b[0;32m--> 278\u001b[0;31m                 \u001b[0mfeats\u001b[0m \u001b[0;34m=\u001b[0m \u001b[0mfeature_extraction\u001b[0m\u001b[0;34m(\u001b[0m\u001b[0mseg_i\u001b[0m\u001b[0;34m,\u001b[0m\u001b[0mfs\u001b[0m\u001b[0;34m,\u001b[0m\u001b[0mfeats\u001b[0m\u001b[0;34m,\u001b[0m\u001b[0mconfig\u001b[0m\u001b[0;34m.\u001b[0m\u001b[0mlp_ord\u001b[0m\u001b[0;34m,\u001b[0m\u001b[0mID\u001b[0m\u001b[0;34m,\u001b[0m\u001b[0mlabel\u001b[0m\u001b[0;34m)\u001b[0m\u001b[0;34m\u001b[0m\u001b[0;34m\u001b[0m\u001b[0m\n\u001b[0m\u001b[1;32m    279\u001b[0m \u001b[0;34m\u001b[0m\u001b[0m\n\u001b[1;32m    280\u001b[0m     \u001b[0;32mreturn\u001b[0m \u001b[0mfeats\u001b[0m\u001b[0;34m\u001b[0m\u001b[0;34m\u001b[0m\u001b[0m\n",
      "\u001b[0;32m~/Desktop/cough_classification/cough_classification/featureExtractionFunctions.py\u001b[0m in \u001b[0;36mfeature_extraction\u001b[0;34m(x, fs, feats_df, lp_ord, ID, label)\u001b[0m\n\u001b[1;32m    170\u001b[0m \u001b[0;34m\u001b[0m\u001b[0m\n\u001b[1;32m    171\u001b[0m     \u001b[0;31m#5)Pitch (F0)\u001b[0m\u001b[0;34m\u001b[0m\u001b[0;34m\u001b[0m\u001b[0;34m\u001b[0m\u001b[0m\n\u001b[0;32m--> 172\u001b[0;31m     \u001b[0mF0_feat\u001b[0m \u001b[0;34m=\u001b[0m  \u001b[0mnp\u001b[0m\u001b[0;34m.\u001b[0m\u001b[0mapply_along_axis\u001b[0m\u001b[0;34m(\u001b[0m\u001b[0mget_F0\u001b[0m\u001b[0;34m,\u001b[0m \u001b[0;36m1\u001b[0m\u001b[0;34m,\u001b[0m \u001b[0mx_frames\u001b[0m\u001b[0;34m,\u001b[0m\u001b[0mfs\u001b[0m\u001b[0;34m)\u001b[0m\u001b[0;34m\u001b[0m\u001b[0;34m\u001b[0m\u001b[0m\n\u001b[0m\u001b[1;32m    173\u001b[0m \u001b[0;34m\u001b[0m\u001b[0m\n\u001b[1;32m    174\u001b[0m     \u001b[0;31m#TODO: compute also F0 with pysptk (a python wrapper for SPTK library), it probably gives better results\u001b[0m\u001b[0;34m\u001b[0m\u001b[0;34m\u001b[0m\u001b[0;34m\u001b[0m\u001b[0m\n",
      "\u001b[0;32m<__array_function__ internals>\u001b[0m in \u001b[0;36mapply_along_axis\u001b[0;34m(*args, **kwargs)\u001b[0m\n",
      "\u001b[0;32m~/.local/lib/python3.6/site-packages/numpy/lib/shape_base.py\u001b[0m in \u001b[0;36mapply_along_axis\u001b[0;34m(func1d, axis, arr, *args, **kwargs)\u001b[0m\n\u001b[1;32m    377\u001b[0m     \u001b[0;32mexcept\u001b[0m \u001b[0mStopIteration\u001b[0m\u001b[0;34m:\u001b[0m\u001b[0;34m\u001b[0m\u001b[0;34m\u001b[0m\u001b[0m\n\u001b[1;32m    378\u001b[0m         \u001b[0;32mraise\u001b[0m \u001b[0mValueError\u001b[0m\u001b[0;34m(\u001b[0m\u001b[0;34m'Cannot apply_along_axis when any iteration dimensions are 0'\u001b[0m\u001b[0;34m)\u001b[0m\u001b[0;34m\u001b[0m\u001b[0;34m\u001b[0m\u001b[0m\n\u001b[0;32m--> 379\u001b[0;31m     \u001b[0mres\u001b[0m \u001b[0;34m=\u001b[0m \u001b[0masanyarray\u001b[0m\u001b[0;34m(\u001b[0m\u001b[0mfunc1d\u001b[0m\u001b[0;34m(\u001b[0m\u001b[0minarr_view\u001b[0m\u001b[0;34m[\u001b[0m\u001b[0mind0\u001b[0m\u001b[0;34m]\u001b[0m\u001b[0;34m,\u001b[0m \u001b[0;34m*\u001b[0m\u001b[0margs\u001b[0m\u001b[0;34m,\u001b[0m \u001b[0;34m**\u001b[0m\u001b[0mkwargs\u001b[0m\u001b[0;34m)\u001b[0m\u001b[0;34m)\u001b[0m\u001b[0;34m\u001b[0m\u001b[0;34m\u001b[0m\u001b[0m\n\u001b[0m\u001b[1;32m    380\u001b[0m \u001b[0;34m\u001b[0m\u001b[0m\n\u001b[1;32m    381\u001b[0m     \u001b[0;31m# build a buffer for storing evaluations of func1d.\u001b[0m\u001b[0;34m\u001b[0m\u001b[0;34m\u001b[0m\u001b[0;34m\u001b[0m\u001b[0m\n",
      "\u001b[0;32m~/Desktop/cough_classification/cough_classification/featureExtractionFunctions.py\u001b[0m in \u001b[0;36mget_F0\u001b[0;34m(x, fs)\u001b[0m\n\u001b[1;32m     72\u001b[0m     \u001b[0mxcorr_slot\u001b[0m \u001b[0;34m=\u001b[0m \u001b[0mxcorr_arr\u001b[0m\u001b[0;34m[\u001b[0m\u001b[0mmax_ms\u001b[0m\u001b[0;34m+\u001b[0m\u001b[0;36m1\u001b[0m\u001b[0;34m:\u001b[0m\u001b[0;36m2\u001b[0m\u001b[0;34m*\u001b[0m\u001b[0mmax_ms\u001b[0m\u001b[0;34m+\u001b[0m\u001b[0;36m1\u001b[0m\u001b[0;34m]\u001b[0m\u001b[0;34m\u001b[0m\u001b[0;34m\u001b[0m\u001b[0m\n\u001b[1;32m     73\u001b[0m     \u001b[0mxcorr_slot\u001b[0m \u001b[0;34m=\u001b[0m \u001b[0mxcorr_slot\u001b[0m\u001b[0;34m[\u001b[0m\u001b[0mmin_ms\u001b[0m\u001b[0;34m:\u001b[0m\u001b[0mmax_ms\u001b[0m\u001b[0;34m]\u001b[0m\u001b[0;34m\u001b[0m\u001b[0;34m\u001b[0m\u001b[0m\n\u001b[0;32m---> 74\u001b[0;31m     \u001b[0mt0\u001b[0m \u001b[0;34m=\u001b[0m \u001b[0mnp\u001b[0m\u001b[0;34m.\u001b[0m\u001b[0margmax\u001b[0m\u001b[0;34m(\u001b[0m\u001b[0mxcorr_slot\u001b[0m\u001b[0;34m)\u001b[0m\u001b[0;34m\u001b[0m\u001b[0;34m\u001b[0m\u001b[0m\n\u001b[0m\u001b[1;32m     75\u001b[0m     \u001b[0mF0\u001b[0m \u001b[0;34m=\u001b[0m \u001b[0mfs\u001b[0m\u001b[0;34m/\u001b[0m\u001b[0;34m(\u001b[0m\u001b[0mmin_ms\u001b[0m\u001b[0;34m+\u001b[0m\u001b[0mt0\u001b[0m\u001b[0;34m-\u001b[0m\u001b[0;36m1\u001b[0m\u001b[0;34m)\u001b[0m\u001b[0;34m\u001b[0m\u001b[0;34m\u001b[0m\u001b[0m\n\u001b[1;32m     76\u001b[0m     \u001b[0;32mreturn\u001b[0m \u001b[0mF0\u001b[0m\u001b[0;34m\u001b[0m\u001b[0;34m\u001b[0m\u001b[0m\n",
      "\u001b[0;32m<__array_function__ internals>\u001b[0m in \u001b[0;36margmax\u001b[0;34m(*args, **kwargs)\u001b[0m\n",
      "\u001b[0;32m~/.local/lib/python3.6/site-packages/numpy/core/fromnumeric.py\u001b[0m in \u001b[0;36margmax\u001b[0;34m(a, axis, out)\u001b[0m\n\u001b[1;32m   1184\u001b[0m \u001b[0;34m\u001b[0m\u001b[0m\n\u001b[1;32m   1185\u001b[0m     \"\"\"\n\u001b[0;32m-> 1186\u001b[0;31m     \u001b[0;32mreturn\u001b[0m \u001b[0m_wrapfunc\u001b[0m\u001b[0;34m(\u001b[0m\u001b[0ma\u001b[0m\u001b[0;34m,\u001b[0m \u001b[0;34m'argmax'\u001b[0m\u001b[0;34m,\u001b[0m \u001b[0maxis\u001b[0m\u001b[0;34m=\u001b[0m\u001b[0maxis\u001b[0m\u001b[0;34m,\u001b[0m \u001b[0mout\u001b[0m\u001b[0;34m=\u001b[0m\u001b[0mout\u001b[0m\u001b[0;34m)\u001b[0m\u001b[0;34m\u001b[0m\u001b[0;34m\u001b[0m\u001b[0m\n\u001b[0m\u001b[1;32m   1187\u001b[0m \u001b[0;34m\u001b[0m\u001b[0m\n\u001b[1;32m   1188\u001b[0m \u001b[0;34m\u001b[0m\u001b[0m\n",
      "\u001b[0;32m~/.local/lib/python3.6/site-packages/numpy/core/fromnumeric.py\u001b[0m in \u001b[0;36m_wrapfunc\u001b[0;34m(obj, method, *args, **kwds)\u001b[0m\n\u001b[1;32m     59\u001b[0m \u001b[0;34m\u001b[0m\u001b[0m\n\u001b[1;32m     60\u001b[0m     \u001b[0;32mtry\u001b[0m\u001b[0;34m:\u001b[0m\u001b[0;34m\u001b[0m\u001b[0;34m\u001b[0m\u001b[0m\n\u001b[0;32m---> 61\u001b[0;31m         \u001b[0;32mreturn\u001b[0m \u001b[0mbound\u001b[0m\u001b[0;34m(\u001b[0m\u001b[0;34m*\u001b[0m\u001b[0margs\u001b[0m\u001b[0;34m,\u001b[0m \u001b[0;34m**\u001b[0m\u001b[0mkwds\u001b[0m\u001b[0;34m)\u001b[0m\u001b[0;34m\u001b[0m\u001b[0;34m\u001b[0m\u001b[0m\n\u001b[0m\u001b[1;32m     62\u001b[0m     \u001b[0;32mexcept\u001b[0m \u001b[0mTypeError\u001b[0m\u001b[0;34m:\u001b[0m\u001b[0;34m\u001b[0m\u001b[0;34m\u001b[0m\u001b[0m\n\u001b[1;32m     63\u001b[0m         \u001b[0;31m# A TypeError occurs if the object does have such a method in its\u001b[0m\u001b[0;34m\u001b[0m\u001b[0;34m\u001b[0m\u001b[0;34m\u001b[0m\u001b[0m\n",
      "\u001b[0;31mValueError\u001b[0m: attempt to get argmax of an empty sequence"
     ]
    }
   ],
   "source": [
    "import featureExtractionFunctions as featExtrLib\n",
    "\n",
    "if config.featExtr_skip is False:\n",
    "\n",
    "    feats = featExtrLib.feature_extraction_Step(all_s,all_id,all_label)\n",
    "    \n",
    "       "
   ]
  },
  {
   "cell_type": "markdown",
   "metadata": {},
   "source": [
    "## Load  (or store) features "
   ]
  },
  {
   "cell_type": "code",
   "execution_count": null,
   "metadata": {},
   "outputs": [],
   "source": [
    "feats_fname = 'feats_df.pkl'\n",
    "\n",
    "if config.featExtr_skip is False:\n",
    "    #Store feature df\n",
    "    feats.to_pickle(feats_fname)\n",
    "else:\n",
    "    #Load feature df\n",
    "    feats = pd.read_pickle(feats_fname)"
   ]
  },
  {
   "cell_type": "markdown",
   "metadata": {},
   "source": [
    "## Pre-processing of features"
   ]
  },
  {
   "cell_type": "code",
   "execution_count": null,
   "metadata": {},
   "outputs": [],
   "source": [
    "feats2 = featExtrLib.processingNaNvalues(feats)"
   ]
  },
  {
   "cell_type": "code",
   "execution_count": null,
   "metadata": {},
   "outputs": [],
   "source": [
    "label_dict = featExtrLib.createLabelDict_addLabel2df(feats2)\n",
    "mean_std_feats = featExtrLib.frame_mean_std_chunk_modeling (feats2,label_dict)"
   ]
  },
  {
   "cell_type": "markdown",
   "metadata": {},
   "source": [
    "## Model training"
   ]
  },
  {
   "cell_type": "code",
   "execution_count": null,
   "metadata": {},
   "outputs": [],
   "source": [
    "X_train = mean_std_feats.drop(['label','Id','subIdx'], 1).copy()\n",
    "y_train =  mean_std_feats['label'].copy()\n",
    "\n",
    "ID_train = mean_std_feats['Id']\n",
    "\n",
    "#ID_train.size"
   ]
  },
  {
   "cell_type": "code",
   "execution_count": null,
   "metadata": {},
   "outputs": [],
   "source": [
    "import modelTrainingFunctions as modelTrainLib\n",
    "\n",
    "pred_probs = modelTrainLib.modelTraining(X_train,y_train,ID_train)"
   ]
  },
  {
   "cell_type": "code",
   "execution_count": null,
   "metadata": {},
   "outputs": [],
   "source": [
    "mean_pred_probs = modelTrainLib.get_predClass_per_audio(pred_probs, label_dict)"
   ]
  },
  {
   "cell_type": "markdown",
   "metadata": {},
   "source": [
    "## Evaluation"
   ]
  },
  {
   "cell_type": "code",
   "execution_count": null,
   "metadata": {},
   "outputs": [],
   "source": [
    "import classifEvaluationFunctions as evalLib\n",
    "evalLib.evaluation_Step(mean_pred_probs)\n",
    "    "
   ]
  },
  {
   "cell_type": "code",
   "execution_count": null,
   "metadata": {},
   "outputs": [],
   "source": []
  }
 ],
 "metadata": {
  "kernelspec": {
   "display_name": "kernpy3",
   "language": "python",
   "name": "kernpy3"
  },
  "language_info": {
   "codemirror_mode": {
    "name": "ipython",
    "version": 3
   },
   "file_extension": ".py",
   "mimetype": "text/x-python",
   "name": "python",
   "nbconvert_exporter": "python",
   "pygments_lexer": "ipython3",
   "version": "3.6.9"
  }
 },
 "nbformat": 4,
 "nbformat_minor": 2
}
