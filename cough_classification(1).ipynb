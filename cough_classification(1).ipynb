{
  "nbformat": 4,
  "nbformat_minor": 0,
  "metadata": {
    "kernelspec": {
      "name": "python3",
      "display_name": "Python 3"
    },
    "language_info": {
      "codemirror_mode": {
        "name": "ipython",
        "version": 3
      },
      "file_extension": ".py",
      "mimetype": "text/x-python",
      "name": "python",
      "nbconvert_exporter": "python",
      "pygments_lexer": "ipython3",
      "version": "3.6.9"
    },
    "colab": {
      "name": "cough_classification.ipynb",
      "provenance": [],
      "collapsed_sections": [],
      "machine_shape": "hm"
    },
    "accelerator": "GPU"
  },
  "cells": [
    {
      "cell_type": "code",
      "metadata": {
        "id": "stqp12LC8T0t",
        "colab_type": "code",
        "colab": {}
      },
      "source": [
        "#Research references:\n",
        "#1) Dry/wet cough classification: https://link.springer.com/article/10.1007/s10439-013-0741-6\n",
        "#2) Pneumonia classification: https://ieeexplore.ieee.org/stamp/stamp.jsp?arnumber=6987276\n",
        "#3) https://espace.library.uq.edu.au/data/UQ_344963/s41943203_phd_submission.pdf?Expires=1585601065&Key-Pair-Id=APKAJKNBJ4MJBJNC6NLQ&Signature=Lnpf6wT8rkozSh9av7U9nGuC7WAH6KuI2Cj3Y7G366gkGlh8D-Ie1Kc~TyBAUu~uMsVltleJcSv3p6TCm6HdFnhpyoTgLcYh6eFfvQwIUqbk1Bf4JZldgB~BDKUOwY1G0pA-HoKjvIAu3avO98SMO35upakm9OEBByd4nC9aXsjKRThd6bTpq1qIuuD9gh1l5FaM6hNRB0c2lCf4Q3adx7C3FW0NMwdWhcuF45A9f~dO3zTWWSQamoo5Otc-PHMMt96TetNcML~jy9ghgJeCPY6DJLUIwQAt03fENBluS~TjTJ17WD~n51xiRofb94fEJHoRHh0d-430LLwr7BX4IA__"
      ],
      "execution_count": 0,
      "outputs": []
    },
    {
      "cell_type": "code",
      "metadata": {
        "id": "j1m0Zx8S9Cas",
        "colab_type": "code",
        "outputId": "0a733ffb-7fc7-4d97-af55-04e6e5c113f8",
        "colab": {
          "base_uri": "https://localhost:8080/",
          "height": 86
        }
      },
      "source": [
        "!pip install pydub"
      ],
      "execution_count": 2,
      "outputs": [
        {
          "output_type": "stream",
          "text": [
            "Collecting pydub\n",
            "  Downloading https://files.pythonhosted.org/packages/79/db/eaf620b73a1eec3c8c6f8f5b0b236a50f9da88ad57802154b7ba7664d0b8/pydub-0.23.1-py2.py3-none-any.whl\n",
            "Installing collected packages: pydub\n",
            "Successfully installed pydub-0.23.1\n"
          ],
          "name": "stdout"
        }
      ]
    },
    {
      "cell_type": "code",
      "metadata": {
        "id": "Sj_b7qHhVAOe",
        "colab_type": "code",
        "outputId": "f01e82dc-7134-42ab-9428-c24fb67d0c28",
        "colab": {
          "base_uri": "https://localhost:8080/",
          "height": 193
        }
      },
      "source": [
        "!pip install python_speech_features"
      ],
      "execution_count": 3,
      "outputs": [
        {
          "output_type": "stream",
          "text": [
            "Collecting python_speech_features\n",
            "  Downloading https://files.pythonhosted.org/packages/ff/d1/94c59e20a2631985fbd2124c45177abaa9e0a4eee8ba8a305aa26fc02a8e/python_speech_features-0.6.tar.gz\n",
            "Building wheels for collected packages: python-speech-features\n",
            "  Building wheel for python-speech-features (setup.py) ... \u001b[?25l\u001b[?25hdone\n",
            "  Created wheel for python-speech-features: filename=python_speech_features-0.6-cp36-none-any.whl size=5887 sha256=c30fa5b78c9dfaa86bdfefea78f68c0c507f03d097fdaa1459db02a8a62eb92c\n",
            "  Stored in directory: /root/.cache/pip/wheels/3c/42/7c/f60e9d1b40015cd69b213ad90f7c18a9264cd745b9888134be\n",
            "Successfully built python-speech-features\n",
            "Installing collected packages: python-speech-features\n",
            "Successfully installed python-speech-features-0.6\n"
          ],
          "name": "stdout"
        }
      ]
    },
    {
      "cell_type": "code",
      "metadata": {
        "id": "B3-nMncBVLHh",
        "colab_type": "code",
        "outputId": "18a33a59-7251-46d6-aa40-4f3459d0d967",
        "colab": {
          "base_uri": "https://localhost:8080/",
          "height": 280
        }
      },
      "source": [
        "!pip install pysptk"
      ],
      "execution_count": 4,
      "outputs": [
        {
          "output_type": "stream",
          "text": [
            "Collecting pysptk\n",
            "\u001b[?25l  Downloading https://files.pythonhosted.org/packages/7c/25/4ea0932fbf0f1db42934b85011c1c825bcf57055ecde7e511f05e9fb9197/pysptk-0.1.18.tar.gz (419kB)\n",
            "\r\u001b[K     |▉                               | 10kB 21.2MB/s eta 0:00:01\r\u001b[K     |█▋                              | 20kB 3.0MB/s eta 0:00:01\r\u001b[K     |██▍                             | 30kB 4.4MB/s eta 0:00:01\r\u001b[K     |███▏                            | 40kB 2.9MB/s eta 0:00:01\r\u001b[K     |████                            | 51kB 3.5MB/s eta 0:00:01\r\u001b[K     |████▊                           | 61kB 4.2MB/s eta 0:00:01\r\u001b[K     |█████▌                          | 71kB 4.7MB/s eta 0:00:01\r\u001b[K     |██████▎                         | 81kB 3.8MB/s eta 0:00:01\r\u001b[K     |███████                         | 92kB 4.2MB/s eta 0:00:01\r\u001b[K     |███████▉                        | 102kB 4.6MB/s eta 0:00:01\r\u001b[K     |████████▋                       | 112kB 4.6MB/s eta 0:00:01\r\u001b[K     |█████████▍                      | 122kB 4.6MB/s eta 0:00:01\r\u001b[K     |██████████▏                     | 133kB 4.6MB/s eta 0:00:01\r\u001b[K     |███████████                     | 143kB 4.6MB/s eta 0:00:01\r\u001b[K     |███████████▊                    | 153kB 4.6MB/s eta 0:00:01\r\u001b[K     |████████████▌                   | 163kB 4.6MB/s eta 0:00:01\r\u001b[K     |█████████████▎                  | 174kB 4.6MB/s eta 0:00:01\r\u001b[K     |██████████████                  | 184kB 4.6MB/s eta 0:00:01\r\u001b[K     |██████████████▉                 | 194kB 4.6MB/s eta 0:00:01\r\u001b[K     |███████████████▋                | 204kB 4.6MB/s eta 0:00:01\r\u001b[K     |████████████████▍               | 215kB 4.6MB/s eta 0:00:01\r\u001b[K     |█████████████████▏              | 225kB 4.6MB/s eta 0:00:01\r\u001b[K     |██████████████████              | 235kB 4.6MB/s eta 0:00:01\r\u001b[K     |██████████████████▊             | 245kB 4.6MB/s eta 0:00:01\r\u001b[K     |███████████████████▌            | 256kB 4.6MB/s eta 0:00:01\r\u001b[K     |████████████████████▎           | 266kB 4.6MB/s eta 0:00:01\r\u001b[K     |█████████████████████           | 276kB 4.6MB/s eta 0:00:01\r\u001b[K     |█████████████████████▉          | 286kB 4.6MB/s eta 0:00:01\r\u001b[K     |██████████████████████▋         | 296kB 4.6MB/s eta 0:00:01\r\u001b[K     |███████████████████████▍        | 307kB 4.6MB/s eta 0:00:01\r\u001b[K     |████████████████████████▏       | 317kB 4.6MB/s eta 0:00:01\r\u001b[K     |█████████████████████████       | 327kB 4.6MB/s eta 0:00:01\r\u001b[K     |█████████████████████████▉      | 337kB 4.6MB/s eta 0:00:01\r\u001b[K     |██████████████████████████▋     | 348kB 4.6MB/s eta 0:00:01\r\u001b[K     |███████████████████████████▍    | 358kB 4.6MB/s eta 0:00:01\r\u001b[K     |████████████████████████████▏   | 368kB 4.6MB/s eta 0:00:01\r\u001b[K     |█████████████████████████████   | 378kB 4.6MB/s eta 0:00:01\r\u001b[K     |█████████████████████████████▊  | 389kB 4.6MB/s eta 0:00:01\r\u001b[K     |██████████████████████████████▌ | 399kB 4.6MB/s eta 0:00:01\r\u001b[K     |███████████████████████████████▎| 409kB 4.6MB/s eta 0:00:01\r\u001b[K     |████████████████████████████████| 419kB 4.6MB/s \n",
            "\u001b[?25hRequirement already satisfied: scipy in /usr/local/lib/python3.6/dist-packages (from pysptk) (1.4.1)\n",
            "Requirement already satisfied: six in /usr/local/lib/python3.6/dist-packages (from pysptk) (1.12.0)\n",
            "Requirement already satisfied: decorator in /usr/local/lib/python3.6/dist-packages (from pysptk) (4.4.2)\n",
            "Requirement already satisfied: numpy>=1.13.3 in /usr/local/lib/python3.6/dist-packages (from scipy->pysptk) (1.18.2)\n",
            "Building wheels for collected packages: pysptk\n",
            "  Building wheel for pysptk (setup.py) ... \u001b[?25l\u001b[?25hdone\n",
            "  Created wheel for pysptk: filename=pysptk-0.1.18-cp36-cp36m-linux_x86_64.whl size=950125 sha256=c5cb8d0fd2db9565ec7ea93eba06e54c80eccaaf2bdf19fb836197b6835fb289\n",
            "  Stored in directory: /root/.cache/pip/wheels/c7/96/d2/a163240019c59504402fab713af259026af81a99dea943404a\n",
            "Successfully built pysptk\n",
            "Installing collected packages: pysptk\n",
            "Successfully installed pysptk-0.1.18\n"
          ],
          "name": "stdout"
        }
      ]
    },
    {
      "cell_type": "code",
      "metadata": {
        "id": "ie785avw8T06",
        "colab_type": "code",
        "colab": {}
      },
      "source": [
        "import numpy as np\n",
        "import os\n",
        "#import pywt #wavelets\n",
        "from pydub import AudioSegment\n",
        "from pydub.silence import split_on_silence\n",
        "from pydub.utils import mediainfo\n",
        "from pydub.playback import play\n",
        "import matplotlib.pyplot as plt\n",
        "#import seaborn as sn\n",
        "import python_speech_features as spe_feats\n",
        "import pandas as pd\n",
        "from scipy.stats import kurtosis, skew\n",
        "from scipy.signal import lfilter\n",
        "import librosa\n",
        "import pysptk\n",
        "import math\n",
        "import sys\n",
        "import random\n",
        "random.seed(1)\n",
        "#settings\n",
        "import config\n"
      ],
      "execution_count": 0,
      "outputs": []
    },
    {
      "cell_type": "markdown",
      "metadata": {
        "id": "J1n9GnYA8T1F",
        "colab_type": "text"
      },
      "source": [
        "## Reading recordings"
      ]
    },
    {
      "cell_type": "code",
      "metadata": {
        "id": "R3txTjKc8T1H",
        "colab_type": "code",
        "colab": {}
      },
      "source": [
        "all_s=[]\n",
        "all_label=[]\n",
        "all_id=[]\n",
        "all_fs=[]"
      ],
      "execution_count": 0,
      "outputs": []
    },
    {
      "cell_type": "code",
      "metadata": {
        "id": "FwUzL_hJ_xyK",
        "colab_type": "code",
        "colab": {}
      },
      "source": [
        "import sys  \n",
        "sys.path.insert(0, '/content/config.py') #/content/config.py"
      ],
      "execution_count": 0,
      "outputs": []
    },
    {
      "cell_type": "code",
      "metadata": {
        "id": "CdjMzqVR8T1P",
        "colab_type": "code",
        "outputId": "f361f856-759c-41bc-f7d6-ee5915e728f5",
        "colab": {
          "base_uri": "https://localhost:8080/",
          "height": 1000
        }
      },
      "source": [
        "#Read wav data set\n",
        "\n",
        "if config.featExtr_skip is False:\n",
        "    print(\"Readings wavs...\")\n",
        "\n",
        "    #only list files in FOLDER_PATH directory\n",
        "    wav_files = [f for f in os.listdir(config.FOLDER_PATH) if os.path.isfile(os.path.join(config.FOLDER_PATH, f))]\n",
        "    for file_name in wav_files:\n",
        "    \n",
        "        fname_noExt = os.path.splitext(file_name)[0] #file name without extension\n",
        "    \n",
        "        #full path file name\n",
        "        full_fname = config.FOLDER_PATH+file_name\n",
        "        print(full_fname)\n",
        "    \n",
        "        # load audio\n",
        "        s = AudioSegment.from_wav(full_fname)\n",
        "        print(full_fname)\n",
        "        all_s.append(s)\n",
        "        #sampling rate:\n",
        "        info = mediainfo(full_fname)\n",
        "        fs = float(info['sample_rate'])\n",
        "        all_fs.append(fs)\n",
        "    \n",
        "        #get ID of recording\n",
        "        ID = fname_noExt.split('-')[-2] #for the current type of naming\n",
        "        #print(file_name)\n",
        "        #print(ID)\n",
        "        all_id.append(ID)\n",
        "    \n",
        "        #get label\n",
        "        label = fname_noExt.split('-')[-1] #for the current type of naming\n",
        "        #print(label)\n",
        "        all_label.append(label)"
      ],
      "execution_count": 3,
      "outputs": [
        {
          "output_type": "stream",
          "text": [
            "Readings wavs...\n",
            "data/YT_set/edited_wavs/edit_Spring Cold Coughing.-u2KMBD5-oCg-Dry.wav\n",
            "data/YT_set/edited_wavs/edit_Spring Cold Coughing.-u2KMBD5-oCg-Dry.wav\n",
            "data/YT_set/edited_wavs/edit_Coughing 14 - After work-1UDFq2InljM-Dry.wav\n",
            "data/YT_set/edited_wavs/edit_Coughing 14 - After work-1UDFq2InljM-Dry.wav\n",
            "data/YT_set/edited_wavs/edit_# 30 Chesty and wet cough-d2wkdrScerU-Wet.wav\n",
            "data/YT_set/edited_wavs/edit_# 30 Chesty and wet cough-d2wkdrScerU-Wet.wav\n",
            "data/YT_set/edited_wavs/edit_Man Coughing Sound - Wet Cough Sound Effect-q6WsoL3J8U8-Wet.wav\n",
            "data/YT_set/edited_wavs/edit_Man Coughing Sound - Wet Cough Sound Effect-q6WsoL3J8U8-Wet.wav\n",
            "data/YT_set/edited_wavs/edit_Dry Afternoon Cough-6LK6yHtIung-Dry.wav\n",
            "data/YT_set/edited_wavs/edit_Dry Afternoon Cough-6LK6yHtIung-Dry.wav\n",
            "data/YT_set/edited_wavs/edit_Coughing 51-LkxvBb2VXbs-Dry.wav\n",
            "data/YT_set/edited_wavs/edit_Coughing 51-LkxvBb2VXbs-Dry.wav\n",
            "data/YT_set/edited_wavs/edit_Heavy cold and sore throat coughing.-NaOVmYoIjbs-Dry.wav\n",
            "data/YT_set/edited_wavs/edit_Heavy cold and sore throat coughing.-NaOVmYoIjbs-Dry.wav\n",
            "data/YT_set/edited_wavs/edit_More Allergy Coughing-NfKZNt25L-Q-Dry.wav\n",
            "data/YT_set/edited_wavs/edit_More Allergy Coughing-NfKZNt25L-Q-Dry.wav\n",
            "data/YT_set/edited_wavs/edit_# 34 coughing up crap again-rkF_uMizqoc-Wet.wav\n",
            "data/YT_set/edited_wavs/edit_# 34 coughing up crap again-rkF_uMizqoc-Wet.wav\n",
            "data/YT_set/edited_wavs/edit_# 31 night wet cough-Dc_aoUCqw2E-Wet.wav\n",
            "data/YT_set/edited_wavs/edit_# 31 night wet cough-Dc_aoUCqw2E-Wet.wav\n",
            "data/YT_set/edited_wavs/edit_My deep wet cough-De4HdyocTHY-Wet.wav\n",
            "data/YT_set/edited_wavs/edit_My deep wet cough-De4HdyocTHY-Wet.wav\n",
            "data/YT_set/edited_wavs/edit_Male bronchitis cough-IzPMbIll3LE-Wet.wav\n",
            "data/YT_set/edited_wavs/edit_Male bronchitis cough-IzPMbIll3LE-Wet.wav\n",
            "data/YT_set/edited_wavs/edit_November cold (wet coughing)-DYfjPnty2Ho-Wet.wav\n",
            "data/YT_set/edited_wavs/edit_November cold (wet coughing)-DYfjPnty2Ho-Wet.wav\n",
            "data/YT_set/edited_wavs/edit_# 60 coughing still (deep and wet cough)-jxYNLCYTwZQ-Wet.wav\n",
            "data/YT_set/edited_wavs/edit_# 60 coughing still (deep and wet cough)-jxYNLCYTwZQ-Wet.wav\n",
            "data/YT_set/edited_wavs/edit_Dry Morning Cough turns Chesty and Barking.-ekqLlw-Xe68-Dry.wav\n",
            "data/YT_set/edited_wavs/edit_Dry Morning Cough turns Chesty and Barking.-ekqLlw-Xe68-Dry.wav\n",
            "data/YT_set/edited_wavs/edit_#64 coughing, allergies, singing lungs-CsDXlt7Ei1c-Wet.wav\n",
            "data/YT_set/edited_wavs/edit_#64 coughing, allergies, singing lungs-CsDXlt7Ei1c-Wet.wav\n",
            "data/YT_set/edited_wavs/edit_Single wet cough-CTSLdNxN1cc-Wet.wav\n",
            "data/YT_set/edited_wavs/edit_Single wet cough-CTSLdNxN1cc-Wet.wav\n",
            "data/YT_set/edited_wavs/edit_Spring Allergy Coughing-7Ez5Wc_esBg-Dry.wav\n",
            "data/YT_set/edited_wavs/edit_Spring Allergy Coughing-7Ez5Wc_esBg-Dry.wav\n",
            "data/YT_set/edited_wavs/edit_Coughing 46-dg-I9j76-t8-Wet.wav\n",
            "data/YT_set/edited_wavs/edit_Coughing 46-dg-I9j76-t8-Wet.wav\n",
            "data/YT_set/edited_wavs/edit_Cough Around the Clock!-4k0ziD0j5BI-Wet.wav\n",
            "data/YT_set/edited_wavs/edit_Cough Around the Clock!-4k0ziD0j5BI-Wet.wav\n",
            "data/YT_set/edited_wavs/edit_Coughing 77-2Mw-s5jnqXU-Wet.wav\n",
            "data/YT_set/edited_wavs/edit_Coughing 77-2Mw-s5jnqXU-Wet.wav\n",
            "data/YT_set/edited_wavs/edit_Dry Coughing Fit in the Afternoon.-A5s2ZgwQ1VM-Dry.wav\n",
            "data/YT_set/edited_wavs/edit_Dry Coughing Fit in the Afternoon.-A5s2ZgwQ1VM-Dry.wav\n",
            "data/YT_set/edited_wavs/edit_DIST_Another Girl Coughing-iYxUHA-Pwsk-Dry.wav\n",
            "data/YT_set/edited_wavs/edit_DIST_Another Girl Coughing-iYxUHA-Pwsk-Dry.wav\n",
            "data/YT_set/edited_wavs/edit_Wet coughing-0QQxKN-KC1U-Wet.wav\n",
            "data/YT_set/edited_wavs/edit_Wet coughing-0QQxKN-KC1U-Wet.wav\n",
            "data/YT_set/edited_wavs/edit_# 55 gaggy wet cough-ct3tHDfNKiQ-Wet.wav\n",
            "data/YT_set/edited_wavs/edit_# 55 gaggy wet cough-ct3tHDfNKiQ-Wet.wav\n",
            "data/YT_set/edited_wavs/edit_DIST_Coughing 79-h2FLCKMcEX0-Wet.wav\n",
            "data/YT_set/edited_wavs/edit_DIST_Coughing 79-h2FLCKMcEX0-Wet.wav\n",
            "data/YT_set/edited_wavs/edit_Residual Phlegmy Morning Coughing and Gagging-TK4CveeCWfY-Wet.wav\n",
            "data/YT_set/edited_wavs/edit_Residual Phlegmy Morning Coughing and Gagging-TK4CveeCWfY-Wet.wav\n",
            "data/YT_set/edited_wavs/edit_Spring Cold Coughing 3-tZtJaS2ZtME-Dry.wav\n",
            "data/YT_set/edited_wavs/edit_Spring Cold Coughing 3-tZtJaS2ZtME-Dry.wav\n",
            "data/YT_set/edited_wavs/edit_Spring Cold Coughing 2-AQOeIVbhFm4-Dry.wav\n",
            "data/YT_set/edited_wavs/edit_Spring Cold Coughing 2-AQOeIVbhFm4-Dry.wav\n",
            "data/YT_set/edited_wavs/edit_# 61 morning phlegmy cough...again-qfpJg179YNk-Wet.wav\n",
            "data/YT_set/edited_wavs/edit_# 61 morning phlegmy cough...again-qfpJg179YNk-Wet.wav\n",
            "data/YT_set/edited_wavs/edit_Coughing 60-diuuEXKzNB8-Wet.wav\n",
            "data/YT_set/edited_wavs/edit_Coughing 60-diuuEXKzNB8-Wet.wav\n",
            "data/YT_set/edited_wavs/edit_Wheezing Chest and Wet Cough 2-5905FxXz9dI-Wet.wav\n",
            "data/YT_set/edited_wavs/edit_Wheezing Chest and Wet Cough 2-5905FxXz9dI-Wet.wav\n",
            "data/YT_set/edited_wavs/edit_Dry Early Morning Cough-XrpB4DTNQZw-Dry.wav\n",
            "data/YT_set/edited_wavs/edit_Dry Early Morning Cough-XrpB4DTNQZw-Dry.wav\n",
            "data/YT_set/edited_wavs/edit_Wet Throat Infection Cough-tfc5cXiXMDc-Wet.wav\n",
            "data/YT_set/edited_wavs/edit_Wet Throat Infection Cough-tfc5cXiXMDc-Wet.wav\n",
            "data/YT_set/edited_wavs/edit_Mid-morning Winter Coughing Fit-h-GtQfDCoaE-Dry.wav\n",
            "data/YT_set/edited_wavs/edit_Mid-morning Winter Coughing Fit-h-GtQfDCoaE-Dry.wav\n",
            "data/YT_set/edited_wavs/edit_Coughing Woman Sound - Woman Cough Sound Effect-zjd4HrJbc8o-Dry.wav\n",
            "data/YT_set/edited_wavs/edit_Coughing Woman Sound - Woman Cough Sound Effect-zjd4HrJbc8o-Dry.wav\n"
          ],
          "name": "stdout"
        }
      ]
    },
    {
      "cell_type": "code",
      "metadata": {
        "id": "PVSYcKO2BhR8",
        "colab_type": "code",
        "colab": {
          "base_uri": "https://localhost:8080/",
          "height": 34
        },
        "outputId": "ea61cf9f-27d8-4a47-e858-b01314347159"
      },
      "source": [
        "len(wav_files) # Total 36 files uploaded "
      ],
      "execution_count": 4,
      "outputs": [
        {
          "output_type": "execute_result",
          "data": {
            "text/plain": [
              "36"
            ]
          },
          "metadata": {
            "tags": []
          },
          "execution_count": 4
        }
      ]
    },
    {
      "cell_type": "markdown",
      "metadata": {
        "id": "jFAzqvQW8T1Y",
        "colab_type": "text"
      },
      "source": [
        "Listening to some of the audios"
      ]
    },
    {
      "cell_type": "code",
      "metadata": {
        "id": "2oxmpskq8T1Z",
        "colab_type": "code",
        "colab": {}
      },
      "source": [
        "if config.featExtr_skip is False:\n",
        "    np.where(np.array(all_label)=='Dry')"
      ],
      "execution_count": 0,
      "outputs": []
    },
    {
      "cell_type": "code",
      "metadata": {
        "id": "aGZPNaA38T1g",
        "colab_type": "code",
        "colab": {}
      },
      "source": [
        "if config.featExtr_skip is False:\n",
        "    np.where(np.array(all_label)=='Wet')"
      ],
      "execution_count": 0,
      "outputs": []
    },
    {
      "cell_type": "code",
      "metadata": {
        "id": "Bw2Gy7qT8T1n",
        "colab_type": "code",
        "colab": {}
      },
      "source": [
        "if config.featExtr_skip is False:\n",
        "    s=all_s[15]\n",
        "    s"
      ],
      "execution_count": 0,
      "outputs": []
    },
    {
      "cell_type": "markdown",
      "metadata": {
        "id": "X7AMbOk78T1t",
        "colab_type": "text"
      },
      "source": [
        "## Feature extraction"
      ]
    },
    {
      "cell_type": "code",
      "metadata": {
        "id": "cxLTUbJZxQPj",
        "colab_type": "code",
        "outputId": "683ab5c5-1cee-4617-a1a3-a644c83ddc70",
        "colab": {
          "base_uri": "https://localhost:8080/",
          "height": 437
        }
      },
      "source": [
        "!pip install git+https://github.com/r9y9/pysptk"
      ],
      "execution_count": 0,
      "outputs": [
        {
          "output_type": "stream",
          "text": [
            "Collecting git+https://github.com/r9y9/pysptk\n",
            "  Cloning https://github.com/r9y9/pysptk to /tmp/pip-req-build-6u74m302\n",
            "  Running command git clone -q https://github.com/r9y9/pysptk /tmp/pip-req-build-6u74m302\n",
            "  Running command git submodule update --init --recursive -q\n",
            "Requirement already satisfied: scipy in /usr/local/lib/python3.6/dist-packages (from pysptk==0.1.19+dbc194c) (1.4.1)\n",
            "Requirement already satisfied: six in /usr/local/lib/python3.6/dist-packages (from pysptk==0.1.19+dbc194c) (1.12.0)\n",
            "Requirement already satisfied: decorator in /usr/local/lib/python3.6/dist-packages (from pysptk==0.1.19+dbc194c) (4.4.2)\n",
            "Requirement already satisfied: numpy>=1.13.3 in /usr/local/lib/python3.6/dist-packages (from scipy->pysptk==0.1.19+dbc194c) (1.18.2)\n",
            "Building wheels for collected packages: pysptk\n",
            "  Building wheel for pysptk (setup.py) ... \u001b[?25l\u001b[?25hdone\n",
            "  Created wheel for pysptk: filename=pysptk-0.1.19+dbc194c-cp36-cp36m-linux_x86_64.whl size=951981 sha256=67fb69d07f780bfa92ef3ec6cf2c20020c8ef7e5dc2636e0a12aad767abfd0c0\n",
            "  Stored in directory: /tmp/pip-ephem-wheel-cache-3pwu12so/wheels/2a/28/31/a8ae9718b5bd5b21d46703b1d34d3c87f4cf4e604e2413607b\n",
            "Successfully built pysptk\n",
            "Installing collected packages: pysptk\n",
            "  Found existing installation: pysptk 0.1.18\n",
            "    Uninstalling pysptk-0.1.18:\n",
            "      Successfully uninstalled pysptk-0.1.18\n",
            "Successfully installed pysptk-0.1.19+dbc194c\n"
          ],
          "name": "stdout"
        },
        {
          "output_type": "display_data",
          "data": {
            "application/vnd.colab-display-data+json": {
              "pip_warning": {
                "packages": [
                  "pysptk"
                ]
              }
            }
          },
          "metadata": {
            "tags": []
          }
        }
      ]
    },
    {
      "cell_type": "code",
      "metadata": {
        "id": "HjONKlk53kZA",
        "colab_type": "code",
        "outputId": "633dbc97-f8a7-46cc-9a6a-7024e19d8baa",
        "colab": {
          "base_uri": "https://localhost:8080/",
          "height": 34
        }
      },
      "source": [
        "import numpy as np\n",
        "np.shape(all_label)\n"
      ],
      "execution_count": 7,
      "outputs": [
        {
          "output_type": "execute_result",
          "data": {
            "text/plain": [
              "(36,)"
            ]
          },
          "metadata": {
            "tags": []
          },
          "execution_count": 7
        }
      ]
    },
    {
      "cell_type": "code",
      "metadata": {
        "id": "LT0xoIPI8T1u",
        "colab_type": "code",
        "outputId": "20b4dbef-46bf-4a25-e9f8-c3384b00a8fb",
        "colab": {
          "base_uri": "https://localhost:8080/",
          "height": 1000
        }
      },
      "source": [
        "import featureExtractionFunctions as featExtrLib\n",
        "import pysptk\n",
        "if config.featExtr_skip is False:\n",
        "\n",
        "    feats = featExtrLib.feature_extraction_Step(all_s,all_id,all_label)\n",
        "    \n",
        "       \n",
        "#Lenght of all_s, all_id and all_label must be the same\n",
        "       #Lenght is 36, of a ll arguments "
      ],
      "execution_count": 7,
      "outputs": [
        {
          "output_type": "stream",
          "text": [
            "High-pass filtering...\n",
            "Computing features...\n",
            "High-pass filtering...\n",
            "Computing features...\n",
            "High-pass filtering...\n",
            "Computing features...\n",
            "High-pass filtering...\n",
            "Computing features...\n",
            "High-pass filtering...\n",
            "Computing features...\n",
            "High-pass filtering...\n",
            "Computing features...\n",
            "High-pass filtering...\n",
            "Computing features...\n",
            "High-pass filtering...\n",
            "Computing features...\n",
            "High-pass filtering...\n",
            "Computing features...\n",
            "High-pass filtering...\n",
            "Computing features...\n",
            "High-pass filtering...\n",
            "Computing features...\n",
            "High-pass filtering...\n",
            "Computing features...\n",
            "High-pass filtering...\n",
            "Computing features...\n",
            "High-pass filtering...\n",
            "Computing features...\n",
            "High-pass filtering...\n",
            "Computing features...\n",
            "High-pass filtering...\n",
            "Computing features...\n",
            "High-pass filtering...\n",
            "Computing features...\n",
            "High-pass filtering...\n",
            "Computing features...\n",
            "High-pass filtering...\n",
            "Computing features...\n",
            "High-pass filtering...\n",
            "Computing features...\n",
            "High-pass filtering...\n",
            "Computing features...\n",
            "High-pass filtering...\n",
            "Computing features...\n",
            "High-pass filtering...\n",
            "Computing features...\n",
            "High-pass filtering...\n",
            "Computing features...\n",
            "High-pass filtering...\n",
            "Computing features...\n",
            "High-pass filtering...\n",
            "Computing features...\n",
            "High-pass filtering...\n",
            "Computing features...\n",
            "High-pass filtering...\n",
            "Computing features...\n",
            "High-pass filtering...\n",
            "Computing features...\n",
            "High-pass filtering...\n",
            "Computing features...\n",
            "High-pass filtering...\n",
            "Computing features...\n",
            "High-pass filtering...\n",
            "Computing features...\n",
            "High-pass filtering...\n",
            "Computing features...\n",
            "High-pass filtering...\n",
            "Computing features...\n",
            "High-pass filtering...\n",
            "Computing features...\n",
            "High-pass filtering...\n",
            "Computing features...\n"
          ],
          "name": "stdout"
        }
      ]
    },
    {
      "cell_type": "code",
      "metadata": {
        "id": "yIivFH5V9T7m",
        "colab_type": "code",
        "outputId": "3e699cdb-9398-41c9-d0bc-5150707dfad4",
        "colab": {
          "base_uri": "https://localhost:8080/",
          "height": 34
        }
      },
      "source": [
        "feats.shape"
      ],
      "execution_count": 0,
      "outputs": [
        {
          "output_type": "execute_result",
          "data": {
            "text/plain": [
              "(4470, 25)"
            ]
          },
          "metadata": {
            "tags": []
          },
          "execution_count": 9
        }
      ]
    },
    {
      "cell_type": "markdown",
      "metadata": {
        "id": "GK2O13YX8T11",
        "colab_type": "text"
      },
      "source": [
        "## Load  (or store) features "
      ]
    },
    {
      "cell_type": "code",
      "metadata": {
        "id": "UNWjMyke8T12",
        "colab_type": "code",
        "colab": {}
      },
      "source": [
        "feats_fname = 'feats_df.pkl'\n",
        "\n",
        "if config.featExtr_skip is False:\n",
        "    #Store feature df\n",
        "    feats.to_pickle(feats_fname)\n",
        "else:\n",
        "    #Load feature df\n",
        "    feats = pd.read_pickle(feats_fname)"
      ],
      "execution_count": 0,
      "outputs": []
    },
    {
      "cell_type": "markdown",
      "metadata": {
        "id": "OM_uxal58T19",
        "colab_type": "text"
      },
      "source": [
        "## Pre-processing of features"
      ]
    },
    {
      "cell_type": "code",
      "metadata": {
        "id": "hIayUJ108T19",
        "colab_type": "code",
        "colab": {}
      },
      "source": [
        "feats2 = featExtrLib.processingNaNvalues(feats)"
      ],
      "execution_count": 0,
      "outputs": []
    },
    {
      "cell_type": "code",
      "metadata": {
        "id": "uk4bLREC8T2D",
        "colab_type": "code",
        "colab": {}
      },
      "source": [
        "label_dict = featExtrLib.createLabelDict_addLabel2df(feats2)\n",
        "mean_std_feats = featExtrLib.frame_mean_std_chunk_modeling (feats2,label_dict)"
      ],
      "execution_count": 0,
      "outputs": []
    },
    {
      "cell_type": "code",
      "metadata": {
        "id": "jiCuV5WMo3go",
        "colab_type": "code",
        "colab": {
          "base_uri": "https://localhost:8080/",
          "height": 34
        },
        "outputId": "b7c0a5f9-9986-4656-813a-73dbcb6bcdf6"
      },
      "source": [
        "mean_std_feats.shape"
      ],
      "execution_count": 11,
      "outputs": [
        {
          "output_type": "execute_result",
          "data": {
            "text/plain": [
              "(465, 49)"
            ]
          },
          "metadata": {
            "tags": []
          },
          "execution_count": 11
        }
      ]
    },
    {
      "cell_type": "markdown",
      "metadata": {
        "id": "nBENHFc-8T2K",
        "colab_type": "text"
      },
      "source": [
        "## Model training"
      ]
    },
    {
      "cell_type": "code",
      "metadata": {
        "id": "7vUsIhkC8T2L",
        "colab_type": "code",
        "colab": {}
      },
      "source": [
        "X_train = mean_std_feats.drop(['label','Id','subIdx'], 1).copy()\n",
        "y_train =  mean_std_feats['label'].copy()\n",
        "\n",
        "ID_train = mean_std_feats['Id']\n",
        "\n",
        "#ID_train.size"
      ],
      "execution_count": 0,
      "outputs": []
    },
    {
      "cell_type": "code",
      "metadata": {
        "id": "B5PY-NuVemmm",
        "colab_type": "code",
        "colab": {
          "base_uri": "https://localhost:8080/",
          "height": 34
        },
        "outputId": "f65301bd-1aa5-429d-db09-a4bb5cbfdc5f"
      },
      "source": [
        "y_train.isnull().sum()"
      ],
      "execution_count": 13,
      "outputs": [
        {
          "output_type": "execute_result",
          "data": {
            "text/plain": [
              "0"
            ]
          },
          "metadata": {
            "tags": []
          },
          "execution_count": 13
        }
      ]
    },
    {
      "cell_type": "code",
      "metadata": {
        "id": "Tef6_iIJeEOg",
        "colab_type": "code",
        "colab": {
          "base_uri": "https://localhost:8080/",
          "height": 833
        },
        "outputId": "5f26f829-c245-43bd-e922-b735eec5dbcd"
      },
      "source": [
        "X_train.isnull().sum()"
      ],
      "execution_count": 14,
      "outputs": [
        {
          "output_type": "execute_result",
          "data": {
            "text/plain": [
              "kurt_m           0\n",
              "logEnergy_m      0\n",
              "zcr_m            0\n",
              "F0_m             0\n",
              "skewness_m       0\n",
              "entropy_m        0\n",
              "mfcc_0_m         0\n",
              "mfcc_1_m         0\n",
              "mfcc_2_m         0\n",
              "mfcc_3_m         0\n",
              "mfcc_4_m         0\n",
              "mfcc_5_m         0\n",
              "mfcc_6_m         0\n",
              "mfcc_7_m         0\n",
              "mfcc_8_m         0\n",
              "mfcc_9_m         0\n",
              "mfcc_10_m        0\n",
              "mfcc_11_m        0\n",
              "mfcc_12_m        0\n",
              "F1_m             0\n",
              "F2_m             0\n",
              "F3_m             0\n",
              "F4_m             0\n",
              "kurt_std         0\n",
              "logEnergy_std    0\n",
              "zcr_std          0\n",
              "F0_std           0\n",
              "skewness_std     0\n",
              "entropy_std      0\n",
              "mfcc_0_std       0\n",
              "mfcc_1_std       0\n",
              "mfcc_2_std       0\n",
              "mfcc_3_std       0\n",
              "mfcc_4_std       0\n",
              "mfcc_5_std       0\n",
              "mfcc_6_std       0\n",
              "mfcc_7_std       0\n",
              "mfcc_8_std       0\n",
              "mfcc_9_std       0\n",
              "mfcc_10_std      0\n",
              "mfcc_11_std      0\n",
              "mfcc_12_std      0\n",
              "F1_std           0\n",
              "F2_std           0\n",
              "F3_std           0\n",
              "F4_std           0\n",
              "dtype: int64"
            ]
          },
          "metadata": {
            "tags": []
          },
          "execution_count": 14
        }
      ]
    },
    {
      "cell_type": "code",
      "metadata": {
        "id": "zKviSIj8mCR6",
        "colab_type": "code",
        "colab": {
          "base_uri": "https://localhost:8080/",
          "height": 34
        },
        "outputId": "cd51152b-44f5-4543-d669-01d8aeb955d4"
      },
      "source": [
        "X_train.shape"
      ],
      "execution_count": 15,
      "outputs": [
        {
          "output_type": "execute_result",
          "data": {
            "text/plain": [
              "(465, 46)"
            ]
          },
          "metadata": {
            "tags": []
          },
          "execution_count": 15
        }
      ]
    },
    {
      "cell_type": "code",
      "metadata": {
        "id": "8Af35SDHmF6F",
        "colab_type": "code",
        "colab": {
          "base_uri": "https://localhost:8080/",
          "height": 34
        },
        "outputId": "01b10008-df72-4189-e6c9-e7000255408c"
      },
      "source": [
        "y_train.shape"
      ],
      "execution_count": 16,
      "outputs": [
        {
          "output_type": "execute_result",
          "data": {
            "text/plain": [
              "(465,)"
            ]
          },
          "metadata": {
            "tags": []
          },
          "execution_count": 16
        }
      ]
    },
    {
      "cell_type": "code",
      "metadata": {
        "id": "h-WCZejj8T2R",
        "colab_type": "code",
        "colab": {}
      },
      "source": [
        "import modelTrainingFunctions as modelTrainLib\n",
        "\n",
        "pred_probs = modelTrainLib.modelTraining(X_train,y_train,ID_train)"
      ],
      "execution_count": 0,
      "outputs": []
    },
    {
      "cell_type": "code",
      "metadata": {
        "id": "x6HOrLmp8T2W",
        "colab_type": "code",
        "colab": {}
      },
      "source": [
        "mean_pred_probs = modelTrainLib.get_predClass_per_audio(pred_probs, label_dict)"
      ],
      "execution_count": 0,
      "outputs": []
    },
    {
      "cell_type": "markdown",
      "metadata": {
        "id": "7H_f9Rzt8T2c",
        "colab_type": "text"
      },
      "source": [
        "## Evaluation"
      ]
    },
    {
      "cell_type": "code",
      "metadata": {
        "id": "igPnYto-8T2d",
        "colab_type": "code",
        "outputId": "d11da6eb-fc60-480b-b390-e1d423b3b0f1",
        "colab": {
          "base_uri": "https://localhost:8080/",
          "height": 225
        }
      },
      "source": [
        "import classifEvaluationFunctions as evalLib\n",
        "evalLib.evaluation_Step(mean_pred_probs)\n",
        "    "
      ],
      "execution_count": 15,
      "outputs": [
        {
          "output_type": "stream",
          "text": [
            "Scores:\n",
            "Accuracy: 0.750000\n",
            "Precision: 0.750000\n",
            "F1-score: 0.748252\n",
            "Recall: 0.757143\n",
            "\n",
            "Confusion matrix\n",
            "pred_class  Dry  Wet  All\n",
            "label                    \n",
            "Dry          12    3   15\n",
            "Wet           6   15   21\n",
            "All          18   18   36\n"
          ],
          "name": "stdout"
        }
      ]
    },
    {
      "cell_type": "code",
      "metadata": {
        "id": "XasVuLieOYfq",
        "colab_type": "code",
        "colab": {
          "base_uri": "https://localhost:8080/",
          "height": 1000
        },
        "outputId": "354712cb-1257-4efe-ce1f-a4cc2f09cee2"
      },
      "source": [
        "#Test data set\n",
        "\n",
        "mean_pred_probs"
      ],
      "execution_count": 45,
      "outputs": [
        {
          "output_type": "execute_result",
          "data": {
            "text/html": [
              "<div>\n",
              "<style scoped>\n",
              "    .dataframe tbody tr th:only-of-type {\n",
              "        vertical-align: middle;\n",
              "    }\n",
              "\n",
              "    .dataframe tbody tr th {\n",
              "        vertical-align: top;\n",
              "    }\n",
              "\n",
              "    .dataframe thead th {\n",
              "        text-align: right;\n",
              "    }\n",
              "</style>\n",
              "<table border=\"1\" class=\"dataframe\">\n",
              "  <thead>\n",
              "    <tr style=\"text-align: right;\">\n",
              "      <th></th>\n",
              "      <th>ID</th>\n",
              "      <th>Dry</th>\n",
              "      <th>Wet</th>\n",
              "      <th>pred_class</th>\n",
              "      <th>label</th>\n",
              "    </tr>\n",
              "  </thead>\n",
              "  <tbody>\n",
              "    <tr>\n",
              "      <th>0</th>\n",
              "      <td>1UDFq2InljM</td>\n",
              "      <td>0.600415</td>\n",
              "      <td>0.399585</td>\n",
              "      <td>Dry</td>\n",
              "      <td>Dry</td>\n",
              "    </tr>\n",
              "    <tr>\n",
              "      <th>1</th>\n",
              "      <td>4k0ziD0j5BI</td>\n",
              "      <td>0.518717</td>\n",
              "      <td>0.481283</td>\n",
              "      <td>Dry</td>\n",
              "      <td>Wet</td>\n",
              "    </tr>\n",
              "    <tr>\n",
              "      <th>2</th>\n",
              "      <td>5905FxXz9dI</td>\n",
              "      <td>0.659030</td>\n",
              "      <td>0.340970</td>\n",
              "      <td>Dry</td>\n",
              "      <td>Wet</td>\n",
              "    </tr>\n",
              "    <tr>\n",
              "      <th>3</th>\n",
              "      <td>6LK6yHtIung</td>\n",
              "      <td>0.158980</td>\n",
              "      <td>0.841020</td>\n",
              "      <td>Wet</td>\n",
              "      <td>Dry</td>\n",
              "    </tr>\n",
              "    <tr>\n",
              "      <th>4</th>\n",
              "      <td>7Ez5Wc_esBg</td>\n",
              "      <td>0.881907</td>\n",
              "      <td>0.118093</td>\n",
              "      <td>Dry</td>\n",
              "      <td>Dry</td>\n",
              "    </tr>\n",
              "    <tr>\n",
              "      <th>5</th>\n",
              "      <td>A5s2ZgwQ1VM</td>\n",
              "      <td>0.526694</td>\n",
              "      <td>0.473306</td>\n",
              "      <td>Dry</td>\n",
              "      <td>Dry</td>\n",
              "    </tr>\n",
              "    <tr>\n",
              "      <th>6</th>\n",
              "      <td>AQOeIVbhFm4</td>\n",
              "      <td>0.543620</td>\n",
              "      <td>0.456380</td>\n",
              "      <td>Dry</td>\n",
              "      <td>Dry</td>\n",
              "    </tr>\n",
              "    <tr>\n",
              "      <th>7</th>\n",
              "      <td>CTSLdNxN1cc</td>\n",
              "      <td>0.525691</td>\n",
              "      <td>0.474309</td>\n",
              "      <td>Dry</td>\n",
              "      <td>Wet</td>\n",
              "    </tr>\n",
              "    <tr>\n",
              "      <th>8</th>\n",
              "      <td>CsDXlt7Ei1c</td>\n",
              "      <td>0.682077</td>\n",
              "      <td>0.317923</td>\n",
              "      <td>Dry</td>\n",
              "      <td>Wet</td>\n",
              "    </tr>\n",
              "    <tr>\n",
              "      <th>9</th>\n",
              "      <td>DYfjPnty2Ho</td>\n",
              "      <td>0.249992</td>\n",
              "      <td>0.750008</td>\n",
              "      <td>Wet</td>\n",
              "      <td>Wet</td>\n",
              "    </tr>\n",
              "    <tr>\n",
              "      <th>10</th>\n",
              "      <td>Dc_aoUCqw2E</td>\n",
              "      <td>0.716677</td>\n",
              "      <td>0.283323</td>\n",
              "      <td>Dry</td>\n",
              "      <td>Wet</td>\n",
              "    </tr>\n",
              "    <tr>\n",
              "      <th>11</th>\n",
              "      <td>De4HdyocTHY</td>\n",
              "      <td>0.000054</td>\n",
              "      <td>0.999946</td>\n",
              "      <td>Wet</td>\n",
              "      <td>Wet</td>\n",
              "    </tr>\n",
              "    <tr>\n",
              "      <th>12</th>\n",
              "      <td>GtQfDCoaE</td>\n",
              "      <td>0.689124</td>\n",
              "      <td>0.310876</td>\n",
              "      <td>Dry</td>\n",
              "      <td>Dry</td>\n",
              "    </tr>\n",
              "    <tr>\n",
              "      <th>13</th>\n",
              "      <td>IzPMbIll3LE</td>\n",
              "      <td>0.155147</td>\n",
              "      <td>0.844853</td>\n",
              "      <td>Wet</td>\n",
              "      <td>Wet</td>\n",
              "    </tr>\n",
              "    <tr>\n",
              "      <th>14</th>\n",
              "      <td>KC1U</td>\n",
              "      <td>0.255410</td>\n",
              "      <td>0.744590</td>\n",
              "      <td>Wet</td>\n",
              "      <td>Wet</td>\n",
              "    </tr>\n",
              "    <tr>\n",
              "      <th>15</th>\n",
              "      <td>LkxvBb2VXbs</td>\n",
              "      <td>0.487480</td>\n",
              "      <td>0.512520</td>\n",
              "      <td>Wet</td>\n",
              "      <td>Dry</td>\n",
              "    </tr>\n",
              "    <tr>\n",
              "      <th>16</th>\n",
              "      <td>NaOVmYoIjbs</td>\n",
              "      <td>0.697837</td>\n",
              "      <td>0.302163</td>\n",
              "      <td>Dry</td>\n",
              "      <td>Dry</td>\n",
              "    </tr>\n",
              "    <tr>\n",
              "      <th>17</th>\n",
              "      <td>Pwsk</td>\n",
              "      <td>0.659415</td>\n",
              "      <td>0.340585</td>\n",
              "      <td>Dry</td>\n",
              "      <td>Dry</td>\n",
              "    </tr>\n",
              "    <tr>\n",
              "      <th>18</th>\n",
              "      <td>Q</td>\n",
              "      <td>0.628809</td>\n",
              "      <td>0.371191</td>\n",
              "      <td>Dry</td>\n",
              "      <td>Dry</td>\n",
              "    </tr>\n",
              "    <tr>\n",
              "      <th>19</th>\n",
              "      <td>TK4CveeCWfY</td>\n",
              "      <td>0.253461</td>\n",
              "      <td>0.746539</td>\n",
              "      <td>Wet</td>\n",
              "      <td>Wet</td>\n",
              "    </tr>\n",
              "    <tr>\n",
              "      <th>20</th>\n",
              "      <td>Xe68</td>\n",
              "      <td>0.730791</td>\n",
              "      <td>0.269209</td>\n",
              "      <td>Dry</td>\n",
              "      <td>Dry</td>\n",
              "    </tr>\n",
              "    <tr>\n",
              "      <th>21</th>\n",
              "      <td>XrpB4DTNQZw</td>\n",
              "      <td>0.866738</td>\n",
              "      <td>0.133262</td>\n",
              "      <td>Dry</td>\n",
              "      <td>Dry</td>\n",
              "    </tr>\n",
              "    <tr>\n",
              "      <th>22</th>\n",
              "      <td>ct3tHDfNKiQ</td>\n",
              "      <td>0.497044</td>\n",
              "      <td>0.502956</td>\n",
              "      <td>Wet</td>\n",
              "      <td>Wet</td>\n",
              "    </tr>\n",
              "    <tr>\n",
              "      <th>23</th>\n",
              "      <td>d2wkdrScerU</td>\n",
              "      <td>0.448831</td>\n",
              "      <td>0.551169</td>\n",
              "      <td>Wet</td>\n",
              "      <td>Wet</td>\n",
              "    </tr>\n",
              "    <tr>\n",
              "      <th>24</th>\n",
              "      <td>diuuEXKzNB8</td>\n",
              "      <td>0.382196</td>\n",
              "      <td>0.617804</td>\n",
              "      <td>Wet</td>\n",
              "      <td>Wet</td>\n",
              "    </tr>\n",
              "    <tr>\n",
              "      <th>25</th>\n",
              "      <td>h2FLCKMcEX0</td>\n",
              "      <td>0.722196</td>\n",
              "      <td>0.277804</td>\n",
              "      <td>Dry</td>\n",
              "      <td>Wet</td>\n",
              "    </tr>\n",
              "    <tr>\n",
              "      <th>26</th>\n",
              "      <td>jxYNLCYTwZQ</td>\n",
              "      <td>0.273496</td>\n",
              "      <td>0.726504</td>\n",
              "      <td>Wet</td>\n",
              "      <td>Wet</td>\n",
              "    </tr>\n",
              "    <tr>\n",
              "      <th>27</th>\n",
              "      <td>oCg</td>\n",
              "      <td>0.088536</td>\n",
              "      <td>0.911464</td>\n",
              "      <td>Wet</td>\n",
              "      <td>Dry</td>\n",
              "    </tr>\n",
              "    <tr>\n",
              "      <th>28</th>\n",
              "      <td>q6WsoL3J8U8</td>\n",
              "      <td>0.190950</td>\n",
              "      <td>0.809050</td>\n",
              "      <td>Wet</td>\n",
              "      <td>Wet</td>\n",
              "    </tr>\n",
              "    <tr>\n",
              "      <th>29</th>\n",
              "      <td>qfpJg179YNk</td>\n",
              "      <td>0.492882</td>\n",
              "      <td>0.507118</td>\n",
              "      <td>Wet</td>\n",
              "      <td>Wet</td>\n",
              "    </tr>\n",
              "    <tr>\n",
              "      <th>30</th>\n",
              "      <td>rkF_uMizqoc</td>\n",
              "      <td>0.152137</td>\n",
              "      <td>0.847863</td>\n",
              "      <td>Wet</td>\n",
              "      <td>Wet</td>\n",
              "    </tr>\n",
              "    <tr>\n",
              "      <th>31</th>\n",
              "      <td>s5jnqXU</td>\n",
              "      <td>0.141741</td>\n",
              "      <td>0.858259</td>\n",
              "      <td>Wet</td>\n",
              "      <td>Wet</td>\n",
              "    </tr>\n",
              "    <tr>\n",
              "      <th>32</th>\n",
              "      <td>t8</td>\n",
              "      <td>0.178782</td>\n",
              "      <td>0.821218</td>\n",
              "      <td>Wet</td>\n",
              "      <td>Wet</td>\n",
              "    </tr>\n",
              "    <tr>\n",
              "      <th>33</th>\n",
              "      <td>tZtJaS2ZtME</td>\n",
              "      <td>0.563647</td>\n",
              "      <td>0.436353</td>\n",
              "      <td>Dry</td>\n",
              "      <td>Dry</td>\n",
              "    </tr>\n",
              "    <tr>\n",
              "      <th>34</th>\n",
              "      <td>tfc5cXiXMDc</td>\n",
              "      <td>0.460841</td>\n",
              "      <td>0.539159</td>\n",
              "      <td>Wet</td>\n",
              "      <td>Wet</td>\n",
              "    </tr>\n",
              "    <tr>\n",
              "      <th>35</th>\n",
              "      <td>zjd4HrJbc8o</td>\n",
              "      <td>0.793996</td>\n",
              "      <td>0.206004</td>\n",
              "      <td>Dry</td>\n",
              "      <td>Dry</td>\n",
              "    </tr>\n",
              "  </tbody>\n",
              "</table>\n",
              "</div>"
            ],
            "text/plain": [
              "             ID       Dry       Wet pred_class label\n",
              "0   1UDFq2InljM  0.600415  0.399585        Dry   Dry\n",
              "1   4k0ziD0j5BI  0.518717  0.481283        Dry   Wet\n",
              "2   5905FxXz9dI  0.659030  0.340970        Dry   Wet\n",
              "3   6LK6yHtIung  0.158980  0.841020        Wet   Dry\n",
              "4   7Ez5Wc_esBg  0.881907  0.118093        Dry   Dry\n",
              "5   A5s2ZgwQ1VM  0.526694  0.473306        Dry   Dry\n",
              "6   AQOeIVbhFm4  0.543620  0.456380        Dry   Dry\n",
              "7   CTSLdNxN1cc  0.525691  0.474309        Dry   Wet\n",
              "8   CsDXlt7Ei1c  0.682077  0.317923        Dry   Wet\n",
              "9   DYfjPnty2Ho  0.249992  0.750008        Wet   Wet\n",
              "10  Dc_aoUCqw2E  0.716677  0.283323        Dry   Wet\n",
              "11  De4HdyocTHY  0.000054  0.999946        Wet   Wet\n",
              "12    GtQfDCoaE  0.689124  0.310876        Dry   Dry\n",
              "13  IzPMbIll3LE  0.155147  0.844853        Wet   Wet\n",
              "14         KC1U  0.255410  0.744590        Wet   Wet\n",
              "15  LkxvBb2VXbs  0.487480  0.512520        Wet   Dry\n",
              "16  NaOVmYoIjbs  0.697837  0.302163        Dry   Dry\n",
              "17         Pwsk  0.659415  0.340585        Dry   Dry\n",
              "18            Q  0.628809  0.371191        Dry   Dry\n",
              "19  TK4CveeCWfY  0.253461  0.746539        Wet   Wet\n",
              "20         Xe68  0.730791  0.269209        Dry   Dry\n",
              "21  XrpB4DTNQZw  0.866738  0.133262        Dry   Dry\n",
              "22  ct3tHDfNKiQ  0.497044  0.502956        Wet   Wet\n",
              "23  d2wkdrScerU  0.448831  0.551169        Wet   Wet\n",
              "24  diuuEXKzNB8  0.382196  0.617804        Wet   Wet\n",
              "25  h2FLCKMcEX0  0.722196  0.277804        Dry   Wet\n",
              "26  jxYNLCYTwZQ  0.273496  0.726504        Wet   Wet\n",
              "27          oCg  0.088536  0.911464        Wet   Dry\n",
              "28  q6WsoL3J8U8  0.190950  0.809050        Wet   Wet\n",
              "29  qfpJg179YNk  0.492882  0.507118        Wet   Wet\n",
              "30  rkF_uMizqoc  0.152137  0.847863        Wet   Wet\n",
              "31      s5jnqXU  0.141741  0.858259        Wet   Wet\n",
              "32           t8  0.178782  0.821218        Wet   Wet\n",
              "33  tZtJaS2ZtME  0.563647  0.436353        Dry   Dry\n",
              "34  tfc5cXiXMDc  0.460841  0.539159        Wet   Wet\n",
              "35  zjd4HrJbc8o  0.793996  0.206004        Dry   Dry"
            ]
          },
          "metadata": {
            "tags": []
          },
          "execution_count": 45
        }
      ]
    },
    {
      "cell_type": "code",
      "metadata": {
        "id": "QZjPagbOt8dI",
        "colab_type": "code",
        "colab": {
          "base_uri": "https://localhost:8080/",
          "height": 34
        },
        "outputId": "029ca5f9-8584-4ad6-d138-8016c26a33af"
      },
      "source": [
        "# y_test.shape - (36,)\n",
        "#X_test.shape - (36, 2)"
      ],
      "execution_count": 23,
      "outputs": [
        {
          "output_type": "execute_result",
          "data": {
            "text/plain": [
              "(36, 2)"
            ]
          },
          "metadata": {
            "tags": []
          },
          "execution_count": 23
        }
      ]
    },
    {
      "cell_type": "code",
      "metadata": {
        "id": "OfK4BitVr5md",
        "colab_type": "code",
        "colab": {
          "base_uri": "https://localhost:8080/",
          "height": 34
        },
        "outputId": "e575b0b1-4cb0-4905-e46d-84c3b3899423"
      },
      "source": [
        "#X_train.shape -(465, 46) \n",
        "#y_train.shape -(465,)"
      ],
      "execution_count": 22,
      "outputs": [
        {
          "output_type": "execute_result",
          "data": {
            "text/plain": [
              "(465,)"
            ]
          },
          "metadata": {
            "tags": []
          },
          "execution_count": 22
        }
      ]
    },
    {
      "cell_type": "code",
      "metadata": {
        "id": "k91F3k54_7Go",
        "colab_type": "code",
        "colab": {
          "base_uri": "https://localhost:8080/",
          "height": 444
        },
        "outputId": "7498a9b5-e543-4f9b-9d14-7ba5f3e457d2"
      },
      "source": [
        "X_train # 46 columns , X_test also should be with 46 columns"
      ],
      "execution_count": 19,
      "outputs": [
        {
          "output_type": "execute_result",
          "data": {
            "text/html": [
              "<div>\n",
              "<style scoped>\n",
              "    .dataframe tbody tr th:only-of-type {\n",
              "        vertical-align: middle;\n",
              "    }\n",
              "\n",
              "    .dataframe tbody tr th {\n",
              "        vertical-align: top;\n",
              "    }\n",
              "\n",
              "    .dataframe thead th {\n",
              "        text-align: right;\n",
              "    }\n",
              "</style>\n",
              "<table border=\"1\" class=\"dataframe\">\n",
              "  <thead>\n",
              "    <tr style=\"text-align: right;\">\n",
              "      <th></th>\n",
              "      <th>kurt_m</th>\n",
              "      <th>logEnergy_m</th>\n",
              "      <th>zcr_m</th>\n",
              "      <th>F0_m</th>\n",
              "      <th>skewness_m</th>\n",
              "      <th>entropy_m</th>\n",
              "      <th>mfcc_0_m</th>\n",
              "      <th>mfcc_1_m</th>\n",
              "      <th>mfcc_2_m</th>\n",
              "      <th>mfcc_3_m</th>\n",
              "      <th>mfcc_4_m</th>\n",
              "      <th>mfcc_5_m</th>\n",
              "      <th>mfcc_6_m</th>\n",
              "      <th>mfcc_7_m</th>\n",
              "      <th>mfcc_8_m</th>\n",
              "      <th>mfcc_9_m</th>\n",
              "      <th>mfcc_10_m</th>\n",
              "      <th>mfcc_11_m</th>\n",
              "      <th>mfcc_12_m</th>\n",
              "      <th>F1_m</th>\n",
              "      <th>F2_m</th>\n",
              "      <th>F3_m</th>\n",
              "      <th>F4_m</th>\n",
              "      <th>kurt_std</th>\n",
              "      <th>logEnergy_std</th>\n",
              "      <th>zcr_std</th>\n",
              "      <th>F0_std</th>\n",
              "      <th>skewness_std</th>\n",
              "      <th>entropy_std</th>\n",
              "      <th>mfcc_0_std</th>\n",
              "      <th>mfcc_1_std</th>\n",
              "      <th>mfcc_2_std</th>\n",
              "      <th>mfcc_3_std</th>\n",
              "      <th>mfcc_4_std</th>\n",
              "      <th>mfcc_5_std</th>\n",
              "      <th>mfcc_6_std</th>\n",
              "      <th>mfcc_7_std</th>\n",
              "      <th>mfcc_8_std</th>\n",
              "      <th>mfcc_9_std</th>\n",
              "      <th>mfcc_10_std</th>\n",
              "      <th>mfcc_11_std</th>\n",
              "      <th>mfcc_12_std</th>\n",
              "      <th>F1_std</th>\n",
              "      <th>F2_std</th>\n",
              "      <th>F3_std</th>\n",
              "      <th>F4_std</th>\n",
              "    </tr>\n",
              "  </thead>\n",
              "  <tbody>\n",
              "    <tr>\n",
              "      <th>0</th>\n",
              "      <td>2.893929</td>\n",
              "      <td>1.531556</td>\n",
              "      <td>0.585213</td>\n",
              "      <td>0.000000</td>\n",
              "      <td>0.097264</td>\n",
              "      <td>8.637856</td>\n",
              "      <td>9.701681</td>\n",
              "      <td>-45.561334</td>\n",
              "      <td>-8.085834</td>\n",
              "      <td>-14.773934</td>\n",
              "      <td>-16.527605</td>\n",
              "      <td>-7.891827</td>\n",
              "      <td>-10.029310</td>\n",
              "      <td>-10.951070</td>\n",
              "      <td>-7.588179</td>\n",
              "      <td>-12.410635</td>\n",
              "      <td>-9.072450</td>\n",
              "      <td>0.549025</td>\n",
              "      <td>3.919405</td>\n",
              "      <td>3.919405</td>\n",
              "      <td>3.919405</td>\n",
              "      <td>3.919405</td>\n",
              "      <td>3.919405</td>\n",
              "      <td>1.086844</td>\n",
              "      <td>1.627957</td>\n",
              "      <td>0.078963</td>\n",
              "      <td>0.000000</td>\n",
              "      <td>0.124651</td>\n",
              "      <td>8.602325e-03</td>\n",
              "      <td>3.578747</td>\n",
              "      <td>2.446531</td>\n",
              "      <td>4.636264</td>\n",
              "      <td>4.085897</td>\n",
              "      <td>17.836598</td>\n",
              "      <td>9.019505</td>\n",
              "      <td>8.057826</td>\n",
              "      <td>7.273571</td>\n",
              "      <td>12.029057</td>\n",
              "      <td>6.399534</td>\n",
              "      <td>7.872096</td>\n",
              "      <td>10.094882</td>\n",
              "      <td>6.587038</td>\n",
              "      <td>6.587038</td>\n",
              "      <td>6.587038</td>\n",
              "      <td>6.587038</td>\n",
              "      <td>6.587038</td>\n",
              "    </tr>\n",
              "    <tr>\n",
              "      <th>1</th>\n",
              "      <td>2.110001</td>\n",
              "      <td>5.906655</td>\n",
              "      <td>0.483208</td>\n",
              "      <td>0.000000</td>\n",
              "      <td>-0.049947</td>\n",
              "      <td>8.643856</td>\n",
              "      <td>19.534739</td>\n",
              "      <td>-49.665901</td>\n",
              "      <td>-9.461110</td>\n",
              "      <td>-13.372171</td>\n",
              "      <td>-40.679710</td>\n",
              "      <td>-11.037811</td>\n",
              "      <td>11.707983</td>\n",
              "      <td>-3.037416</td>\n",
              "      <td>9.965036</td>\n",
              "      <td>14.397132</td>\n",
              "      <td>-2.681665</td>\n",
              "      <td>13.230799</td>\n",
              "      <td>-19.078882</td>\n",
              "      <td>-19.078882</td>\n",
              "      <td>-19.078882</td>\n",
              "      <td>-19.078882</td>\n",
              "      <td>-19.078882</td>\n",
              "      <td>0.671718</td>\n",
              "      <td>0.499296</td>\n",
              "      <td>0.026519</td>\n",
              "      <td>0.000000</td>\n",
              "      <td>0.203079</td>\n",
              "      <td>1.776357e-15</td>\n",
              "      <td>1.224653</td>\n",
              "      <td>2.671494</td>\n",
              "      <td>7.118032</td>\n",
              "      <td>7.344973</td>\n",
              "      <td>7.279418</td>\n",
              "      <td>7.988106</td>\n",
              "      <td>8.525701</td>\n",
              "      <td>7.152483</td>\n",
              "      <td>8.980078</td>\n",
              "      <td>16.508643</td>\n",
              "      <td>9.719759</td>\n",
              "      <td>7.107096</td>\n",
              "      <td>17.486749</td>\n",
              "      <td>17.486749</td>\n",
              "      <td>17.486749</td>\n",
              "      <td>17.486749</td>\n",
              "      <td>17.486749</td>\n",
              "    </tr>\n",
              "    <tr>\n",
              "      <th>2</th>\n",
              "      <td>1.625414</td>\n",
              "      <td>5.475906</td>\n",
              "      <td>0.387469</td>\n",
              "      <td>180.043884</td>\n",
              "      <td>0.057277</td>\n",
              "      <td>8.643856</td>\n",
              "      <td>18.122213</td>\n",
              "      <td>-46.283128</td>\n",
              "      <td>-19.074089</td>\n",
              "      <td>-11.716652</td>\n",
              "      <td>-25.137202</td>\n",
              "      <td>-26.304297</td>\n",
              "      <td>13.640837</td>\n",
              "      <td>-3.882753</td>\n",
              "      <td>-15.798665</td>\n",
              "      <td>20.270660</td>\n",
              "      <td>11.864468</td>\n",
              "      <td>9.217583</td>\n",
              "      <td>-13.562714</td>\n",
              "      <td>-13.562714</td>\n",
              "      <td>-13.562714</td>\n",
              "      <td>-13.562714</td>\n",
              "      <td>-13.562714</td>\n",
              "      <td>1.130188</td>\n",
              "      <td>0.406858</td>\n",
              "      <td>0.077526</td>\n",
              "      <td>119.211678</td>\n",
              "      <td>0.333425</td>\n",
              "      <td>1.776357e-15</td>\n",
              "      <td>1.002446</td>\n",
              "      <td>5.713889</td>\n",
              "      <td>4.876074</td>\n",
              "      <td>7.828810</td>\n",
              "      <td>11.156722</td>\n",
              "      <td>14.230227</td>\n",
              "      <td>14.312041</td>\n",
              "      <td>24.112487</td>\n",
              "      <td>7.460043</td>\n",
              "      <td>16.469782</td>\n",
              "      <td>13.710701</td>\n",
              "      <td>16.333688</td>\n",
              "      <td>14.590719</td>\n",
              "      <td>14.590719</td>\n",
              "      <td>14.590719</td>\n",
              "      <td>14.590719</td>\n",
              "      <td>14.590719</td>\n",
              "    </tr>\n",
              "    <tr>\n",
              "      <th>3</th>\n",
              "      <td>4.231469</td>\n",
              "      <td>4.748404</td>\n",
              "      <td>0.575439</td>\n",
              "      <td>0.000000</td>\n",
              "      <td>0.164693</td>\n",
              "      <td>8.643856</td>\n",
              "      <td>17.010254</td>\n",
              "      <td>-52.916741</td>\n",
              "      <td>-14.130535</td>\n",
              "      <td>-4.793562</td>\n",
              "      <td>-18.516843</td>\n",
              "      <td>-31.100496</td>\n",
              "      <td>29.860414</td>\n",
              "      <td>3.759305</td>\n",
              "      <td>-4.935491</td>\n",
              "      <td>-19.819752</td>\n",
              "      <td>-4.741783</td>\n",
              "      <td>11.141441</td>\n",
              "      <td>4.562183</td>\n",
              "      <td>4.562183</td>\n",
              "      <td>4.562183</td>\n",
              "      <td>4.562183</td>\n",
              "      <td>4.562183</td>\n",
              "      <td>3.581900</td>\n",
              "      <td>0.863320</td>\n",
              "      <td>0.060558</td>\n",
              "      <td>0.000000</td>\n",
              "      <td>0.189040</td>\n",
              "      <td>1.776357e-15</td>\n",
              "      <td>2.041497</td>\n",
              "      <td>4.396982</td>\n",
              "      <td>7.533800</td>\n",
              "      <td>7.278805</td>\n",
              "      <td>17.454729</td>\n",
              "      <td>9.628970</td>\n",
              "      <td>6.913630</td>\n",
              "      <td>15.107939</td>\n",
              "      <td>7.119137</td>\n",
              "      <td>9.673574</td>\n",
              "      <td>8.464546</td>\n",
              "      <td>11.736144</td>\n",
              "      <td>6.732657</td>\n",
              "      <td>6.732657</td>\n",
              "      <td>6.732657</td>\n",
              "      <td>6.732657</td>\n",
              "      <td>6.732657</td>\n",
              "    </tr>\n",
              "    <tr>\n",
              "      <th>4</th>\n",
              "      <td>3.037410</td>\n",
              "      <td>3.017375</td>\n",
              "      <td>0.272467</td>\n",
              "      <td>0.000000</td>\n",
              "      <td>0.214881</td>\n",
              "      <td>8.019268</td>\n",
              "      <td>11.882409</td>\n",
              "      <td>-29.378689</td>\n",
              "      <td>-4.265647</td>\n",
              "      <td>-29.415736</td>\n",
              "      <td>-31.260075</td>\n",
              "      <td>-22.673140</td>\n",
              "      <td>3.662314</td>\n",
              "      <td>-17.311716</td>\n",
              "      <td>-32.599168</td>\n",
              "      <td>-41.066213</td>\n",
              "      <td>-15.725852</td>\n",
              "      <td>3.362531</td>\n",
              "      <td>1.980638</td>\n",
              "      <td>1.980638</td>\n",
              "      <td>1.980638</td>\n",
              "      <td>1.980638</td>\n",
              "      <td>1.980638</td>\n",
              "      <td>1.878642</td>\n",
              "      <td>1.094042</td>\n",
              "      <td>0.107879</td>\n",
              "      <td>0.000000</td>\n",
              "      <td>0.371560</td>\n",
              "      <td>1.529923e+00</td>\n",
              "      <td>2.305782</td>\n",
              "      <td>7.004935</td>\n",
              "      <td>7.257115</td>\n",
              "      <td>9.575734</td>\n",
              "      <td>10.075674</td>\n",
              "      <td>15.373393</td>\n",
              "      <td>12.486259</td>\n",
              "      <td>19.026767</td>\n",
              "      <td>15.917041</td>\n",
              "      <td>12.204905</td>\n",
              "      <td>8.732682</td>\n",
              "      <td>6.397854</td>\n",
              "      <td>8.534331</td>\n",
              "      <td>8.534331</td>\n",
              "      <td>8.534331</td>\n",
              "      <td>8.534331</td>\n",
              "      <td>8.534331</td>\n",
              "    </tr>\n",
              "    <tr>\n",
              "      <th>...</th>\n",
              "      <td>...</td>\n",
              "      <td>...</td>\n",
              "      <td>...</td>\n",
              "      <td>...</td>\n",
              "      <td>...</td>\n",
              "      <td>...</td>\n",
              "      <td>...</td>\n",
              "      <td>...</td>\n",
              "      <td>...</td>\n",
              "      <td>...</td>\n",
              "      <td>...</td>\n",
              "      <td>...</td>\n",
              "      <td>...</td>\n",
              "      <td>...</td>\n",
              "      <td>...</td>\n",
              "      <td>...</td>\n",
              "      <td>...</td>\n",
              "      <td>...</td>\n",
              "      <td>...</td>\n",
              "      <td>...</td>\n",
              "      <td>...</td>\n",
              "      <td>...</td>\n",
              "      <td>...</td>\n",
              "      <td>...</td>\n",
              "      <td>...</td>\n",
              "      <td>...</td>\n",
              "      <td>...</td>\n",
              "      <td>...</td>\n",
              "      <td>...</td>\n",
              "      <td>...</td>\n",
              "      <td>...</td>\n",
              "      <td>...</td>\n",
              "      <td>...</td>\n",
              "      <td>...</td>\n",
              "      <td>...</td>\n",
              "      <td>...</td>\n",
              "      <td>...</td>\n",
              "      <td>...</td>\n",
              "      <td>...</td>\n",
              "      <td>...</td>\n",
              "      <td>...</td>\n",
              "      <td>...</td>\n",
              "      <td>...</td>\n",
              "      <td>...</td>\n",
              "      <td>...</td>\n",
              "      <td>...</td>\n",
              "    </tr>\n",
              "    <tr>\n",
              "      <th>460</th>\n",
              "      <td>0.800811</td>\n",
              "      <td>4.905811</td>\n",
              "      <td>0.864411</td>\n",
              "      <td>222.215424</td>\n",
              "      <td>0.001723</td>\n",
              "      <td>8.643856</td>\n",
              "      <td>17.863415</td>\n",
              "      <td>-26.596485</td>\n",
              "      <td>2.660818</td>\n",
              "      <td>-46.366693</td>\n",
              "      <td>23.399731</td>\n",
              "      <td>-16.795685</td>\n",
              "      <td>10.677427</td>\n",
              "      <td>-18.122992</td>\n",
              "      <td>13.827505</td>\n",
              "      <td>-36.602839</td>\n",
              "      <td>-32.744914</td>\n",
              "      <td>-23.263752</td>\n",
              "      <td>0.926446</td>\n",
              "      <td>0.926446</td>\n",
              "      <td>0.926446</td>\n",
              "      <td>0.926446</td>\n",
              "      <td>0.926446</td>\n",
              "      <td>0.401067</td>\n",
              "      <td>0.837759</td>\n",
              "      <td>0.049880</td>\n",
              "      <td>0.019365</td>\n",
              "      <td>0.095485</td>\n",
              "      <td>1.776357e-15</td>\n",
              "      <td>1.933778</td>\n",
              "      <td>1.918197</td>\n",
              "      <td>6.209029</td>\n",
              "      <td>7.808929</td>\n",
              "      <td>7.901765</td>\n",
              "      <td>5.111972</td>\n",
              "      <td>5.176447</td>\n",
              "      <td>8.633568</td>\n",
              "      <td>4.435257</td>\n",
              "      <td>8.411184</td>\n",
              "      <td>7.968359</td>\n",
              "      <td>5.770466</td>\n",
              "      <td>3.765185</td>\n",
              "      <td>3.765185</td>\n",
              "      <td>3.765185</td>\n",
              "      <td>3.765185</td>\n",
              "      <td>3.765185</td>\n",
              "    </tr>\n",
              "    <tr>\n",
              "      <th>461</th>\n",
              "      <td>4.584198</td>\n",
              "      <td>4.995416</td>\n",
              "      <td>0.727569</td>\n",
              "      <td>115.371544</td>\n",
              "      <td>-0.039614</td>\n",
              "      <td>8.643856</td>\n",
              "      <td>17.852251</td>\n",
              "      <td>-38.809974</td>\n",
              "      <td>-6.841775</td>\n",
              "      <td>-25.945151</td>\n",
              "      <td>6.594260</td>\n",
              "      <td>-13.457908</td>\n",
              "      <td>-3.304249</td>\n",
              "      <td>-20.911427</td>\n",
              "      <td>-17.757630</td>\n",
              "      <td>-31.881328</td>\n",
              "      <td>-14.404394</td>\n",
              "      <td>-9.531712</td>\n",
              "      <td>6.228125</td>\n",
              "      <td>6.228125</td>\n",
              "      <td>6.228125</td>\n",
              "      <td>6.228125</td>\n",
              "      <td>6.228125</td>\n",
              "      <td>3.744487</td>\n",
              "      <td>0.822658</td>\n",
              "      <td>0.113232</td>\n",
              "      <td>115.823547</td>\n",
              "      <td>0.231049</td>\n",
              "      <td>1.776357e-15</td>\n",
              "      <td>1.794743</td>\n",
              "      <td>4.732166</td>\n",
              "      <td>8.789997</td>\n",
              "      <td>13.486709</td>\n",
              "      <td>8.171508</td>\n",
              "      <td>8.280521</td>\n",
              "      <td>7.408895</td>\n",
              "      <td>8.567133</td>\n",
              "      <td>16.835769</td>\n",
              "      <td>10.297329</td>\n",
              "      <td>8.363524</td>\n",
              "      <td>8.321366</td>\n",
              "      <td>9.031401</td>\n",
              "      <td>9.031401</td>\n",
              "      <td>9.031401</td>\n",
              "      <td>9.031401</td>\n",
              "      <td>9.031401</td>\n",
              "    </tr>\n",
              "    <tr>\n",
              "      <th>462</th>\n",
              "      <td>4.176644</td>\n",
              "      <td>4.375044</td>\n",
              "      <td>0.632331</td>\n",
              "      <td>0.000000</td>\n",
              "      <td>0.072479</td>\n",
              "      <td>8.643856</td>\n",
              "      <td>16.323905</td>\n",
              "      <td>-46.395477</td>\n",
              "      <td>-13.004949</td>\n",
              "      <td>-16.123185</td>\n",
              "      <td>-16.902496</td>\n",
              "      <td>-22.846415</td>\n",
              "      <td>-13.414194</td>\n",
              "      <td>-9.839848</td>\n",
              "      <td>-14.010959</td>\n",
              "      <td>-25.315674</td>\n",
              "      <td>-15.916853</td>\n",
              "      <td>-14.685377</td>\n",
              "      <td>0.637530</td>\n",
              "      <td>0.637530</td>\n",
              "      <td>0.637530</td>\n",
              "      <td>0.637530</td>\n",
              "      <td>0.637530</td>\n",
              "      <td>1.594510</td>\n",
              "      <td>0.379344</td>\n",
              "      <td>0.073481</td>\n",
              "      <td>0.000000</td>\n",
              "      <td>0.289075</td>\n",
              "      <td>1.776357e-15</td>\n",
              "      <td>0.968277</td>\n",
              "      <td>0.780056</td>\n",
              "      <td>1.765925</td>\n",
              "      <td>2.777830</td>\n",
              "      <td>5.068443</td>\n",
              "      <td>6.224185</td>\n",
              "      <td>8.092558</td>\n",
              "      <td>6.471789</td>\n",
              "      <td>7.457037</td>\n",
              "      <td>9.229768</td>\n",
              "      <td>9.356120</td>\n",
              "      <td>5.748963</td>\n",
              "      <td>5.554116</td>\n",
              "      <td>5.554116</td>\n",
              "      <td>5.554116</td>\n",
              "      <td>5.554116</td>\n",
              "      <td>5.554116</td>\n",
              "    </tr>\n",
              "    <tr>\n",
              "      <th>463</th>\n",
              "      <td>2.686153</td>\n",
              "      <td>4.051527</td>\n",
              "      <td>0.751128</td>\n",
              "      <td>144.199585</td>\n",
              "      <td>-0.065990</td>\n",
              "      <td>8.643856</td>\n",
              "      <td>15.731451</td>\n",
              "      <td>-34.535475</td>\n",
              "      <td>-5.306555</td>\n",
              "      <td>-32.214771</td>\n",
              "      <td>6.544986</td>\n",
              "      <td>-20.708569</td>\n",
              "      <td>-6.597309</td>\n",
              "      <td>-16.141737</td>\n",
              "      <td>9.052781</td>\n",
              "      <td>-26.541510</td>\n",
              "      <td>-31.592082</td>\n",
              "      <td>-15.280303</td>\n",
              "      <td>8.174888</td>\n",
              "      <td>8.174888</td>\n",
              "      <td>8.174888</td>\n",
              "      <td>8.174888</td>\n",
              "      <td>8.174888</td>\n",
              "      <td>1.094460</td>\n",
              "      <td>0.535486</td>\n",
              "      <td>0.073473</td>\n",
              "      <td>94.955986</td>\n",
              "      <td>0.284292</td>\n",
              "      <td>1.776357e-15</td>\n",
              "      <td>1.294022</td>\n",
              "      <td>8.067961</td>\n",
              "      <td>4.704514</td>\n",
              "      <td>15.133101</td>\n",
              "      <td>20.071410</td>\n",
              "      <td>6.148065</td>\n",
              "      <td>9.839695</td>\n",
              "      <td>14.034984</td>\n",
              "      <td>15.821043</td>\n",
              "      <td>10.437826</td>\n",
              "      <td>9.656897</td>\n",
              "      <td>5.659809</td>\n",
              "      <td>5.729829</td>\n",
              "      <td>5.729829</td>\n",
              "      <td>5.729829</td>\n",
              "      <td>5.729829</td>\n",
              "      <td>5.729829</td>\n",
              "    </tr>\n",
              "    <tr>\n",
              "      <th>464</th>\n",
              "      <td>3.329158</td>\n",
              "      <td>3.365857</td>\n",
              "      <td>0.808271</td>\n",
              "      <td>0.000000</td>\n",
              "      <td>-0.324113</td>\n",
              "      <td>8.643856</td>\n",
              "      <td>14.310744</td>\n",
              "      <td>-31.179718</td>\n",
              "      <td>0.235400</td>\n",
              "      <td>-52.801794</td>\n",
              "      <td>11.447437</td>\n",
              "      <td>-17.435542</td>\n",
              "      <td>-0.256076</td>\n",
              "      <td>-31.239135</td>\n",
              "      <td>13.639001</td>\n",
              "      <td>-33.543592</td>\n",
              "      <td>-42.786559</td>\n",
              "      <td>-20.836669</td>\n",
              "      <td>2.269009</td>\n",
              "      <td>2.269009</td>\n",
              "      <td>2.269009</td>\n",
              "      <td>2.269009</td>\n",
              "      <td>2.269009</td>\n",
              "      <td>0.322547</td>\n",
              "      <td>0.315141</td>\n",
              "      <td>0.036341</td>\n",
              "      <td>0.000000</td>\n",
              "      <td>0.063663</td>\n",
              "      <td>0.000000e+00</td>\n",
              "      <td>0.717708</td>\n",
              "      <td>1.018154</td>\n",
              "      <td>1.644273</td>\n",
              "      <td>7.200126</td>\n",
              "      <td>5.622040</td>\n",
              "      <td>9.922042</td>\n",
              "      <td>1.154193</td>\n",
              "      <td>10.049837</td>\n",
              "      <td>7.069255</td>\n",
              "      <td>13.886378</td>\n",
              "      <td>0.643487</td>\n",
              "      <td>6.867792</td>\n",
              "      <td>3.148194</td>\n",
              "      <td>3.148194</td>\n",
              "      <td>3.148194</td>\n",
              "      <td>3.148194</td>\n",
              "      <td>3.148194</td>\n",
              "    </tr>\n",
              "  </tbody>\n",
              "</table>\n",
              "<p>465 rows × 46 columns</p>\n",
              "</div>"
            ],
            "text/plain": [
              "       kurt_m  logEnergy_m     zcr_m  ...     F2_std     F3_std     F4_std\n",
              "0    2.893929     1.531556  0.585213  ...   6.587038   6.587038   6.587038\n",
              "1    2.110001     5.906655  0.483208  ...  17.486749  17.486749  17.486749\n",
              "2    1.625414     5.475906  0.387469  ...  14.590719  14.590719  14.590719\n",
              "3    4.231469     4.748404  0.575439  ...   6.732657   6.732657   6.732657\n",
              "4    3.037410     3.017375  0.272467  ...   8.534331   8.534331   8.534331\n",
              "..        ...          ...       ...  ...        ...        ...        ...\n",
              "460  0.800811     4.905811  0.864411  ...   3.765185   3.765185   3.765185\n",
              "461  4.584198     4.995416  0.727569  ...   9.031401   9.031401   9.031401\n",
              "462  4.176644     4.375044  0.632331  ...   5.554116   5.554116   5.554116\n",
              "463  2.686153     4.051527  0.751128  ...   5.729829   5.729829   5.729829\n",
              "464  3.329158     3.365857  0.808271  ...   3.148194   3.148194   3.148194\n",
              "\n",
              "[465 rows x 46 columns]"
            ]
          },
          "metadata": {
            "tags": []
          },
          "execution_count": 19
        }
      ]
    },
    {
      "cell_type": "code",
      "metadata": {
        "id": "0Hv1cmZwAlU2",
        "colab_type": "code",
        "colab": {
          "base_uri": "https://localhost:8080/",
          "height": 225
        },
        "outputId": "cb6dda02-9220-4f78-b515-f4383b49f069"
      },
      "source": [
        "y_train #Need to encode this "
      ],
      "execution_count": 20,
      "outputs": [
        {
          "output_type": "execute_result",
          "data": {
            "text/plain": [
              "0      Dry\n",
              "1      Dry\n",
              "2      Dry\n",
              "3      Dry\n",
              "4      Dry\n",
              "      ... \n",
              "460    Dry\n",
              "461    Dry\n",
              "462    Dry\n",
              "463    Dry\n",
              "464    Dry\n",
              "Name: label, Length: 465, dtype: object"
            ]
          },
          "metadata": {
            "tags": []
          },
          "execution_count": 20
        }
      ]
    },
    {
      "cell_type": "code",
      "metadata": {
        "id": "9CRkuVinhtcF",
        "colab_type": "code",
        "colab": {
          "base_uri": "https://localhost:8080/",
          "height": 208
        },
        "outputId": "15a92e1e-6eb7-4a82-cb75-f8c8e2b497fc"
      },
      "source": [
        "y_train = y_train.astype('category')\n",
        "y_train = y_train.cat.codes\n",
        "y_train.head(10)"
      ],
      "execution_count": 16,
      "outputs": [
        {
          "output_type": "execute_result",
          "data": {
            "text/plain": [
              "0    0\n",
              "1    0\n",
              "2    0\n",
              "3    0\n",
              "4    0\n",
              "5    1\n",
              "6    1\n",
              "7    1\n",
              "8    1\n",
              "9    1\n",
              "dtype: int8"
            ]
          },
          "metadata": {
            "tags": []
          },
          "execution_count": 16
        }
      ]
    },
    {
      "cell_type": "code",
      "metadata": {
        "id": "_dIFbSpcSaT-",
        "colab_type": "code",
        "colab": {
          "base_uri": "https://localhost:8080/",
          "height": 767
        },
        "outputId": "9f7d7e15-5028-49af-ded5-b3b192a4c112"
      },
      "source": [
        "pip install tensorflow==1.14"
      ],
      "execution_count": 20,
      "outputs": [
        {
          "output_type": "stream",
          "text": [
            "Collecting tensorflow==1.14\n",
            "\u001b[?25l  Downloading https://files.pythonhosted.org/packages/de/f0/96fb2e0412ae9692dbf400e5b04432885f677ad6241c088ccc5fe7724d69/tensorflow-1.14.0-cp36-cp36m-manylinux1_x86_64.whl (109.2MB)\n",
            "\u001b[K     |████████████████████████████████| 109.2MB 29kB/s \n",
            "\u001b[?25hRequirement already satisfied: gast>=0.2.0 in /usr/local/lib/python3.6/dist-packages (from tensorflow==1.14) (0.3.3)\n",
            "Requirement already satisfied: protobuf>=3.6.1 in /usr/local/lib/python3.6/dist-packages (from tensorflow==1.14) (3.10.0)\n",
            "Requirement already satisfied: six>=1.10.0 in /usr/local/lib/python3.6/dist-packages (from tensorflow==1.14) (1.12.0)\n",
            "Collecting tensorboard<1.15.0,>=1.14.0\n",
            "\u001b[?25l  Downloading https://files.pythonhosted.org/packages/91/2d/2ed263449a078cd9c8a9ba50ebd50123adf1f8cfbea1492f9084169b89d9/tensorboard-1.14.0-py3-none-any.whl (3.1MB)\n",
            "\u001b[K     |████████████████████████████████| 3.2MB 33.8MB/s \n",
            "\u001b[?25hRequirement already satisfied: termcolor>=1.1.0 in /usr/local/lib/python3.6/dist-packages (from tensorflow==1.14) (1.1.0)\n",
            "Requirement already satisfied: grpcio>=1.8.6 in /usr/local/lib/python3.6/dist-packages (from tensorflow==1.14) (1.27.2)\n",
            "Requirement already satisfied: astor>=0.6.0 in /usr/local/lib/python3.6/dist-packages (from tensorflow==1.14) (0.8.1)\n",
            "Requirement already satisfied: absl-py>=0.7.0 in /usr/local/lib/python3.6/dist-packages (from tensorflow==1.14) (0.9.0)\n",
            "Requirement already satisfied: wheel>=0.26 in /usr/local/lib/python3.6/dist-packages (from tensorflow==1.14) (0.34.2)\n",
            "Collecting tensorflow-estimator<1.15.0rc0,>=1.14.0rc0\n",
            "\u001b[?25l  Downloading https://files.pythonhosted.org/packages/3c/d5/21860a5b11caf0678fbc8319341b0ae21a07156911132e0e71bffed0510d/tensorflow_estimator-1.14.0-py2.py3-none-any.whl (488kB)\n",
            "\u001b[K     |████████████████████████████████| 491kB 49.4MB/s \n",
            "\u001b[?25hRequirement already satisfied: numpy<2.0,>=1.14.5 in /usr/local/lib/python3.6/dist-packages (from tensorflow==1.14) (1.18.2)\n",
            "Requirement already satisfied: keras-applications>=1.0.6 in /usr/local/lib/python3.6/dist-packages (from tensorflow==1.14) (1.0.8)\n",
            "Requirement already satisfied: google-pasta>=0.1.6 in /usr/local/lib/python3.6/dist-packages (from tensorflow==1.14) (0.2.0)\n",
            "Requirement already satisfied: wrapt>=1.11.1 in /usr/local/lib/python3.6/dist-packages (from tensorflow==1.14) (1.12.1)\n",
            "Requirement already satisfied: keras-preprocessing>=1.0.5 in /usr/local/lib/python3.6/dist-packages (from tensorflow==1.14) (1.1.0)\n",
            "Requirement already satisfied: setuptools in /usr/local/lib/python3.6/dist-packages (from protobuf>=3.6.1->tensorflow==1.14) (46.0.0)\n",
            "Requirement already satisfied: werkzeug>=0.11.15 in /usr/local/lib/python3.6/dist-packages (from tensorboard<1.15.0,>=1.14.0->tensorflow==1.14) (1.0.1)\n",
            "Requirement already satisfied: markdown>=2.6.8 in /usr/local/lib/python3.6/dist-packages (from tensorboard<1.15.0,>=1.14.0->tensorflow==1.14) (3.2.1)\n",
            "Requirement already satisfied: h5py in /usr/local/lib/python3.6/dist-packages (from keras-applications>=1.0.6->tensorflow==1.14) (2.10.0)\n",
            "Installing collected packages: tensorboard, tensorflow-estimator, tensorflow\n",
            "  Found existing installation: tensorboard 2.2.0\n",
            "    Uninstalling tensorboard-2.2.0:\n",
            "      Successfully uninstalled tensorboard-2.2.0\n",
            "  Found existing installation: tensorflow-estimator 2.2.0rc0\n",
            "    Uninstalling tensorflow-estimator-2.2.0rc0:\n",
            "      Successfully uninstalled tensorflow-estimator-2.2.0rc0\n",
            "  Found existing installation: tensorflow 2.2.0rc2\n",
            "    Uninstalling tensorflow-2.2.0rc2:\n",
            "      Successfully uninstalled tensorflow-2.2.0rc2\n",
            "Successfully installed tensorboard-1.14.0 tensorflow-1.14.0 tensorflow-estimator-1.14.0\n"
          ],
          "name": "stdout"
        },
        {
          "output_type": "display_data",
          "data": {
            "application/vnd.colab-display-data+json": {
              "pip_warning": {
                "packages": [
                  "tensorboard",
                  "tensorflow"
                ]
              }
            }
          },
          "metadata": {
            "tags": []
          }
        }
      ]
    },
    {
      "cell_type": "code",
      "metadata": {
        "id": "FrG9SF-_vHcU",
        "colab_type": "code",
        "colab": {
          "base_uri": "https://localhost:8080/",
          "height": 518
        },
        "outputId": "8c7c6a8d-2820-4b2f-a613-aa6978049a03"
      },
      "source": [
        "import numpy as np\n",
        "np.random.seed(1337)\n",
        "from keras.models import Sequential\n",
        "from keras.layers import Dense, Dropout, Activation\n",
        "from keras.optimizers import Adam\n",
        "from keras.utils import to_categorical\n",
        "import random\n",
        "random.seed(1)"
      ],
      "execution_count": 17,
      "outputs": [
        {
          "output_type": "stream",
          "text": [
            "Using TensorFlow backend.\n",
            "/usr/local/lib/python3.6/dist-packages/tensorflow/python/framework/dtypes.py:516: FutureWarning: Passing (type, 1) or '1type' as a synonym of type is deprecated; in a future version of numpy, it will be understood as (type, (1,)) / '(1,)type'.\n",
            "  _np_qint8 = np.dtype([(\"qint8\", np.int8, 1)])\n",
            "/usr/local/lib/python3.6/dist-packages/tensorflow/python/framework/dtypes.py:517: FutureWarning: Passing (type, 1) or '1type' as a synonym of type is deprecated; in a future version of numpy, it will be understood as (type, (1,)) / '(1,)type'.\n",
            "  _np_quint8 = np.dtype([(\"quint8\", np.uint8, 1)])\n",
            "/usr/local/lib/python3.6/dist-packages/tensorflow/python/framework/dtypes.py:518: FutureWarning: Passing (type, 1) or '1type' as a synonym of type is deprecated; in a future version of numpy, it will be understood as (type, (1,)) / '(1,)type'.\n",
            "  _np_qint16 = np.dtype([(\"qint16\", np.int16, 1)])\n",
            "/usr/local/lib/python3.6/dist-packages/tensorflow/python/framework/dtypes.py:519: FutureWarning: Passing (type, 1) or '1type' as a synonym of type is deprecated; in a future version of numpy, it will be understood as (type, (1,)) / '(1,)type'.\n",
            "  _np_quint16 = np.dtype([(\"quint16\", np.uint16, 1)])\n",
            "/usr/local/lib/python3.6/dist-packages/tensorflow/python/framework/dtypes.py:520: FutureWarning: Passing (type, 1) or '1type' as a synonym of type is deprecated; in a future version of numpy, it will be understood as (type, (1,)) / '(1,)type'.\n",
            "  _np_qint32 = np.dtype([(\"qint32\", np.int32, 1)])\n",
            "/usr/local/lib/python3.6/dist-packages/tensorflow/python/framework/dtypes.py:525: FutureWarning: Passing (type, 1) or '1type' as a synonym of type is deprecated; in a future version of numpy, it will be understood as (type, (1,)) / '(1,)type'.\n",
            "  np_resource = np.dtype([(\"resource\", np.ubyte, 1)])\n",
            "/usr/local/lib/python3.6/dist-packages/tensorboard/compat/tensorflow_stub/dtypes.py:541: FutureWarning: Passing (type, 1) or '1type' as a synonym of type is deprecated; in a future version of numpy, it will be understood as (type, (1,)) / '(1,)type'.\n",
            "  _np_qint8 = np.dtype([(\"qint8\", np.int8, 1)])\n",
            "/usr/local/lib/python3.6/dist-packages/tensorboard/compat/tensorflow_stub/dtypes.py:542: FutureWarning: Passing (type, 1) or '1type' as a synonym of type is deprecated; in a future version of numpy, it will be understood as (type, (1,)) / '(1,)type'.\n",
            "  _np_quint8 = np.dtype([(\"quint8\", np.uint8, 1)])\n",
            "/usr/local/lib/python3.6/dist-packages/tensorboard/compat/tensorflow_stub/dtypes.py:543: FutureWarning: Passing (type, 1) or '1type' as a synonym of type is deprecated; in a future version of numpy, it will be understood as (type, (1,)) / '(1,)type'.\n",
            "  _np_qint16 = np.dtype([(\"qint16\", np.int16, 1)])\n",
            "/usr/local/lib/python3.6/dist-packages/tensorboard/compat/tensorflow_stub/dtypes.py:544: FutureWarning: Passing (type, 1) or '1type' as a synonym of type is deprecated; in a future version of numpy, it will be understood as (type, (1,)) / '(1,)type'.\n",
            "  _np_quint16 = np.dtype([(\"quint16\", np.uint16, 1)])\n",
            "/usr/local/lib/python3.6/dist-packages/tensorboard/compat/tensorflow_stub/dtypes.py:545: FutureWarning: Passing (type, 1) or '1type' as a synonym of type is deprecated; in a future version of numpy, it will be understood as (type, (1,)) / '(1,)type'.\n",
            "  _np_qint32 = np.dtype([(\"qint32\", np.int32, 1)])\n",
            "/usr/local/lib/python3.6/dist-packages/tensorboard/compat/tensorflow_stub/dtypes.py:550: FutureWarning: Passing (type, 1) or '1type' as a synonym of type is deprecated; in a future version of numpy, it will be understood as (type, (1,)) / '(1,)type'.\n",
            "  np_resource = np.dtype([(\"resource\", np.ubyte, 1)])\n"
          ],
          "name": "stderr"
        },
        {
          "output_type": "display_data",
          "data": {
            "text/html": [
              "<p style=\"color: red;\">\n",
              "The default version of TensorFlow in Colab will switch to TensorFlow 2.x on the 27th of March, 2020.<br>\n",
              "We recommend you <a href=\"https://www.tensorflow.org/guide/migrate\" target=\"_blank\">upgrade</a> now\n",
              "or ensure your notebook will continue to use TensorFlow 1.x via the <code>%tensorflow_version 1.x</code> magic:\n",
              "<a href=\"https://colab.research.google.com/notebooks/tensorflow_version.ipynb\" target=\"_blank\">more info</a>.</p>\n"
            ],
            "text/plain": [
              "<IPython.core.display.HTML object>"
            ]
          },
          "metadata": {
            "tags": []
          }
        }
      ]
    },
    {
      "cell_type": "code",
      "metadata": {
        "id": "P2WveJQpC4Is",
        "colab_type": "code",
        "colab": {}
      },
      "source": [
        "#Split X_train and y_train for training a sequential model and prediction \n",
        "\n",
        "# split the dataset \n",
        "from sklearn.model_selection import train_test_split \n",
        "xx_train, xx_test, yy_train, yy_test = train_test_split(X_train, y_train, test_size=0.10, random_state = 127)\n",
        "\n"
      ],
      "execution_count": 0,
      "outputs": []
    },
    {
      "cell_type": "code",
      "metadata": {
        "id": "JyxqeU0F501c",
        "colab_type": "code",
        "colab": {}
      },
      "source": [
        "#https://towardsdatascience.com/getting-started-on-deep-learning-for-audio-data-667d9aa76a33"
      ],
      "execution_count": 0,
      "outputs": []
    },
    {
      "cell_type": "code",
      "metadata": {
        "id": "RUuqf28-5nuB",
        "colab_type": "code",
        "colab": {}
      },
      "source": [
        "#Modification for Capturing sequence in audio data\n",
        "import numpy as np\n",
        "np.random.seed(1337)\n",
        "from keras import Sequential\n",
        "from keras import optimizers\n",
        "from keras.preprocessing.sequence import pad_sequences\n",
        "from keras.models import Sequential,Model\n",
        "from keras.layers import LSTM, Dense, Bidirectional, Input,Dropout,BatchNormalization,CuDNNLSTM, GRU, CuDNNGRU, Embedding, GlobalMaxPooling1D, GlobalAveragePooling1D, Flatten\n",
        "from keras import backend as K\n",
        "from keras.engine.topology import Layer\n",
        "from keras import initializers, regularizers, constraints\n",
        "from sklearn.model_selection import KFold, cross_val_score, train_test_split\n",
        "\n",
        "\n"
      ],
      "execution_count": 0,
      "outputs": []
    },
    {
      "cell_type": "code",
      "metadata": {
        "id": "bSEiC-umCc6y",
        "colab_type": "code",
        "colab": {}
      },
      "source": [
        "model = Sequential()\n",
        "model.add(BatchNormalization(momentum=0.98,input_shape=(418, 46)))\n",
        "model.add(Bidirectional(CuDNNGRU(128, return_sequences = True)))\n",
        "model.add(Flatten())\n",
        "model.add(Dense(1,input_dim=46,activation='sigmoid'))\n",
        "model.compile(loss='binary_crossentropy', metrics=['accuracy'], optimizer='adam')"
      ],
      "execution_count": 0,
      "outputs": []
    },
    {
      "cell_type": "code",
      "metadata": {
        "id": "N4J0m8297WKE",
        "colab_type": "code",
        "colab": {
          "base_uri": "https://localhost:8080/",
          "height": 295
        },
        "outputId": "7ea5e145-b2ab-48e1-95c6-2a99653259b8"
      },
      "source": [
        "model.summary()"
      ],
      "execution_count": 26,
      "outputs": [
        {
          "output_type": "stream",
          "text": [
            "Model: \"sequential_3\"\n",
            "_________________________________________________________________\n",
            "Layer (type)                 Output Shape              Param #   \n",
            "=================================================================\n",
            "batch_normalization_3 (Batch (None, 418, 46)           184       \n",
            "_________________________________________________________________\n",
            "bidirectional_3 (Bidirection (None, 418, 256)          135168    \n",
            "_________________________________________________________________\n",
            "flatten_3 (Flatten)          (None, 107008)            0         \n",
            "_________________________________________________________________\n",
            "dense_3 (Dense)              (None, 1)                 107009    \n",
            "=================================================================\n",
            "Total params: 242,361\n",
            "Trainable params: 242,269\n",
            "Non-trainable params: 92\n",
            "_________________________________________________________________\n"
          ],
          "name": "stdout"
        }
      ]
    },
    {
      "cell_type": "code",
      "metadata": {
        "id": "-UUtJxjm51pC",
        "colab_type": "code",
        "colab": {}
      },
      "source": [
        ""
      ],
      "execution_count": 0,
      "outputs": []
    },
    {
      "cell_type": "code",
      "metadata": {
        "id": "PoUDWptQ51fe",
        "colab_type": "code",
        "colab": {}
      },
      "source": [
        ""
      ],
      "execution_count": 0,
      "outputs": []
    },
    {
      "cell_type": "code",
      "metadata": {
        "id": "DPlMCXfjT1BE",
        "colab_type": "code",
        "colab": {}
      },
      "source": [
        "num_labels = yy_train.shape[0]\n",
        "filter_size = 2\n",
        "import keras\n",
        "\n",
        "def build_model_graph(input_shape=(465, 46)):\n",
        "    # define the keras model\n",
        "    model = Sequential()\n",
        "    #model.add(BatchNormalization(momentum=0.98))\n",
        "    model.add(Dense(12, input_dim=46, activation='relu',kernel_initializer=keras.initializers.glorot_uniform(seed=66)))\n",
        "    #model.add(Dense(8, activation='relu'))\n",
        "    #model.add(Bidirectional(CuDNNGRU(128, return_sequences = True)))\n",
        "    #model.add(Flatten())\n",
        "    model.add(Dense(1, activation='sigmoid',kernel_initializer=keras.initializers.glorot_uniform(seed=66)))\n",
        "    # Compile the model\n",
        "    model.compile(loss='binary_crossentropy', metrics=['accuracy'], optimizer='adam')\n",
        "    return model"
      ],
      "execution_count": 0,
      "outputs": []
    },
    {
      "cell_type": "code",
      "metadata": {
        "id": "GUEErf4swyDi",
        "colab_type": "code",
        "colab": {
          "base_uri": "https://localhost:8080/",
          "height": 225
        },
        "outputId": "2425da58-e76b-4729-c93c-820aad2852c3"
      },
      "source": [
        "model = build_model_graph()\n",
        "model.summary()"
      ],
      "execution_count": 34,
      "outputs": [
        {
          "output_type": "stream",
          "text": [
            "Model: \"sequential_7\"\n",
            "_________________________________________________________________\n",
            "Layer (type)                 Output Shape              Param #   \n",
            "=================================================================\n",
            "dense_8 (Dense)              (None, 12)                564       \n",
            "_________________________________________________________________\n",
            "dense_9 (Dense)              (None, 1)                 13        \n",
            "=================================================================\n",
            "Total params: 577\n",
            "Trainable params: 577\n",
            "Non-trainable params: 0\n",
            "_________________________________________________________________\n"
          ],
          "name": "stdout"
        }
      ]
    },
    {
      "cell_type": "code",
      "metadata": {
        "id": "QrEBqNuEx8fO",
        "colab_type": "code",
        "colab": {
          "base_uri": "https://localhost:8080/",
          "height": 72
        },
        "outputId": "d7cbf867-04d0-43f1-83ea-4a2e4bd42e7b"
      },
      "source": [
        "num_epochs = 100\n",
        "num_batch_size = 25\n",
        "history = model.fit(xx_train, yy_train, batch_size=num_batch_size, epochs=num_epochs, validation_data=(xx_test,yy_test), verbose=0,shuffle=False)\n",
        "\n",
        "\n"
      ],
      "execution_count": 35,
      "outputs": [
        {
          "output_type": "stream",
          "text": [
            "WARNING:tensorflow:From /usr/local/lib/python3.6/dist-packages/keras/backend/tensorflow_backend.py:1033: The name tf.assign_add is deprecated. Please use tf.compat.v1.assign_add instead.\n",
            "\n"
          ],
          "name": "stdout"
        }
      ]
    },
    {
      "cell_type": "code",
      "metadata": {
        "id": "lI2ZiGKiNOtG",
        "colab_type": "code",
        "colab": {
          "base_uri": "https://localhost:8080/",
          "height": 281
        },
        "outputId": "a7324265-9c4a-4259-e248-7e3114efea05"
      },
      "source": [
        "plt.title('Loss')\n",
        "plt.plot(history.history['loss'], label='train')\n",
        "plt.plot(history.history['val_loss'], label='test')\n",
        "plt.legend()\n",
        "plt.show();"
      ],
      "execution_count": 21,
      "outputs": [
        {
          "output_type": "display_data",
          "data": {
            "image/png": "[encoded data removed]",
            "text/plain": [
              "<Figure size 432x288 with 1 Axes>"
            ]
          },
          "metadata": {
            "tags": []
          }
        }
      ]
    },
    {
      "cell_type": "code",
      "metadata": {
        "id": "JDI12XVgNRA6",
        "colab_type": "code",
        "colab": {
          "base_uri": "https://localhost:8080/",
          "height": 281
        },
        "outputId": "5f032cc1-c24a-4d46-cbbe-c89986c7f6f1"
      },
      "source": [
        "plt.title('Accuracy')\n",
        "plt.plot(history.history['acc'], label='train')\n",
        "plt.plot(history.history['val_acc'], label='test')\n",
        "plt.legend()\n",
        "plt.show();"
      ],
      "execution_count": 36,
      "outputs": [
        {
          "output_type": "display_data",
          "data": {
            "image/png": "[encoded data removed]",
            "text/plain": [
              "<Figure size 432x288 with 1 Axes>"
            ]
          },
          "metadata": {
            "tags": []
          }
        }
      ]
    },
    {
      "cell_type": "code",
      "metadata": {
        "id": "ImlMdmqJFHO5",
        "colab_type": "code",
        "colab": {
          "base_uri": "https://localhost:8080/",
          "height": 52
        },
        "outputId": "add82c4a-31f3-445b-ca15-af1d838d1426"
      },
      "source": [
        "# Evaluating the model on the training and testing set\n",
        "score = model.evaluate(xx_train, yy_train, verbose=0)\n",
        "print(\"Training Accuracy: {0:.2%}\".format(score[1]))\n",
        "score = model.evaluate(xx_test, yy_test, verbose=0)\n",
        "print(\"Testing Accuracy: {0:.2%}\".format(score[1]))\n",
        "\n",
        "\n",
        "#Training Accuracy: 95.97%\n",
        "#Testing Accuracy: 76.34%\n",
        "\n",
        "\n",
        "#Training Accuracy: 98.77%\n",
        "#Testing Accuracy: 72.14%\n",
        "\n",
        "\n",
        "#Training Accuracy: 92.58%\n",
        "#Testing Accuracy: 85.11%\n",
        "\n",
        "#Training Accuracy: 84.45%\n",
        "#Testing Accuracy: 82.98%\n",
        "\n",
        "#Training Accuracy: 82.54%\n",
        "#Testing Accuracy: 74.47%\n",
        "\n",
        "#Training Accuracy: 83.73%\n",
        "#Testing Accuracy: 80.85%\n",
        "\n",
        "\n",
        "#Training Accuracy: 84.45%\n",
        "#Testing Accuracy: 82.98%\n",
        "\n",
        "#Training Accuracy: 84.21%\n",
        "#Testing Accuracy: 82.98%\n"
      ],
      "execution_count": 37,
      "outputs": [
        {
          "output_type": "stream",
          "text": [
            "Training Accuracy: 84.21%\n",
            "Testing Accuracy: 80.85%\n"
          ],
          "name": "stdout"
        }
      ]
    },
    {
      "cell_type": "markdown",
      "metadata": {
        "id": "54ok2ABWQqDZ",
        "colab_type": "text"
      },
      "source": [
        "Fine tune the parameters to improve classification accuracy - if not then refine the features used - perhaps add weightage somewhere - aim for atleast 80% accuracy "
      ]
    },
    {
      "cell_type": "markdown",
      "metadata": {
        "id": "OjCCYSr7vqsq",
        "colab_type": "text"
      },
      "source": [
        "Generation 15 - Current best internal CV score: 0.7109589041095891\n",
        "\n",
        "Best pipeline: DecisionTreeClassifier(PolynomialFeatures(CombineDFs(input_matrix, input_matrix), degree=2, include_bias=False, interaction_only=False), criterion=entropy, max_depth=3, min_samples_leaf=18, min_samples_split=16)\n",
        "\n",
        "TPOTClassifier(config_dict=None, crossover_rate=0.1, cv=5,\n",
        "               disable_update_check=False, early_stop=None, generations=15,\n",
        "               max_eval_time_mins=5, max_time_mins=None, memory=None,\n",
        "               mutation_rate=0.9, n_jobs=1, offspring_size=None,\n",
        "               periodic_checkpoint_folder=None, population_size=50,\n",
        "               random_state=42, scoring=None, subsample=1.0, template=None,\n",
        "               use_dask=False, verbosity=2, warm_start=False)"
      ]
    },
    {
      "cell_type": "markdown",
      "metadata": {
        "id": "IqfocG7WYYBO",
        "colab_type": "text"
      },
      "source": [
        "Sequence Modeling \n",
        "\n",
        "\n",
        "hi, i just wanted to mention, about the modeling of features using sequence models. the current super basic way that I used is modeling chunks of X consecutive frames (so far I used 10frames) computing their mean and standard deviation.\n",
        "3:05\n",
        "You can use maybe this function as model. It is within the featureExtractionFunctions.py script\n",
        "\n",
        "\n",
        "\n",
        "\n"
      ]
    },
    {
      "cell_type": "code",
      "metadata": {
        "id": "H_9RJd_3YiDp",
        "colab_type": "code",
        "colab": {}
      },
      "source": [
        ""
      ],
      "execution_count": 0,
      "outputs": []
    }
  ]
}