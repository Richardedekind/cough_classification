{
 "cells": [
  {
   "cell_type": "code",
   "execution_count": 32,
   "metadata": {},
   "outputs": [],
   "source": [
    "from __future__ import unicode_literals\n",
    "import youtube_dl\n",
    "import csv\n",
    "import subprocess\n",
    "import os"
   ]
  },
  {
   "cell_type": "code",
   "execution_count": 33,
   "metadata": {},
   "outputs": [],
   "source": [
    "ydl_opts = {\n",
    "    'format': 'm4a',\n",
    "    'ignoreerrors': 'True',\n",
    "    'postprocessors': [{\n",
    "        'key': 'FFmpegExtractAudio',\n",
    "    }],\n",
    "}\n"
   ]
  },
  {
   "cell_type": "code",
   "execution_count": 48,
   "metadata": {},
   "outputs": [
    {
     "name": "stdout",
     "output_type": "stream",
     "text": [
      "https://www.youtube.com/watch?v=jxYNLCYTwZQ\n",
      "[youtube] jxYNLCYTwZQ: Downloading webpage\n",
      "[youtube] jxYNLCYTwZQ: Downloading embed webpage\n",
      "[youtube] jxYNLCYTwZQ: Refetching age-gated info webpage\n",
      "[youtube] jxYNLCYTwZQ: Downloading MPD manifest\n",
      "[dashsegments] Total fragments: 28\n",
      "[download] Destination: # 60 coughing still (deep and wet cough)-jxYNLCYTwZQ.m4a\n",
      "[download] 100% of 2.00MiB in 00:01.27MiB/s ETA 00:000107\n",
      "[ffmpeg] Correcting container in \"# 60 coughing still (deep and wet cough)-jxYNLCYTwZQ.m4a\"\n",
      "[ffmpeg] Post-process file # 60 coughing still (deep and wet cough)-jxYNLCYTwZQ.m4a exists, skipping\n",
      "https://www.youtube.com/watch?v=qfpJg179YNk\n",
      "[youtube] qfpJg179YNk: Downloading webpage\n",
      "[youtube] qfpJg179YNk: Downloading MPD manifest\n",
      "[dashsegments] Total fragments: 42\n",
      "[download] Destination: # 61 morning phlegmy cough...again-qfpJg179YNk.m4a\n",
      "[download] 100% of 3.05MiB in 00:01.88MiB/s ETA 00:000102\n",
      "[ffmpeg] Correcting container in \"# 61 morning phlegmy cough...again-qfpJg179YNk.m4a\"\n",
      "[ffmpeg] Post-process file # 61 morning phlegmy cough...again-qfpJg179YNk.m4a exists, skipping\n",
      "https://www.youtube.com/watch?v=d2wkdrScerU\n",
      "[youtube] d2wkdrScerU: Downloading webpage\n",
      "[download] Destination: # 30 Chesty and wet cough-d2wkdrScerU.m4a\n",
      "[download] 100% of 3.26MiB in 00:0008MiB/s ETA 00:003\n",
      "[ffmpeg] Correcting container in \"# 30 Chesty and wet cough-d2wkdrScerU.m4a\"\n",
      "[ffmpeg] Post-process file # 30 Chesty and wet cough-d2wkdrScerU.m4a exists, skipping\n",
      "https://www.youtube.com/watch?v=ct3tHDfNKiQ\n",
      "[youtube] ct3tHDfNKiQ: Downloading webpage\n",
      "[youtube] ct3tHDfNKiQ: Downloading MPD manifest\n",
      "[dashsegments] Total fragments: 27\n",
      "[download] Destination: # 55 gaggy wet cough-ct3tHDfNKiQ.m4a\n",
      "[download] 100% of 1.95MiB in 00:01.95MiB/s ETA 00:0000\n",
      "[ffmpeg] Correcting container in \"# 55 gaggy wet cough-ct3tHDfNKiQ.m4a\"\n",
      "[ffmpeg] Post-process file # 55 gaggy wet cough-ct3tHDfNKiQ.m4a exists, skipping\n",
      "https://www.youtube.com/watch?v=Dc_aoUCqw2E\n",
      "[youtube] Dc_aoUCqw2E: Downloading webpage\n",
      "[download] Destination: # 31 night wet cough-Dc_aoUCqw2E.m4a\n",
      "[download] 100% of 3.22MiB in 00:0013MiB/s ETA 00:005\n",
      "[ffmpeg] Correcting container in \"# 31 night wet cough-Dc_aoUCqw2E.m4a\"\n",
      "[ffmpeg] Post-process file # 31 night wet cough-Dc_aoUCqw2E.m4a exists, skipping\n",
      "https://www.youtube.com/watch?v=0QQxKN-KC1U\n",
      "[youtube] 0QQxKN-KC1U: Downloading webpage\n",
      "[download] Destination: Wet coughing-0QQxKN-KC1U.m4a\n",
      "[download] 100% of 758.73KiB in 00:0017MiB/s ETA 00:001\n",
      "[ffmpeg] Correcting container in \"Wet coughing-0QQxKN-KC1U.m4a\"\n",
      "[ffmpeg] Post-process file Wet coughing-0QQxKN-KC1U.m4a exists, skipping\n",
      "https://www.youtube.com/watch?v=De4HdyocTHY\n",
      "[youtube] De4HdyocTHY: Downloading webpage\n",
      "[download] Destination: My deep wet cough-De4HdyocTHY.m4a\n",
      "[download] 100% of 4.00MiB in 00:0091MiB/s ETA 00:005\n",
      "[ffmpeg] Correcting container in \"My deep wet cough-De4HdyocTHY.m4a\"\n",
      "[ffmpeg] Post-process file My deep wet cough-De4HdyocTHY.m4a exists, skipping\n",
      "https://www.youtube.com/watch?v=DYfjPnty2Ho\n",
      "[youtube] DYfjPnty2Ho: Downloading webpage\n",
      "[download] Destination: November cold (wet coughing)-DYfjPnty2Ho.m4a\n",
      "[download] 100% of 953.45KiB in 00:0005MiB/s ETA 00:001\n",
      "[ffmpeg] Correcting container in \"November cold (wet coughing)-DYfjPnty2Ho.m4a\"\n",
      "[ffmpeg] Post-process file November cold (wet coughing)-DYfjPnty2Ho.m4a exists, skipping\n",
      "https://www.youtube.com/watch?v=q6WsoL3J8U8\n",
      "[youtube] q6WsoL3J8U8: Downloading webpage\n",
      "[download] Destination: Man Coughing Sound - Wet Cough Sound Effect-q6WsoL3J8U8.m4a\n",
      "[download] 100% of 845.57KiB in 00:0021MiB/s ETA 00:001\n",
      "[ffmpeg] Correcting container in \"Man Coughing Sound - Wet Cough Sound Effect-q6WsoL3J8U8.m4a\"\n",
      "[ffmpeg] Post-process file Man Coughing Sound - Wet Cough Sound Effect-q6WsoL3J8U8.m4a exists, skipping\n",
      "https://www.youtube.com/watch?v=CTSLdNxN1cc\n",
      "[youtube] CTSLdNxN1cc: Downloading webpage\n",
      "[download] Destination: Single wet cough-CTSLdNxN1cc.m4a\n",
      "[download] 100% of 80.98KiB in 00:0069MiB/s ETA 00:000\n",
      "[ffmpeg] Correcting container in \"Single wet cough-CTSLdNxN1cc.m4a\"\n",
      "[ffmpeg] Post-process file Single wet cough-CTSLdNxN1cc.m4a exists, skipping\n",
      "https://www.youtube.com/watch?v=tfc5cXiXMDc\n",
      "[youtube] tfc5cXiXMDc: Downloading webpage\n",
      "[youtube] tfc5cXiXMDc: Downloading MPD manifest\n",
      "[dashsegments] Total fragments: 11\n",
      "[download] Destination: Wet Throat Infection Cough-tfc5cXiXMDc.m4a\n",
      "[download] 100% of 748.12KiB in 00:00.43MiB/s ETA 00:0000\n",
      "[ffmpeg] Correcting container in \"Wet Throat Infection Cough-tfc5cXiXMDc.m4a\"\n",
      "[ffmpeg] Post-process file Wet Throat Infection Cough-tfc5cXiXMDc.m4a exists, skipping\n",
      "https://www.youtube.com/watch?v=rkF_uMizqoc\n",
      "[youtube] rkF_uMizqoc: Downloading webpage\n",
      "[download] Destination: # 34 coughing up crap again-rkF_uMizqoc.m4a\n",
      "[download] 100% of 1.65MiB in 00:0035MiB/s ETA 00:002\n",
      "[ffmpeg] Correcting container in \"# 34 coughing up crap again-rkF_uMizqoc.m4a\"\n",
      "[ffmpeg] Post-process file # 34 coughing up crap again-rkF_uMizqoc.m4a exists, skipping\n",
      "https://www.youtube.com/watch?v=5905FxXz9dI\n",
      "[youtube] 5905FxXz9dI: Downloading webpage\n",
      "[download] Destination: Wheezing Chest and Wet Cough 2-5905FxXz9dI.m4a\n",
      "[download] 100% of 1.33MiB in 00:0025MiB/s ETA 00:001\n",
      "[ffmpeg] Correcting container in \"Wheezing Chest and Wet Cough 2-5905FxXz9dI.m4a\"\n",
      "[ffmpeg] Post-process file Wheezing Chest and Wet Cough 2-5905FxXz9dI.m4a exists, skipping\n",
      "https://www.youtube.com/watch?v=IzPMbIll3LE\n",
      "[youtube] IzPMbIll3LE: Downloading webpage\n",
      "[download] Destination: Male bronchitis cough-IzPMbIll3LE.m4a\n",
      "[download] 100% of 1.46MiB in 00:0013MiB/s ETA 00:001\n",
      "[ffmpeg] Correcting container in \"Male bronchitis cough-IzPMbIll3LE.m4a\"\n",
      "[ffmpeg] Post-process file Male bronchitis cough-IzPMbIll3LE.m4a exists, skipping\n",
      "https://www.youtube.com/watch?v=h2FLCKMcEX0\n",
      "[youtube] h2FLCKMcEX0: Downloading webpage\n",
      "[youtube] h2FLCKMcEX0: Downloading MPD manifest\n",
      "[dashsegments] Total fragments: 15\n",
      "[download] Destination: Coughing 79-h2FLCKMcEX0.m4a\n",
      "[download] 100% of 1010.39KiB in 00:00.84MiB/s ETA 00:000\n",
      "[ffmpeg] Correcting container in \"Coughing 79-h2FLCKMcEX0.m4a\"\n",
      "[ffmpeg] Post-process file Coughing 79-h2FLCKMcEX0.m4a exists, skipping\n",
      "https://www.youtube.com/watch?v=2Mw-s5jnqXU\n",
      "[youtube] 2Mw-s5jnqXU: Downloading webpage\n",
      "[download] Destination: Coughing 77-2Mw-s5jnqXU.m4a\n",
      "[download] 100% of 1.78MiB in 00:0014MiB/s ETA 00:002\n",
      "[ffmpeg] Correcting container in \"Coughing 77-2Mw-s5jnqXU.m4a\"\n",
      "[ffmpeg] Post-process file Coughing 77-2Mw-s5jnqXU.m4a exists, skipping\n",
      "https://www.youtube.com/watch?v=diuuEXKzNB8\n",
      "[youtube] diuuEXKzNB8: Downloading webpage\n",
      "[download] Destination: Coughing 60-diuuEXKzNB8.m4a\n",
      "[download] 100% of 909.46KiB in 00:0052MiB/s ETA 00:001\n",
      "[ffmpeg] Correcting container in \"Coughing 60-diuuEXKzNB8.m4a\"\n",
      "[ffmpeg] Post-process file Coughing 60-diuuEXKzNB8.m4a exists, skipping\n",
      "https://www.youtube.com/watch?v=dg-I9j76-t8\n",
      "[youtube] dg-I9j76-t8: Downloading webpage\n",
      "[download] Destination: Coughing 46-dg-I9j76-t8.m4a\n",
      "[download] 100% of 716.68KiB in 00:0080MiB/s ETA 00:001\n",
      "[ffmpeg] Correcting container in \"Coughing 46-dg-I9j76-t8.m4a\"\n",
      "[ffmpeg] Post-process file Coughing 46-dg-I9j76-t8.m4a exists, skipping\n",
      "https://www.youtube.com/watch?v=TK4CveeCWfY\n",
      "[youtube] TK4CveeCWfY: Downloading webpage\n",
      "[youtube] TK4CveeCWfY: Downloading MPD manifest\n",
      "[dashsegments] Total fragments: 16\n",
      "[download] Destination: Residual Phlegmy Morning Coughing and Gagging-TK4CveeCWfY.m4a\n",
      "[download] 100% of 1.13MiB in 00:00.98MiB/s ETA 00:00000\n",
      "[ffmpeg] Correcting container in \"Residual Phlegmy Morning Coughing and Gagging-TK4CveeCWfY.m4a\"\n",
      "[ffmpeg] Post-process file Residual Phlegmy Morning Coughing and Gagging-TK4CveeCWfY.m4a exists, skipping\n",
      "https://www.youtube.com/watch?v=4k0ziD0j5BI\n",
      "[youtube] 4k0ziD0j5BI: Downloading webpage\n",
      "[youtube] 4k0ziD0j5BI: Downloading MPD manifest\n",
      "[dashsegments] Total fragments: 22\n",
      "[download] Destination: Cough Around the Clock!-4k0ziD0j5BI.m4a\n",
      "[download] 100% of 1.57MiB in 00:00.05MiB/s ETA 00:000043\n",
      "[ffmpeg] Correcting container in \"Cough Around the Clock!-4k0ziD0j5BI.m4a\"\n",
      "[ffmpeg] Post-process file Cough Around the Clock!-4k0ziD0j5BI.m4a exists, skipping\n",
      "https://www.youtube.com/watch?v=CsDXlt7Ei1c\n",
      "[youtube] CsDXlt7Ei1c: Downloading webpage\n",
      "[youtube] CsDXlt7Ei1c: Downloading MPD manifest\n",
      "[dashsegments] Total fragments: 34\n"
     ]
    },
    {
     "name": "stdout",
     "output_type": "stream",
     "text": [
      "[download] Destination: #64 coughing, allergies, singing lungs-CsDXlt7Ei1c.m4a\n",
      "[download] 100% of 2.47MiB in 00:01.09MiB/s ETA 00:000:00\n",
      "[ffmpeg] Correcting container in \"#64 coughing, allergies, singing lungs-CsDXlt7Ei1c.m4a\"\n",
      "[ffmpeg] Post-process file #64 coughing, allergies, singing lungs-CsDXlt7Ei1c.m4a exists, skipping\n",
      "https://www.youtube.com/watch?v=7Ez5Wc_esBg\n",
      "[youtube] 7Ez5Wc_esBg: Downloading webpage\n",
      "[youtube] 7Ez5Wc_esBg: Downloading MPD manifest\n",
      "[dashsegments] Total fragments: 8\n",
      "[download] Destination: Spring Allergy Coughing-7Ez5Wc_esBg.m4a\n",
      "[download] 100% of 1.06MiB in 00:00.03MiB/s ETA 00:000000\n",
      "[ffmpeg] Correcting container in \"Spring Allergy Coughing-7Ez5Wc_esBg.m4a\"\n",
      "[ffmpeg] Post-process file Spring Allergy Coughing-7Ez5Wc_esBg.m4a exists, skipping\n",
      "https://www.youtube.com/watch?v=NfKZNt25L-Q\n",
      "[youtube] NfKZNt25L-Q: Downloading webpage\n",
      "[youtube] NfKZNt25L-Q: Downloading MPD manifest\n",
      "[dashsegments] Total fragments: 9\n",
      "[download] Destination: More Allergy Coughing-NfKZNt25L-Q.m4a\n",
      "[download] 100% of 1.19MiB in 00:00.66MiB/s ETA 00:00000\n",
      "[ffmpeg] Correcting container in \"More Allergy Coughing-NfKZNt25L-Q.m4a\"\n",
      "[ffmpeg] Post-process file More Allergy Coughing-NfKZNt25L-Q.m4a exists, skipping\n",
      "https://www.youtube.com/watch?v=NaOVmYoIjbs\n",
      "[youtube] NaOVmYoIjbs: Downloading webpage\n",
      "[youtube] NaOVmYoIjbs: Downloading MPD manifest\n",
      "[dashsegments] Total fragments: 11\n",
      "[download] Destination: Heavy cold and sore throat coughing.-NaOVmYoIjbs.m4a\n",
      "[download] 100% of 736.17KiB in 00:00.73MiB/s ETA 00:0000\n",
      "[ffmpeg] Correcting container in \"Heavy cold and sore throat coughing.-NaOVmYoIjbs.m4a\"\n",
      "[ffmpeg] Post-process file Heavy cold and sore throat coughing.-NaOVmYoIjbs.m4a exists, skipping\n",
      "https://www.youtube.com/watch?v=XrpB4DTNQZw\n",
      "[youtube] XrpB4DTNQZw: Downloading webpage\n",
      "[youtube] XrpB4DTNQZw: Downloading MPD manifest\n",
      "[dashsegments] Total fragments: 19\n",
      "[download] Destination: Dry Early Morning Cough-XrpB4DTNQZw.m4a\n",
      "[download] 100% of 1.33MiB in 00:00.64MiB/s ETA 00:000010\n",
      "[ffmpeg] Correcting container in \"Dry Early Morning Cough-XrpB4DTNQZw.m4a\"\n",
      "[ffmpeg] Post-process file Dry Early Morning Cough-XrpB4DTNQZw.m4a exists, skipping\n",
      "https://www.youtube.com/watch?v=h-GtQfDCoaE\n",
      "[youtube] h-GtQfDCoaE: Downloading webpage\n",
      "[youtube] h-GtQfDCoaE: Downloading MPD manifest\n",
      "[dashsegments] Total fragments: 20\n",
      "[download] Destination: Mid-morning Winter Coughing Fit-h-GtQfDCoaE.m4a\n",
      "[download] 100% of 1.37MiB in 00:00.07MiB/s ETA 00:000264\n",
      "[ffmpeg] Correcting container in \"Mid-morning Winter Coughing Fit-h-GtQfDCoaE.m4a\"\n",
      "[ffmpeg] Post-process file Mid-morning Winter Coughing Fit-h-GtQfDCoaE.m4a exists, skipping\n",
      "https://www.youtube.com/watch?v=u2KMBD5-oCg\n",
      "[youtube] u2KMBD5-oCg: Downloading webpage\n",
      "[download] Destination: Spring Cold Coughing.-u2KMBD5-oCg.m4a\n",
      "[download] 100% of 2.28MiB in 00:0029MiB/s ETA 00:002\n",
      "[ffmpeg] Correcting container in \"Spring Cold Coughing.-u2KMBD5-oCg.m4a\"\n",
      "[ffmpeg] Post-process file Spring Cold Coughing.-u2KMBD5-oCg.m4a exists, skipping\n",
      "https://www.youtube.com/watch?v=A5s2ZgwQ1VM\n",
      "[youtube] A5s2ZgwQ1VM: Downloading webpage\n",
      "[download] Destination: Dry Coughing Fit in the Afternoon.-A5s2ZgwQ1VM.m4a\n",
      "[download] 100% of 1.77MiB in 00:0017MiB/s ETA 00:002\n",
      "[ffmpeg] Correcting container in \"Dry Coughing Fit in the Afternoon.-A5s2ZgwQ1VM.m4a\"\n",
      "[ffmpeg] Post-process file Dry Coughing Fit in the Afternoon.-A5s2ZgwQ1VM.m4a exists, skipping\n",
      "https://www.youtube.com/watch?v=ekqLlw-Xe68\n",
      "[youtube] ekqLlw-Xe68: Downloading webpage\n",
      "[download] Destination: Dry Morning Cough turns Chesty and Barking.-ekqLlw-Xe68.m4a\n",
      "[download] 100% of 1.87MiB in 00:0030MiB/s ETA 00:002\n",
      "[ffmpeg] Correcting container in \"Dry Morning Cough turns Chesty and Barking.-ekqLlw-Xe68.m4a\"\n",
      "[ffmpeg] Post-process file Dry Morning Cough turns Chesty and Barking.-ekqLlw-Xe68.m4a exists, skipping\n",
      "https://www.youtube.com/watch?v=6LK6yHtIung\n",
      "[youtube] 6LK6yHtIung: Downloading webpage\n",
      "[download] Destination: Dry Afternoon Cough-6LK6yHtIung.m4a\n",
      "[download] 100% of 1.34MiB in 00:0023MiB/s ETA 00:001\n",
      "[ffmpeg] Correcting container in \"Dry Afternoon Cough-6LK6yHtIung.m4a\"\n",
      "[ffmpeg] Post-process file Dry Afternoon Cough-6LK6yHtIung.m4a exists, skipping\n",
      "https://www.youtube.com/watch?v=tZtJaS2ZtME\n",
      "[youtube] tZtJaS2ZtME: Downloading webpage\n",
      "[download] Destination: Spring Cold Coughing 3-tZtJaS2ZtME.m4a\n",
      "[download] 100% of 2.22MiB in 00:0023MiB/s ETA 00:002\n",
      "[ffmpeg] Correcting container in \"Spring Cold Coughing 3-tZtJaS2ZtME.m4a\"\n",
      "[ffmpeg] Post-process file Spring Cold Coughing 3-tZtJaS2ZtME.m4a exists, skipping\n",
      "https://www.youtube.com/watch?v=AQOeIVbhFm4\n",
      "[youtube] AQOeIVbhFm4: Downloading webpage\n",
      "[download] Destination: Spring Cold Coughing 2-AQOeIVbhFm4.m4a\n",
      "[download] 100% of 1.84MiB in 00:0014MiB/s ETA 00:002\n",
      "[ffmpeg] Correcting container in \"Spring Cold Coughing 2-AQOeIVbhFm4.m4a\"\n",
      "[ffmpeg] Post-process file Spring Cold Coughing 2-AQOeIVbhFm4.m4a exists, skipping\n",
      "https://www.soundsnap.com/node/90850\n",
      "[generic] 90850: Requesting header\n"
     ]
    },
    {
     "name": "stderr",
     "output_type": "stream",
     "text": [
      "WARNING: Falling back on generic information extractor.\n"
     ]
    },
    {
     "name": "stdout",
     "output_type": "stream",
     "text": [
      "[generic] 90850: Downloading webpage\n",
      "[generic] 90850: Extracting information\n"
     ]
    },
    {
     "name": "stderr",
     "output_type": "stream",
     "text": [
      "ERROR: Unsupported URL: https://www.soundsnap.com/node/90850\n"
     ]
    },
    {
     "name": "stdout",
     "output_type": "stream",
     "text": [
      "https://www.soundsnap.com/node/27240\n",
      "[generic] 27240: Requesting header\n"
     ]
    },
    {
     "name": "stderr",
     "output_type": "stream",
     "text": [
      "WARNING: Falling back on generic information extractor.\n"
     ]
    },
    {
     "name": "stdout",
     "output_type": "stream",
     "text": [
      "[generic] 27240: Downloading webpage\n",
      "[generic] 27240: Extracting information\n"
     ]
    },
    {
     "name": "stderr",
     "output_type": "stream",
     "text": [
      "ERROR: Unsupported URL: https://www.soundsnap.com/node/27240\n"
     ]
    },
    {
     "name": "stdout",
     "output_type": "stream",
     "text": [
      "https://www.soundsnap.com/node/28608\n",
      "[generic] 28608: Requesting header\n"
     ]
    },
    {
     "name": "stderr",
     "output_type": "stream",
     "text": [
      "WARNING: Falling back on generic information extractor.\n"
     ]
    },
    {
     "name": "stdout",
     "output_type": "stream",
     "text": [
      "[generic] 28608: Downloading webpage\n",
      "[generic] 28608: Extracting information\n"
     ]
    },
    {
     "name": "stderr",
     "output_type": "stream",
     "text": [
      "ERROR: Unsupported URL: https://www.soundsnap.com/node/28608\n"
     ]
    },
    {
     "name": "stdout",
     "output_type": "stream",
     "text": [
      "https://www.soundsnap.com/node/27471\n",
      "[generic] 27471: Requesting header\n"
     ]
    },
    {
     "name": "stderr",
     "output_type": "stream",
     "text": [
      "WARNING: Falling back on generic information extractor.\n"
     ]
    },
    {
     "name": "stdout",
     "output_type": "stream",
     "text": [
      "[generic] 27471: Downloading webpage\n",
      "[generic] 27471: Extracting information\n"
     ]
    },
    {
     "name": "stderr",
     "output_type": "stream",
     "text": [
      "ERROR: Unsupported URL: https://www.soundsnap.com/node/27471\n"
     ]
    },
    {
     "name": "stdout",
     "output_type": "stream",
     "text": [
      "https://www.soundsnap.com/node/26976\n",
      "[generic] 26976: Requesting header\n"
     ]
    },
    {
     "name": "stderr",
     "output_type": "stream",
     "text": [
      "WARNING: Falling back on generic information extractor.\n"
     ]
    },
    {
     "name": "stdout",
     "output_type": "stream",
     "text": [
      "[generic] 26976: Downloading webpage\n",
      "[generic] 26976: Extracting information\n"
     ]
    },
    {
     "name": "stderr",
     "output_type": "stream",
     "text": [
      "ERROR: Unsupported URL: https://www.soundsnap.com/node/26976\n"
     ]
    },
    {
     "name": "stdout",
     "output_type": "stream",
     "text": [
      "https://www.youtube.com/watch?v=zjd4HrJbc8o\n",
      "[youtube] zjd4HrJbc8o: Downloading webpage\n",
      "[download] Destination: Coughing Woman Sound - Woman Cough Sound Effect-zjd4HrJbc8o.m4a\n",
      "[download] 100% of 938.89KiB in 00:0005MiB/s ETA 00:001\n",
      "[ffmpeg] Correcting container in \"Coughing Woman Sound - Woman Cough Sound Effect-zjd4HrJbc8o.m4a\"\n",
      "[ffmpeg] Post-process file Coughing Woman Sound - Woman Cough Sound Effect-zjd4HrJbc8o.m4a exists, skipping\n",
      "https://www.youtube.com/watch?v=iYxUHA-Pwsk\n",
      "[youtube] iYxUHA-Pwsk: Downloading webpage\n",
      "[youtube] iYxUHA-Pwsk: Downloading MPD manifest\n",
      "[dashsegments] Total fragments: 4\n",
      "[download] Destination: Another Girl Coughing-iYxUHA-Pwsk.m4a\n",
      "[download] 100% of 177.94KiB in 00:00.99MiB/s ETA 00:000\n",
      "[ffmpeg] Correcting container in \"Another Girl Coughing-iYxUHA-Pwsk.m4a\"\n",
      "[ffmpeg] Post-process file Another Girl Coughing-iYxUHA-Pwsk.m4a exists, skipping\n",
      "https://www.youtube.com/watch?v=1UDFq2InljM\n",
      "[youtube] 1UDFq2InljM: Downloading webpage\n",
      "[download] Destination: Coughing 14 - After work-1UDFq2InljM.m4a\n",
      "[download] 100% of 304.66KiB in 00:0017MiB/s ETA 00:000\n",
      "[ffmpeg] Correcting container in \"Coughing 14 - After work-1UDFq2InljM.m4a\"\n",
      "[ffmpeg] Post-process file Coughing 14 - After work-1UDFq2InljM.m4a exists, skipping\n",
      "https://www.youtube.com/watch?v=LkxvBb2VXbs\n",
      "[youtube] LkxvBb2VXbs: Downloading webpage\n",
      "[download] Destination: Coughing 51-LkxvBb2VXbs.m4a\n",
      "[download] 100% of 1.99MiB in 00:0031MiB/s ETA 00:002\n",
      "[ffmpeg] Correcting container in \"Coughing 51-LkxvBb2VXbs.m4a\"\n",
      "[ffmpeg] Post-process file Coughing 51-LkxvBb2VXbs.m4a exists, skipping\n"
     ]
    }
   ],
   "source": [
    "file = csv.reader(open('lists/cough_YTvideo_list_labeled.csv'), delimiter=',')\n",
    "next(file) #skip header\n",
    "for line in file:\n",
    "    print(line[0])\n",
    "    with youtube_dl.YoutubeDL(ydl_opts) as ydl:\n",
    "        ydl.download([line[0]])"
   ]
  },
  {
   "cell_type": "code",
   "execution_count": 55,
   "metadata": {},
   "outputs": [
    {
     "name": "stdout",
     "output_type": "stream",
     "text": [
      "Dry Morning Cough turns Chesty and Barking.-ekqLlw-Xe68.m4a\n",
      "Coughing 60-diuuEXKzNB8.m4a\n",
      "# 34 coughing up crap again-rkF_uMizqoc.m4a\n",
      "# 55 gaggy wet cough-ct3tHDfNKiQ.m4a\n",
      "Another Girl Coughing-iYxUHA-Pwsk.m4a\n",
      "Dry Early Morning Cough-XrpB4DTNQZw.m4a\n",
      "Wet coughing-0QQxKN-KC1U.m4a\n",
      "Coughing 79-h2FLCKMcEX0.m4a\n",
      "# 61 morning phlegmy cough...again-qfpJg179YNk.m4a\n",
      "My deep wet cough-De4HdyocTHY.m4a\n",
      "November cold (wet coughing)-DYfjPnty2Ho.m4a\n",
      "# 60 coughing still (deep and wet cough)-jxYNLCYTwZQ.m4a\n",
      "Residual Phlegmy Morning Coughing and Gagging-TK4CveeCWfY.m4a\n",
      "Spring Cold Coughing 2-AQOeIVbhFm4.m4a\n",
      "Spring Cold Coughing.-u2KMBD5-oCg.m4a\n",
      "# 31 night wet cough-Dc_aoUCqw2E.m4a\n",
      "Cough Around the Clock!-4k0ziD0j5BI.m4a\n",
      "Single wet cough-CTSLdNxN1cc.m4a\n",
      "More Allergy Coughing-NfKZNt25L-Q.m4a\n",
      "Dry Afternoon Cough-6LK6yHtIung.m4a\n",
      "Coughing 46-dg-I9j76-t8.m4a\n",
      "Coughing 51-LkxvBb2VXbs.m4a\n",
      "Mid-morning Winter Coughing Fit-h-GtQfDCoaE.m4a\n",
      "Male bronchitis cough-IzPMbIll3LE.m4a\n",
      "Coughing 77-2Mw-s5jnqXU.m4a\n",
      "Wheezing Chest and Wet Cough 2-5905FxXz9dI.m4a\n",
      "# 30 Chesty and wet cough-d2wkdrScerU.m4a\n",
      "Wet Throat Infection Cough-tfc5cXiXMDc.m4a\n",
      "Coughing Woman Sound - Woman Cough Sound Effect-zjd4HrJbc8o.m4a\n",
      "Heavy cold and sore throat coughing.-NaOVmYoIjbs.m4a\n",
      "Coughing 14 - After work-1UDFq2InljM.m4a\n",
      "Man Coughing Sound - Wet Cough Sound Effect-q6WsoL3J8U8.m4a\n",
      "Spring Cold Coughing 3-tZtJaS2ZtME.m4a\n",
      "#64 coughing, allergies, singing lungs-CsDXlt7Ei1c.m4a\n"
     ]
    }
   ],
   "source": [
    "files = [f for f in os.listdir('.') if f.endswith(\".m4a\")]\n",
    "for f in files:\n",
    "    if not os.path.exists('wavs'):\n",
    "        os.makedirs('wavs')\n",
    "    f_wav = 'wavs/' + os.path.splitext(f)[0] + '.wav'\n",
    "    print(f)\n",
    "    subprocess.call(['ffmpeg', '-i', f,f_wav])\n",
    "    subprocess.call(['rm', f])"
   ]
  },
  {
   "cell_type": "code",
   "execution_count": null,
   "metadata": {},
   "outputs": [],
   "source": []
  }
 ],
 "metadata": {
  "kernelspec": {
   "display_name": "Python 3",
   "language": "python",
   "name": "python3"
  },
  "language_info": {
   "codemirror_mode": {
    "name": "ipython",
    "version": 3
   },
   "file_extension": ".py",
   "mimetype": "text/x-python",
   "name": "python",
   "nbconvert_exporter": "python",
   "pygments_lexer": "ipython3",
   "version": "3.6.9"
  }
 },
 "nbformat": 4,
 "nbformat_minor": 2
}
