{
 "cells": [
  {
   "cell_type": "code",
   "execution_count": 1,
   "metadata": {},
   "outputs": [],
   "source": [
    "#Research references:\n",
    "#1) Dry/wet cough classification: https://link.springer.com/article/10.1007/s10439-013-0741-6\n",
    "#2) Pneumonia classification: https://ieeexplore.ieee.org/stamp/stamp.jsp?arnumber=6987276\n",
    "#3) https://espace.library.uq.edu.au/data/UQ_344963/s41943203_phd_submission.pdf?Expires=1585601065&Key-Pair-Id=APKAJKNBJ4MJBJNC6NLQ&Signature=Lnpf6wT8rkozSh9av7U9nGuC7WAH6KuI2Cj3Y7G366gkGlh8D-Ie1Kc~TyBAUu~uMsVltleJcSv3p6TCm6HdFnhpyoTgLcYh6eFfvQwIUqbk1Bf4JZldgB~BDKUOwY1G0pA-HoKjvIAu3avO98SMO35upakm9OEBByd4nC9aXsjKRThd6bTpq1qIuuD9gh1l5FaM6hNRB0c2lCf4Q3adx7C3FW0NMwdWhcuF45A9f~dO3zTWWSQamoo5Otc-PHMMt96TetNcML~jy9ghgJeCPY6DJLUIwQAt03fENBluS~TjTJ17WD~n51xiRofb94fEJHoRHh0d-430LLwr7BX4IA__"
   ]
  },
  {
   "cell_type": "code",
   "execution_count": 2,
   "metadata": {},
   "outputs": [],
   "source": [
    "import numpy as np\n",
    "import os\n",
    "#import pywt #wavelets\n",
    "from pydub import AudioSegment\n",
    "from pydub.silence import split_on_silence\n",
    "from pydub.utils import mediainfo\n",
    "from pydub.playback import play\n",
    "import matplotlib.pyplot as plt\n",
    "#import seaborn as sn\n",
    "import python_speech_features as spe_feats\n",
    "import pandas as pd\n",
    "from scipy.stats import kurtosis, skew\n",
    "from scipy.signal import lfilter\n",
    "import librosa\n",
    "import pysptk\n",
    "import math\n",
    "import sys\n",
    "from sklearn.preprocessing import StandardScaler\n",
    "from sklearn.model_selection import GroupKFold\n",
    "#from sklearn.linear_model import LogisticRegression\n",
    "from sklearn.linear_model import SGDClassifier\n",
    "\n",
    "\n",
    "#settings\n",
    "import config"
   ]
  },
  {
   "cell_type": "markdown",
   "metadata": {},
   "source": [
    "## Reading recordings"
   ]
  },
  {
   "cell_type": "code",
   "execution_count": 3,
   "metadata": {},
   "outputs": [],
   "source": [
    "all_s=[]\n",
    "all_label=[]\n",
    "all_id=[]\n",
    "all_fs=[]"
   ]
  },
  {
   "cell_type": "code",
   "execution_count": 4,
   "metadata": {},
   "outputs": [
    {
     "name": "stdout",
     "output_type": "stream",
     "text": [
      "Readings wavs...\n",
      "data/YT_set/edited_wavs/edit_Spring Allergy Coughing-7Ez5Wc_esBg-Dry.wav\n",
      "data/YT_set/edited_wavs/edit_Spring Allergy Coughing-7Ez5Wc_esBg-Dry.wav\n",
      "data/YT_set/edited_wavs/edit_Coughing 51-LkxvBb2VXbs-Dry.wav\n",
      "data/YT_set/edited_wavs/edit_Coughing 51-LkxvBb2VXbs-Dry.wav\n",
      "data/YT_set/edited_wavs/edit_Wet coughing-0QQxKN-KC1U-Wet.wav\n",
      "data/YT_set/edited_wavs/edit_Wet coughing-0QQxKN-KC1U-Wet.wav\n",
      "data/YT_set/edited_wavs/edit_Dry Coughing Fit in the Afternoon.-A5s2ZgwQ1VM-Dry.wav\n",
      "data/YT_set/edited_wavs/edit_Dry Coughing Fit in the Afternoon.-A5s2ZgwQ1VM-Dry.wav\n",
      "data/YT_set/edited_wavs/edit_Coughing 77-2Mw-s5jnqXU-Wet.wav\n",
      "data/YT_set/edited_wavs/edit_Coughing 77-2Mw-s5jnqXU-Wet.wav\n",
      "data/YT_set/edited_wavs/edit_Wheezing Chest and Wet Cough 2-5905FxXz9dI-Wet.wav\n",
      "data/YT_set/edited_wavs/edit_Wheezing Chest and Wet Cough 2-5905FxXz9dI-Wet.wav\n",
      "data/YT_set/edited_wavs/edit_Coughing 46-dg-I9j76-t8-Wet.wav\n",
      "data/YT_set/edited_wavs/edit_Coughing 46-dg-I9j76-t8-Wet.wav\n",
      "data/YT_set/edited_wavs/edit_Spring Cold Coughing.-u2KMBD5-oCg-Dry.wav\n",
      "data/YT_set/edited_wavs/edit_Spring Cold Coughing.-u2KMBD5-oCg-Dry.wav\n",
      "data/YT_set/edited_wavs/edit_Mid-morning Winter Coughing Fit-h-GtQfDCoaE-Dry.wav\n",
      "data/YT_set/edited_wavs/edit_Mid-morning Winter Coughing Fit-h-GtQfDCoaE-Dry.wav\n",
      "data/YT_set/edited_wavs/edit_More Allergy Coughing-NfKZNt25L-Q-Dry.wav\n",
      "data/YT_set/edited_wavs/edit_More Allergy Coughing-NfKZNt25L-Q-Dry.wav\n",
      "data/YT_set/edited_wavs/edit_Coughing 14 - After work-1UDFq2InljM-Dry.wav\n",
      "data/YT_set/edited_wavs/edit_Coughing 14 - After work-1UDFq2InljM-Dry.wav\n",
      "data/YT_set/edited_wavs/edit_# 31 night wet cough-Dc_aoUCqw2E-Wet.wav\n",
      "data/YT_set/edited_wavs/edit_# 31 night wet cough-Dc_aoUCqw2E-Wet.wav\n",
      "data/YT_set/edited_wavs/edit_# 30 Chesty and wet cough-d2wkdrScerU-Wet.wav\n",
      "data/YT_set/edited_wavs/edit_# 30 Chesty and wet cough-d2wkdrScerU-Wet.wav\n",
      "data/YT_set/edited_wavs/edit_Single wet cough-CTSLdNxN1cc-Wet.wav\n",
      "data/YT_set/edited_wavs/edit_Single wet cough-CTSLdNxN1cc-Wet.wav\n",
      "data/YT_set/edited_wavs/edit_# 61 morning phlegmy cough...again-qfpJg179YNk-Wet.wav\n",
      "data/YT_set/edited_wavs/edit_# 61 morning phlegmy cough...again-qfpJg179YNk-Wet.wav\n",
      "data/YT_set/edited_wavs/edit_DIST_Another Girl Coughing-iYxUHA-Pwsk-Dry.wav\n",
      "data/YT_set/edited_wavs/edit_DIST_Another Girl Coughing-iYxUHA-Pwsk-Dry.wav\n",
      "data/YT_set/edited_wavs/edit_Spring Cold Coughing 3-tZtJaS2ZtME-Dry.wav\n",
      "data/YT_set/edited_wavs/edit_Spring Cold Coughing 3-tZtJaS2ZtME-Dry.wav\n",
      "data/YT_set/edited_wavs/edit_Coughing Woman Sound - Woman Cough Sound Effect-zjd4HrJbc8o-Dry.wav\n",
      "data/YT_set/edited_wavs/edit_Coughing Woman Sound - Woman Cough Sound Effect-zjd4HrJbc8o-Dry.wav\n",
      "data/YT_set/edited_wavs/edit_Wet Throat Infection Cough-tfc5cXiXMDc-Wet.wav\n",
      "data/YT_set/edited_wavs/edit_Wet Throat Infection Cough-tfc5cXiXMDc-Wet.wav\n",
      "data/YT_set/edited_wavs/edit_Dry Afternoon Cough-6LK6yHtIung-Dry.wav\n",
      "data/YT_set/edited_wavs/edit_Dry Afternoon Cough-6LK6yHtIung-Dry.wav\n",
      "data/YT_set/edited_wavs/edit_Dry Early Morning Cough-XrpB4DTNQZw-Dry.wav\n",
      "data/YT_set/edited_wavs/edit_Dry Early Morning Cough-XrpB4DTNQZw-Dry.wav\n",
      "data/YT_set/edited_wavs/edit_Man Coughing Sound - Wet Cough Sound Effect-q6WsoL3J8U8-Wet.wav\n",
      "data/YT_set/edited_wavs/edit_Man Coughing Sound - Wet Cough Sound Effect-q6WsoL3J8U8-Wet.wav\n",
      "data/YT_set/edited_wavs/edit_November cold (wet coughing)-DYfjPnty2Ho-Wet.wav\n",
      "data/YT_set/edited_wavs/edit_November cold (wet coughing)-DYfjPnty2Ho-Wet.wav\n",
      "data/YT_set/edited_wavs/edit_Dry Morning Cough turns Chesty and Barking.-ekqLlw-Xe68-Dry.wav\n",
      "data/YT_set/edited_wavs/edit_Dry Morning Cough turns Chesty and Barking.-ekqLlw-Xe68-Dry.wav\n",
      "data/YT_set/edited_wavs/edit_Cough Around the Clock!-4k0ziD0j5BI-Wet.wav\n",
      "data/YT_set/edited_wavs/edit_Cough Around the Clock!-4k0ziD0j5BI-Wet.wav\n",
      "data/YT_set/edited_wavs/edit_# 34 coughing up crap again-rkF_uMizqoc-Wet.wav\n",
      "data/YT_set/edited_wavs/edit_# 34 coughing up crap again-rkF_uMizqoc-Wet.wav\n",
      "data/YT_set/edited_wavs/edit_# 60 coughing still (deep and wet cough)-jxYNLCYTwZQ-Wet.wav\n",
      "data/YT_set/edited_wavs/edit_# 60 coughing still (deep and wet cough)-jxYNLCYTwZQ-Wet.wav\n",
      "data/YT_set/edited_wavs/edit_Spring Cold Coughing 2-AQOeIVbhFm4-Dry.wav\n",
      "data/YT_set/edited_wavs/edit_Spring Cold Coughing 2-AQOeIVbhFm4-Dry.wav\n",
      "data/YT_set/edited_wavs/edit_Coughing 60-diuuEXKzNB8-Wet.wav\n",
      "data/YT_set/edited_wavs/edit_Coughing 60-diuuEXKzNB8-Wet.wav\n",
      "data/YT_set/edited_wavs/edit_DIST_Coughing 79-h2FLCKMcEX0-Wet.wav\n",
      "data/YT_set/edited_wavs/edit_DIST_Coughing 79-h2FLCKMcEX0-Wet.wav\n",
      "data/YT_set/edited_wavs/edit_Residual Phlegmy Morning Coughing and Gagging-TK4CveeCWfY-Wet.wav\n",
      "data/YT_set/edited_wavs/edit_Residual Phlegmy Morning Coughing and Gagging-TK4CveeCWfY-Wet.wav\n",
      "data/YT_set/edited_wavs/edit_Heavy cold and sore throat coughing.-NaOVmYoIjbs-Dry.wav\n",
      "data/YT_set/edited_wavs/edit_Heavy cold and sore throat coughing.-NaOVmYoIjbs-Dry.wav\n",
      "data/YT_set/edited_wavs/edit_Male bronchitis cough-IzPMbIll3LE-Wet.wav\n",
      "data/YT_set/edited_wavs/edit_Male bronchitis cough-IzPMbIll3LE-Wet.wav\n",
      "data/YT_set/edited_wavs/edit_#64 coughing, allergies, singing lungs-CsDXlt7Ei1c-Wet.wav\n",
      "data/YT_set/edited_wavs/edit_#64 coughing, allergies, singing lungs-CsDXlt7Ei1c-Wet.wav\n",
      "data/YT_set/edited_wavs/edit_My deep wet cough-De4HdyocTHY-Wet.wav\n",
      "data/YT_set/edited_wavs/edit_My deep wet cough-De4HdyocTHY-Wet.wav\n",
      "data/YT_set/edited_wavs/edit_# 55 gaggy wet cough-ct3tHDfNKiQ-Wet.wav\n",
      "data/YT_set/edited_wavs/edit_# 55 gaggy wet cough-ct3tHDfNKiQ-Wet.wav\n"
     ]
    }
   ],
   "source": [
    "#Read wav data set\n",
    "\n",
    "if config.featExtr_skip is False:\n",
    "    print(\"Readings wavs...\")\n",
    "\n",
    "    #only list files in FOLDER_PATH directory\n",
    "    wav_files = [f for f in os.listdir(config.FOLDER_PATH) if os.path.isfile(os.path.join(config.FOLDER_PATH, f))]\n",
    "    for file_name in wav_files:\n",
    "    \n",
    "        fname_noExt = os.path.splitext(file_name)[0] #file name without extension\n",
    "    \n",
    "        #full path file name\n",
    "        full_fname = config.FOLDER_PATH+file_name\n",
    "        print(full_fname)\n",
    "    \n",
    "        # load audio\n",
    "        s = AudioSegment.from_wav(full_fname)\n",
    "        print(full_fname)\n",
    "        all_s.append(s)\n",
    "        #sampling rate:\n",
    "        info = mediainfo(full_fname)\n",
    "        fs = float(info['sample_rate'])\n",
    "        all_fs.append(fs)\n",
    "    \n",
    "        #get ID of recording\n",
    "        ID = fname_noExt.split('-')[-2] #for the current type of naming\n",
    "        #print(file_name)\n",
    "        #print(ID)\n",
    "        all_id.append(ID)\n",
    "    \n",
    "        #get label\n",
    "        label = fname_noExt.split('-')[-1] #for the current type of naming\n",
    "        #print(label)\n",
    "        all_label.append(label)"
   ]
  },
  {
   "cell_type": "markdown",
   "metadata": {},
   "source": [
    "Listening to some of the audios"
   ]
  },
  {
   "cell_type": "code",
   "execution_count": 5,
   "metadata": {},
   "outputs": [],
   "source": [
    "if config.featExtr_skip is False:\n",
    "    np.where(np.array(all_label)=='Dry')"
   ]
  },
  {
   "cell_type": "code",
   "execution_count": 6,
   "metadata": {},
   "outputs": [],
   "source": [
    "if config.featExtr_skip is False:\n",
    "    np.where(np.array(all_label)=='Wet')"
   ]
  },
  {
   "cell_type": "code",
   "execution_count": 7,
   "metadata": {},
   "outputs": [],
   "source": [
    "if config.featExtr_skip is False:\n",
    "    s=all_s[15]\n",
    "    s"
   ]
  },
  {
   "cell_type": "markdown",
   "metadata": {},
   "source": [
    "## Feature extraction"
   ]
  },
  {
   "cell_type": "code",
   "execution_count": null,
   "metadata": {},
   "outputs": [
    {
     "name": "stdout",
     "output_type": "stream",
     "text": [
      "High-pass filtering...\n",
      "Computing features...\n",
      "High-pass filtering...\n",
      "Computing features...\n",
      "High-pass filtering...\n",
      "Computing features...\n",
      "High-pass filtering...\n",
      "Computing features...\n",
      "High-pass filtering...\n",
      "Computing features...\n",
      "High-pass filtering...\n",
      "Computing features...\n",
      "High-pass filtering...\n",
      "Computing features...\n",
      "High-pass filtering...\n",
      "Computing features...\n",
      "High-pass filtering...\n",
      "Computing features...\n",
      "High-pass filtering...\n",
      "Computing features...\n",
      "High-pass filtering...\n",
      "Computing features...\n",
      "High-pass filtering...\n",
      "Computing features...\n",
      "High-pass filtering...\n",
      "Computing features...\n",
      "High-pass filtering...\n",
      "Computing features...\n",
      "High-pass filtering...\n",
      "Computing features...\n",
      "High-pass filtering...\n",
      "Computing features...\n",
      "High-pass filtering...\n",
      "Computing features...\n",
      "High-pass filtering...\n",
      "Computing features...\n",
      "High-pass filtering...\n",
      "Computing features...\n",
      "High-pass filtering...\n",
      "Computing features...\n",
      "High-pass filtering...\n",
      "Computing features...\n",
      "High-pass filtering...\n",
      "Computing features...\n",
      "High-pass filtering...\n",
      "Computing features...\n"
     ]
    }
   ],
   "source": [
    "import featureExtractionFunctions as feat\n",
    "\n",
    "if config.featExtr_skip is False:\n",
    "\n",
    "    feats = feat.feature_extraction_Step(all_s,all_id,all_label)\n",
    "    \n",
    "       "
   ]
  },
  {
   "cell_type": "markdown",
   "metadata": {},
   "source": [
    "## Load  (or store) features "
   ]
  },
  {
   "cell_type": "code",
   "execution_count": 9,
   "metadata": {},
   "outputs": [],
   "source": [
    "\n",
    "feats_fname = 'feats_df.pkl'\n",
    "\n",
    "if config.featExtr_skip is False:\n",
    "    #Store feature df\n",
    "    feats.to_pickle(feats_fname)\n",
    "else:\n",
    "    #Load feature df\n",
    "    feats = pd.read_pickle(feats_fname)"
   ]
  },
  {
   "cell_type": "markdown",
   "metadata": {},
   "source": [
    "## Pre-processing of features"
   ]
  },
  {
   "cell_type": "code",
   "execution_count": 10,
   "metadata": {},
   "outputs": [],
   "source": [
    "#1.Check which columns have NaNs values\n",
    "\n",
    "#feats2 = feats.copy()\n",
    "\n",
    "#sum(feats.isna().any())\n",
    "#feats.columns[feats.isna().any()].tolist() --> We get just the ones we have inserted in formants\n",
    "#feats2 = feats.interpolate(method ='cubic')\n",
    "feats2 = feats.dropna(axis=1).copy()\n",
    "#feats2.dropna(axis=0, how=\"any\", thresh=None, subset=None, inplace=True)\n",
    "\n",
    "#feats2.columns[feats2.isna().any()].tolist()\n",
    "#feats2.describe()\n",
    "#sum(feats2.isna().any())\n"
   ]
  },
  {
   "cell_type": "code",
   "execution_count": 11,
   "metadata": {},
   "outputs": [],
   "source": [
    " \n",
    "#Make dictionary and add label column using it \n",
    "def addLabel2df(feats):\n",
    "    feats_unique = feats.drop_duplicates(subset=['Id'])\n",
    "    label_dict = dict(zip(feats_unique.Id, feats_unique.label))\n",
    "    return label_dict\n",
    "\n",
    "\n",
    "def frame_mean_std_chunk_modeling (feats2, label_dict):\n",
    "    \n",
    "    #Grouping the frames from a same recording (Id) into chunks with the same number of frames.\n",
    "    #The training of the classifier will be based on these chunks mean and standard deviation.\n",
    "\n",
    "    feats2['cum_IDidx'] = feats2.groupby('Id').cumcount()\n",
    "\n",
    "    def get_subidx(cum_Idx,batch_size):\n",
    "        #batch needs to be an integer (or float like 3.0)\n",
    "        return int(1.0*cum_Idx/batch_size)\n",
    "\n",
    "    feats2['subIdx'] = feats2.apply(lambda x: get_subidx(x['cum_IDidx'], 10), axis=1)\n",
    "    feats2 = feats2.drop(['cum_IDidx'],axis=1)\n",
    "    \n",
    "    mean_feats = feats2.groupby(['Id','subIdx']).aggregate('mean').reset_index()\n",
    "    std_feats = feats2.groupby(['Id','subIdx']).agg(lambda x: x.std(ddof=0)).reset_index() #ddof=0 to compute population std (rather than sample std)\n",
    "    keep_same = {'Id', 'subIdx'}\n",
    "    mean_feats.columns = ['{}{}'.format(c, '' if c in keep_same else '_m') for c in mean_feats.columns]\n",
    "    std_feats.columns = ['{}{}'.format(c, '' if c in keep_same else '_std') for c in std_feats.columns]\n",
    "    \n",
    "    mean_std_feats = pd.merge(mean_feats, std_feats, on=['Id','subIdx'], how='outer')\n",
    "    \n",
    "    mean_std_feats['label'] = mean_std_feats[\"Id\"].map(label_dict)\n",
    "    #mean_std_feats[['Id','label']].head(50)\n",
    "    \n",
    "    return mean_std_feats\n",
    "   \n",
    "\n",
    "#TODO: modeling of chunks using sequence models too\n",
    "\n",
    "label_dict = addLabel2df(feats2)\n",
    "mean_std_feats = frame_mean_std_chunk_modeling (feats2,label_dict)\n",
    "\n",
    "\n",
    "#sum(mean_std_feats.isna().any())\n",
    "#mean_std_feats.describe()"
   ]
  },
  {
   "cell_type": "code",
   "execution_count": 12,
   "metadata": {},
   "outputs": [
    {
     "data": {
      "text/plain": [
       "36"
      ]
     },
     "execution_count": 12,
     "metadata": {},
     "output_type": "execute_result"
    }
   ],
   "source": [
    "#2. Get feature set, labels, and recording IDs\n",
    "X_train = mean_std_feats.drop(['label','Id','subIdx'], 1).copy()\n",
    "y_train =  mean_std_feats['label'].copy()\n",
    "\n",
    "ID_train = mean_std_feats['Id']\n",
    "ID_list = ID_train.drop_duplicates()\n",
    "\n",
    "#ID_train.size\n",
    "ID_list.size"
   ]
  },
  {
   "cell_type": "code",
   "execution_count": 13,
   "metadata": {},
   "outputs": [],
   "source": [
    "#3. Normalization in case some model requires it\n",
    "\n",
    "scaler = StandardScaler()\n",
    "scaler.fit(X_train)\n",
    "\n",
    "#use same scaler for both, based on X_train data\n",
    "X_trainNorm = scaler.transform(X_train.values)"
   ]
  },
  {
   "cell_type": "code",
   "execution_count": 14,
   "metadata": {},
   "outputs": [
    {
     "data": {
      "text/plain": [
       "0"
      ]
     },
     "execution_count": 14,
     "metadata": {},
     "output_type": "execute_result"
    }
   ],
   "source": [
    "sum(X_train.isna().any())"
   ]
  },
  {
   "cell_type": "markdown",
   "metadata": {},
   "source": [
    "## Model training"
   ]
  },
  {
   "cell_type": "markdown",
   "metadata": {},
   "source": [
    "### Train-test split (k-fold)"
   ]
  },
  {
   "cell_type": "code",
   "execution_count": 15,
   "metadata": {},
   "outputs": [
    {
     "data": {
      "text/plain": [
       "36"
      ]
     },
     "execution_count": 15,
     "metadata": {},
     "output_type": "execute_result"
    }
   ],
   "source": [
    "k = ID_list.values.size #number of folds\n",
    "\n",
    "group_kfold = GroupKFold(n_splits=k)\n",
    "group_kfold.get_n_splits(X_trainNorm, y_train, ID_train)"
   ]
  },
  {
   "cell_type": "code",
   "execution_count": 16,
   "metadata": {},
   "outputs": [
    {
     "data": {
      "text/plain": [
       "36"
      ]
     },
     "execution_count": 16,
     "metadata": {},
     "output_type": "execute_result"
    }
   ],
   "source": [
    "k"
   ]
  },
  {
   "cell_type": "markdown",
   "metadata": {},
   "source": [
    "### Logistic regression"
   ]
  },
  {
   "cell_type": "code",
   "execution_count": 17,
   "metadata": {},
   "outputs": [],
   "source": [
    "#Do cross-validation\n",
    "pred_probs = pd.DataFrame([])\n",
    "\n",
    "idx_acc = 0\n",
    "for train_index, test_index in group_kfold.split(X_trainNorm,y_train,ID_train):\n",
    "    X_train1, X_test1 = X_trainNorm[train_index], X_trainNorm[test_index]\n",
    "    y_train1, y_test1 = y_train[train_index], y_train[test_index]\n",
    "    \n",
    "    #TODO: optimize the penaly weight\n",
    "    #https://scikit-learn.org/stable/modules/generated/sklearn.linear_model.LogisticRegressionCV.html\n",
    "    logReg = SGDClassifier(loss='log', penalty='elasticnet')\n",
    "    logReg.fit(X_train1, y_train1)\n",
    "    y_hat_prob = logReg.predict_proba(X_test1)\n",
    "    classes =logReg.classes_\n",
    "    pred_probs = pred_probs.append(pd.DataFrame({'ID': ID_train[test_index], str(classes[0]): y_hat_prob[:,0], str(classes[1]): y_hat_prob[:,1]}),ignore_index=True, sort=False)    "
   ]
  },
  {
   "cell_type": "code",
   "execution_count": null,
   "metadata": {},
   "outputs": [],
   "source": []
  },
  {
   "cell_type": "code",
   "execution_count": 18,
   "metadata": {},
   "outputs": [],
   "source": [
    "def predict_class(prob_dry,prob_wet):\n",
    "    if prob_dry > prob_wet :\n",
    "        return 'Dry'\n",
    "    else:\n",
    "        return 'Wet'\n",
    "\n",
    "#get probability per recording\n",
    "def get_predClass_per_audio(pred_probs, label_dict):\n",
    "\n",
    "    mean_pred_probs = pred_probs.groupby('ID').aggregate('mean').reset_index()\n",
    "\n",
    "    mean_pred_probs['pred_class'] = mean_pred_probs.apply(lambda x: predict_class(x['Dry'], x['Wet']), axis=1)\n",
    "    \n",
    "    #add actual classes\n",
    "    mean_pred_probs['label'] = mean_pred_probs[\"ID\"].map(label_dict)\n",
    "    return mean_pred_probs\n",
    "\n",
    "mean_pred_probs = get_predClass_per_audio(pred_probs, label_dict)"
   ]
  },
  {
   "cell_type": "markdown",
   "metadata": {},
   "source": [
    "## Evaluation"
   ]
  },
  {
   "cell_type": "code",
   "execution_count": 20,
   "metadata": {},
   "outputs": [
    {
     "name": "stdout",
     "output_type": "stream",
     "text": [
      "Scores:\n",
      "Precision: 0.685065\n",
      "F1-score: 0.682438\n",
      "Recall: 0.680952\n",
      "\n",
      "Confusion matrix\n",
      "pred_class  Dry  Wet  All\n",
      "label                    \n",
      "Dry           9    6   15\n",
      "Wet           5   16   21\n",
      "All          14   22   36\n"
     ]
    }
   ],
   "source": [
    "import classifEvaluationFunctions as eval\n",
    "eval.evaluation_Step(mean_pred_probs)\n",
    "    "
   ]
  },
  {
   "cell_type": "code",
   "execution_count": null,
   "metadata": {},
   "outputs": [],
   "source": []
  }
 ],
 "metadata": {
  "kernelspec": {
   "display_name": "Python 3",
   "language": "python",
   "name": "python3"
  },
  "language_info": {
   "codemirror_mode": {
    "name": "ipython",
    "version": 3
   },
   "file_extension": ".py",
   "mimetype": "text/x-python",
   "name": "python",
   "nbconvert_exporter": "python",
   "pygments_lexer": "ipython3",
   "version": "3.6.9"
  }
 },
 "nbformat": 4,
 "nbformat_minor": 2
}
