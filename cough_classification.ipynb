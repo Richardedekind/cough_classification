{
 "cells": [
  {
   "cell_type": "markdown",
   "metadata": {},
   "source": [
    "## 1. Volume normalization and silence-based cough segmentation"
   ]
  },
  {
   "cell_type": "code",
   "execution_count": 81,
   "metadata": {},
   "outputs": [],
   "source": [
    "#from scipy.io.wavfile import read\n",
    "#import wave\n",
    "import numpy as np\n",
    "import os\n",
    "import sox\n",
    "#import pywt #wavelets\n",
    "from pydub import AudioSegment\n",
    "from pydub.silence import split_on_silence"
   ]
  },
  {
   "cell_type": "code",
   "execution_count": 96,
   "metadata": {},
   "outputs": [
    {
     "name": "stderr",
     "output_type": "stream",
     "text": [
      "output_file: data/YT_set/wavs/1/Dry Afternoon Cough-6LK6yHtIung_NORM_NORM.wav already exists and will be overwritten on build\n"
     ]
    },
    {
     "name": "stdout",
     "output_type": "stream",
     "text": [
      "data/YT_set/wavs/1/Dry Afternoon Cough-6LK6yHtIung_NORM_NORM.wav\n",
      "data/YT_set/wavs/1/Dry Afternoon Cough-6LK6yHtIung_NORM_NORM_NORM.wav\n"
     ]
    },
    {
     "name": "stderr",
     "output_type": "stream",
     "text": [
      "output_file: data/YT_set/wavs/1/Dry Afternoon Cough-6LK6yHtIung_NORM.wav already exists and will be overwritten on build\n"
     ]
    },
    {
     "name": "stdout",
     "output_type": "stream",
     "text": [
      "data/YT_set/wavs/1/Dry Afternoon Cough-6LK6yHtIung_NORM.wav\n"
     ]
    }
   ],
   "source": [
    "\n",
    "#s = read(audiofile)\n",
    "FOLDER_PATH = 'data/YT_set/wavs/1/'\n",
    "for file_name in os.listdir(FOLDER_PATH):\n",
    "    full_fname = FOLDER_PATH+file_name\n",
    "    #print(full_fname)\n",
    "    \n",
    "    ## Normalization\n",
    "    tfm = sox.Transformer()\n",
    "    tfm.gain(gain_db=-18.0, normalize=False, limiter=False, balance=None)\n",
    "    \n",
    "    # create the output normalized audio\n",
    "    norm_fname = (os.path.splitext(full_fname)[0]) + '_NORM.wav'\n",
    "    print(norm_fname)\n",
    "    tfm.build(full_fname, norm_fname)\n",
    "    \n",
    "    # load normalized audio\n",
    "    s = AudioSegment.from_wav(full_fname)\n",
    "    \n",
    "    ## Segmentation of cough streams (silence-based)\n",
    "    #min_silence_len in ms, silence_thresh in dB\n",
    "    s_segments = split_on_silence (s, min_silence_len = 500, silence_thresh = -20)\n",
    "    "
   ]
  },
  {
   "cell_type": "code",
   "execution_count": 87,
   "metadata": {},
   "outputs": [],
   "source": [
    "#s = wave.open(norm_fname,\"rb\")\n",
    "\n",
    "#sampling rate\n",
    "#fs = s.getframerate()\n",
    "#fs = sox.file_info.sample_rate(full_fname)\n",
    "\n",
    "#number of channels\n",
    "#channels = s.getnchannels()"
   ]
  },
  {
   "cell_type": "code",
   "execution_count": 99,
   "metadata": {},
   "outputs": [
    {
     "data": {
      "text/html": [
       "\n",
       "                    <audio controls>\n",
       "                        <source src=\"data:audio/mpeg;base64,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\" type=\"audio/mpeg\"/>\n",
       "                        Your browser does not support the audio element.\n",
       "                    </audio>\n",
       "                  "
      ],
      "text/plain": [
       "<pydub.audio_segment.AudioSegment at 0x7f0a6a06d828>"
      ]
     },
     "execution_count": 99,
     "metadata": {},
     "output_type": "execute_result"
    }
   ],
   "source": [
    "s_segments[1]"
   ]
  },
  {
   "cell_type": "markdown",
   "metadata": {},
   "source": [
    "## TODO: Cough detection and segmentation"
   ]
  },
  {
   "cell_type": "markdown",
   "metadata": {},
   "source": [
    "## Pre-processing"
   ]
  },
  {
   "cell_type": "code",
   "execution_count": 56,
   "metadata": {},
   "outputs": [
    {
     "data": {
      "text/plain": [
       "48000"
      ]
     },
     "execution_count": 56,
     "metadata": {},
     "output_type": "execute_result"
    }
   ],
   "source": [
    "\n",
    "\n",
    "\n",
    "\n"
   ]
  },
  {
   "cell_type": "markdown",
   "metadata": {},
   "source": [
    "## Feature extraction"
   ]
  },
  {
   "cell_type": "code",
   "execution_count": null,
   "metadata": {},
   "outputs": [],
   "source": [
    "#Cough sound\n",
    "#Breathing rate\n",
    "#Breathing rhytm (consistence smoothness)\n",
    "#Cough rate\n",
    "#Panic level\n",
    "#Hoarseness"
   ]
  },
  {
   "cell_type": "code",
   "execution_count": null,
   "metadata": {},
   "outputs": [],
   "source": []
  }
 ],
 "metadata": {
  "kernelspec": {
   "display_name": "Python 3",
   "language": "python",
   "name": "python3"
  },
  "language_info": {
   "codemirror_mode": {
    "name": "ipython",
    "version": 3
   },
   "file_extension": ".py",
   "mimetype": "text/x-python",
   "name": "python",
   "nbconvert_exporter": "python",
   "pygments_lexer": "ipython3",
   "version": "3.6.9"
  }
 },
 "nbformat": 4,
 "nbformat_minor": 2
}
