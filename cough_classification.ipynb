{
 "cells": [
  {
   "cell_type": "code",
   "execution_count": 27,
   "metadata": {},
   "outputs": [],
   "source": [
    "#Research references:\n",
    "#1) Dry/wet cough classification: https://link.springer.com/article/10.1007/s10439-013-0741-6\n",
    "#2) Pneumonia classification: https://ieeexplore.ieee.org/stamp/stamp.jsp?arnumber=6987276"
   ]
  },
  {
   "cell_type": "code",
   "execution_count": 28,
   "metadata": {},
   "outputs": [],
   "source": [
    "#from scipy.io.wavfile import read\n",
    "#import wave\n",
    "import numpy as np\n",
    "import os\n",
    "import sox\n",
    "#import pywt #wavelets\n",
    "from pydub import AudioSegment\n",
    "from pydub.silence import split_on_silence\n",
    "from pydub.utils import mediainfo\n",
    "import matplotlib.pyplot as plt\n",
    "import python_speech_features as spe_feats\n",
    "import pandas as pd\n",
    "from scipy.stats import kurtosis, skew, entropy\n",
    "from scipy.signal import lfilter\n",
    "import librosa\n",
    "import math\n",
    "import sys"
   ]
  },
  {
   "cell_type": "markdown",
   "metadata": {},
   "source": [
    "## Settings"
   ]
  },
  {
   "cell_type": "code",
   "execution_count": 33,
   "metadata": {},
   "outputs": [],
   "source": [
    "#Initialize data frame of features:\n",
    "\n",
    "feats = pd.DataFrame([])\n",
    "\n",
    "#tiny constant value\n",
    "eps = sys.float_info.epsilon\n",
    "\n",
    "#Features' settings:\n",
    "\n",
    "fs_targ = 16000 # set all audios to this sampling frequency\n",
    "n_channels_targ = 1\n",
    "\n",
    "#framing\n",
    "frame_len_s=0.025 #12 segments seemed adequeate in paper, since segments are no longer than 400ms (400ms/12=33.3ms)\n",
    "frame_step_s=frame_len_s #according to paper: non-overlapping frames\n",
    "\n",
    "frame_len = int(round(frame_len_s*fs_targ)) #in samples\n",
    "frame_step = int(round(frame_step_s*fs_targ)) #in samples\n",
    "win_func =np.hamming #at least for mfcc\n",
    "\n",
    "#mfcc\n",
    "cep_num= 13 #number of coefficients as in paper (https://link.springer.com/article/10.1007/s10439-013-0741-6)\n",
    "\n",
    "#lp\n",
    "lp_ord = int(round(2 + fs_targ/1000)) #standard rule of thumb for LP oder\n",
    "\n",
    "#formants\n",
    "nr_formants = 4 #as in paper, first 4 formants"
   ]
  },
  {
   "cell_type": "markdown",
   "metadata": {},
   "source": [
    "## Functions"
   ]
  },
  {
   "cell_type": "code",
   "execution_count": 120,
   "metadata": {},
   "outputs": [],
   "source": [
    "#Apply pre-emphasis (high-pass) filter\n",
    "def apply_preEmph(x):\n",
    "    x_filt = lfilter([1., -0.97], 1, x)\n",
    "    return x_filt\n",
    "        \n",
    "#Obtain autocorrelation\n",
    "def autocorr(x):\n",
    "    result = np.correlate(x, x, mode='full')\n",
    "    return result[int((result.size+1)/2):] #Note: other people use re.size/2:, but this does not work for me \n",
    "                                   # TODO: check consistency in other computers\n",
    "\n",
    "#Compute zero-crossing rate\n",
    "def get_zcr(x):\n",
    "    zcr = (((x[:-1] * x[1:]) < 0).sum())/len(x)\n",
    "    return zcr\n",
    "\n",
    "#Compute log-energy\n",
    "def get_logEnergy(x):\n",
    "    logEnergy = np.log10( ( (np.power(x,2)).sum()/len(x) ) + eps)  \n",
    "    return logEnergy\n",
    "\n",
    "#Estimate fundamental frequency (F0)\n",
    "def get_F0(x,fs):\n",
    "    #autocorrelation-based method to extract F0\n",
    "    xcorr_arr = autocorr(x)\n",
    "    \n",
    "    #looking for F0 in the frequency interval 50-500Hz, but we search in time domain\n",
    "    min_ms = round(fs/500)\n",
    "    max_ms = round(fs/50)\n",
    "    \n",
    "    xcorr_slot = xcorr_arr[max_ms+1:2*max_ms+1]\n",
    "    xcorr_slot = xcorr_slot[min_ms:max_ms]\n",
    "    t0 = np.argmax(xcorr_slot)\n",
    "    F0 = fs/(min_ms+t0-1)\n",
    "    return F0\n",
    "\n",
    "#Estimate formants\n",
    "def get_formants(x, lp_order, nr_formants):\n",
    "    #LP-based method\n",
    "    \n",
    "    #compute lp coefficients\n",
    "    a = librosa.lpc(x, lp_ord)\n",
    "\n",
    "    #get roots from lp coefficients\n",
    "    rts = np.roots(a)\n",
    "    rts = [r for r in rts if np.imag(r) >= 0]\n",
    "\n",
    "    #get angles\n",
    "    angz = np.arctan2(np.imag(rts), np.real(rts))\n",
    "\n",
    "    #get formant frequencies\n",
    "    formants = sorted(angz * (fs_targ / (2 * math.pi)))\n",
    "    \n",
    "    return formants[0:nr_formants]\n",
    "\n",
    "#Extract frequencies\n",
    "def feature_extraction(x,fs,feats_df,lp_ord,ID,label):\n",
    "#Extract features from signal x (identified as ID), and concatenate them to dataframe feats_df\n",
    "#Features' reference: (see Appendix)\n",
    "#[1]https://link.springer.com/article/10.1007/s10439-013-0741-6\n",
    "#[2]https://espace.library.uq.edu.au/data/UQ_344963/s41943203_phd_submission.pdf?dsi_version=c5434db897ab74b192ca295a9eeca041&Expires=1585086202&Key-Pair-Id=APKAJKNBJ4MJBJNC6NLQ&Signature=c8k8DmG~KIxg0ToTO8rebm2MzHneCzJGkjSFRB7BYTEQ-MHXEr0ocHmISrldP3hFf9qmeiL11ezyefcNeRVeKIQ9PVjOl9pn7rXWcjA1o2voPn1VnDd8n7G2cT31apdj0LNMclhlXRPnCsGD66qDRqa3d-xaqqXhEqU73aw3ZgBgroO213MfJOqFhJxxXo2QEia0bSlDRTeX9KhSczFK-IFTPC6GwFL2L04por8pQRI3HF7E3f26O9zp9OhkwxSU9qfJah20WxZLA4PxREdv7JGoVBinR6T0mTcIaQi~B4IzYjSPSsTTADMNk5znVYIvSqgtMT~DY~qwlfq4SRdFjQ__\n",
    "  \n",
    "    \n",
    "    #do features in a frame-basis\n",
    "    x_frames = spe_feats.sigproc.framesig(x,frame_len,frame_step,win_func) #DOUBT: should I use window or not?\n",
    "                                                                        #at least for formant estimation i should\n",
    "\n",
    "    #0)Wavelets #TODO\n",
    "    \n",
    "    #HAMMING WINDOW USED IN MFCC TODO: CHECK IF USING THAT ONE\n",
    "    #DOUBT: if log-energy feature is included, should I also include the first mfcc coefficient (c0) ?\n",
    "    #1)mfcc\n",
    "    mfcc_feat = spe_feats.mfcc(x,fs, winlen=frame_len_s,winstep=frame_step_s, numcep=cep_num,winfunc=win_func)\n",
    "    \n",
    "    #deltas to capture \n",
    "    mfcc_delta_feat = spe_feats.delta(mfcc_feat,1) #mfcc_delta_feat = np.subtract(mfcc_feat[:-1], mfcc_feat[1:]) #same\n",
    "    mfcc_deltadelta_feat = spe_feats.delta(mfcc_delta_feat,1)          \n",
    "    \n",
    "    #2)zero-crossing rate\n",
    "    zcr_feat = np.apply_along_axis(get_zcr, 1, x_frames)\n",
    "    \n",
    "    #3)Formant frequencies\n",
    "    #using LP-coeffcs-based method\n",
    "    #formant_feat = np.apply_along_axis(get_formants, 1, x_frames, lp_ord, nr_formants)\n",
    "    \n",
    "    #TODO: figure out a way to check beforehand the ill-coonditioning of the signal for lpc computing, \n",
    "    #until then, use full segment\n",
    "    formant_feat = get_formants(x, lp_ord, nr_formants)\n",
    "    \n",
    "    #4)Log-energy\n",
    "    logEnergy_feat =  np.apply_along_axis(get_logEnergy, 1, x_frames)\n",
    "    \n",
    "    #5)Pitch (F0)\n",
    "    F0_feat =  np.apply_along_axis(get_F0, 1, x_frames,fs)\n",
    "    \n",
    "    #6)Kurtosis\n",
    "    kurt_feat =  np.apply_along_axis(kurtosis, 1, x_frames)\n",
    "    \n",
    "    #7)Bispectrum Score (BGS)\n",
    "    #TODO: see PhD thesis for more info on this feature\n",
    "    \n",
    "    #8)Non-Gaussianity Score (NGS)\n",
    "    #TODO: see PhD thesis for more info on this feature\n",
    "   \n",
    "    #9) Adding skewness as measure of non-gaussianity (not in paper)\n",
    "    skew_feat =  np.apply_along_axis(skew, 1, x_frames)\n",
    "    \n",
    "    #DOUBT: 10) Shannon entropy GETTING -inf in all cases, WHY??? Don't include until fixed\n",
    "    #entropy_feat = entropy(x)\n",
    "    #Maybe compute directly to check\n",
    "    \n",
    "    nr_frames = x_frames[1]\n",
    "    \n",
    "    #TODO: append matrices of features, one row per entry in dataframe (now it is done to append per segment)\n",
    "    feats_df = feats_df.append(pd.DataFrame({'Id': ID, 'mfcc': [mfcc_feat], 'mfcc_d': [mfcc_delta_feat],\n",
    "                                             'mfcc_dd': [mfcc_deltadelta_feat], 'kurtosis': kurt_feat,\n",
    "                                             'logEnergy': logEnergy_feat, 'zcr': zcr_feat,\n",
    "                                             'formants': [formant_feat], 'F0': F0_feat, 'skew': skew_feat,\n",
    "                                             'label': label}, index=[0]), ignore_index=True, sort=False)\n",
    "    return feats_df\n"
   ]
  },
  {
   "cell_type": "markdown",
   "metadata": {},
   "source": [
    "## Main"
   ]
  },
  {
   "cell_type": "code",
   "execution_count": 121,
   "metadata": {},
   "outputs": [
    {
     "name": "stderr",
     "output_type": "stream",
     "text": [
      "output_file: data/YT_set/wavs/norm/Another Girl Coughing-iYxUHA-Pwsk-Dry_NORM.wav already exists and will be overwritten on build\n"
     ]
    },
    {
     "name": "stdout",
     "output_type": "stream",
     "text": [
      "data/YT_set/wavs/norm/Another Girl Coughing-iYxUHA-Pwsk-Dry_NORM.wav\n",
      "Another Girl Coughing-iYxUHA-Pwsk-Dry.wav\n",
      "Pwsk\n",
      "Dry\n",
      "High-pass filtering...\n",
      "Computing features...\n",
      "0\n"
     ]
    },
    {
     "ename": "ValueError",
     "evalue": "Shape of passed values is (25, 11), indices imply (1, 11)",
     "output_type": "error",
     "traceback": [
      "\u001b[0;31m---------------------------------------------------------------------------\u001b[0m",
      "\u001b[0;31mValueError\u001b[0m                                Traceback (most recent call last)",
      "\u001b[0;32m<ipython-input-121-447c60353101>\u001b[0m in \u001b[0;36m<module>\u001b[0;34m\u001b[0m\n\u001b[1;32m     75\u001b[0m     \u001b[0;32mfor\u001b[0m \u001b[0midx\u001b[0m\u001b[0;34m,\u001b[0m \u001b[0mseg_i\u001b[0m \u001b[0;32min\u001b[0m \u001b[0menumerate\u001b[0m\u001b[0;34m(\u001b[0m\u001b[0ms_segments_filt\u001b[0m\u001b[0;34m)\u001b[0m\u001b[0;34m:\u001b[0m\u001b[0;34m\u001b[0m\u001b[0;34m\u001b[0m\u001b[0m\n\u001b[1;32m     76\u001b[0m         \u001b[0mprint\u001b[0m\u001b[0;34m(\u001b[0m\u001b[0midx\u001b[0m\u001b[0;34m)\u001b[0m\u001b[0;34m\u001b[0m\u001b[0;34m\u001b[0m\u001b[0m\n\u001b[0;32m---> 77\u001b[0;31m         \u001b[0mfeats\u001b[0m \u001b[0;34m=\u001b[0m \u001b[0mfeature_extraction\u001b[0m\u001b[0;34m(\u001b[0m\u001b[0mseg_i\u001b[0m\u001b[0;34m,\u001b[0m\u001b[0mfs\u001b[0m\u001b[0;34m,\u001b[0m\u001b[0mfeats\u001b[0m\u001b[0;34m,\u001b[0m\u001b[0mlp_ord\u001b[0m\u001b[0;34m,\u001b[0m\u001b[0mID\u001b[0m\u001b[0;34m,\u001b[0m\u001b[0mlabel\u001b[0m\u001b[0;34m)\u001b[0m\u001b[0;34m\u001b[0m\u001b[0;34m\u001b[0m\u001b[0m\n\u001b[0m\u001b[1;32m     78\u001b[0m \u001b[0;34m\u001b[0m\u001b[0m\n\u001b[1;32m     79\u001b[0m \u001b[0;34m\u001b[0m\u001b[0m\n",
      "\u001b[0;32m<ipython-input-120-a039cdab37bc>\u001b[0m in \u001b[0;36mfeature_extraction\u001b[0;34m(x, fs, feats_df, lp_ord, ID, label)\u001b[0m\n\u001b[1;32m    118\u001b[0m                                              \u001b[0;34m'logEnergy'\u001b[0m\u001b[0;34m:\u001b[0m \u001b[0mlogEnergy_feat\u001b[0m\u001b[0;34m,\u001b[0m \u001b[0;34m'zcr'\u001b[0m\u001b[0;34m:\u001b[0m \u001b[0mzcr_feat\u001b[0m\u001b[0;34m,\u001b[0m\u001b[0;34m\u001b[0m\u001b[0;34m\u001b[0m\u001b[0m\n\u001b[1;32m    119\u001b[0m                                              \u001b[0;34m'formants'\u001b[0m\u001b[0;34m:\u001b[0m \u001b[0;34m[\u001b[0m\u001b[0mformant_feat\u001b[0m\u001b[0;34m]\u001b[0m\u001b[0;34m,\u001b[0m \u001b[0;34m'F0'\u001b[0m\u001b[0;34m:\u001b[0m \u001b[0mF0_feat\u001b[0m\u001b[0;34m,\u001b[0m \u001b[0;34m'skew'\u001b[0m\u001b[0;34m:\u001b[0m \u001b[0mskew_feat\u001b[0m\u001b[0;34m,\u001b[0m\u001b[0;34m\u001b[0m\u001b[0;34m\u001b[0m\u001b[0m\n\u001b[0;32m--> 120\u001b[0;31m                                              'label': label}, index=[0]), ignore_index=True, sort=False)\n\u001b[0m\u001b[1;32m    121\u001b[0m     \u001b[0;32mreturn\u001b[0m \u001b[0mfeats_df\u001b[0m\u001b[0;34m\u001b[0m\u001b[0;34m\u001b[0m\u001b[0m\n",
      "\u001b[0;32m~/miniconda2/envs/kernpy3/lib/python3.6/site-packages/pandas/core/frame.py\u001b[0m in \u001b[0;36m__init__\u001b[0;34m(self, data, index, columns, dtype, copy)\u001b[0m\n\u001b[1;32m    409\u001b[0m             )\n\u001b[1;32m    410\u001b[0m         \u001b[0;32melif\u001b[0m \u001b[0misinstance\u001b[0m\u001b[0;34m(\u001b[0m\u001b[0mdata\u001b[0m\u001b[0;34m,\u001b[0m \u001b[0mdict\u001b[0m\u001b[0;34m)\u001b[0m\u001b[0;34m:\u001b[0m\u001b[0;34m\u001b[0m\u001b[0;34m\u001b[0m\u001b[0m\n\u001b[0;32m--> 411\u001b[0;31m             \u001b[0mmgr\u001b[0m \u001b[0;34m=\u001b[0m \u001b[0minit_dict\u001b[0m\u001b[0;34m(\u001b[0m\u001b[0mdata\u001b[0m\u001b[0;34m,\u001b[0m \u001b[0mindex\u001b[0m\u001b[0;34m,\u001b[0m \u001b[0mcolumns\u001b[0m\u001b[0;34m,\u001b[0m \u001b[0mdtype\u001b[0m\u001b[0;34m=\u001b[0m\u001b[0mdtype\u001b[0m\u001b[0;34m)\u001b[0m\u001b[0;34m\u001b[0m\u001b[0;34m\u001b[0m\u001b[0m\n\u001b[0m\u001b[1;32m    412\u001b[0m         \u001b[0;32melif\u001b[0m \u001b[0misinstance\u001b[0m\u001b[0;34m(\u001b[0m\u001b[0mdata\u001b[0m\u001b[0;34m,\u001b[0m \u001b[0mma\u001b[0m\u001b[0;34m.\u001b[0m\u001b[0mMaskedArray\u001b[0m\u001b[0;34m)\u001b[0m\u001b[0;34m:\u001b[0m\u001b[0;34m\u001b[0m\u001b[0;34m\u001b[0m\u001b[0m\n\u001b[1;32m    413\u001b[0m             \u001b[0;32mimport\u001b[0m \u001b[0mnumpy\u001b[0m\u001b[0;34m.\u001b[0m\u001b[0mma\u001b[0m\u001b[0;34m.\u001b[0m\u001b[0mmrecords\u001b[0m \u001b[0;32mas\u001b[0m \u001b[0mmrecords\u001b[0m\u001b[0;34m\u001b[0m\u001b[0;34m\u001b[0m\u001b[0m\n",
      "\u001b[0;32m~/miniconda2/envs/kernpy3/lib/python3.6/site-packages/pandas/core/internals/construction.py\u001b[0m in \u001b[0;36minit_dict\u001b[0;34m(data, index, columns, dtype)\u001b[0m\n\u001b[1;32m    255\u001b[0m             \u001b[0marr\u001b[0m \u001b[0;32mif\u001b[0m \u001b[0;32mnot\u001b[0m \u001b[0mis_datetime64tz_dtype\u001b[0m\u001b[0;34m(\u001b[0m\u001b[0marr\u001b[0m\u001b[0;34m)\u001b[0m \u001b[0;32melse\u001b[0m \u001b[0marr\u001b[0m\u001b[0;34m.\u001b[0m\u001b[0mcopy\u001b[0m\u001b[0;34m(\u001b[0m\u001b[0;34m)\u001b[0m \u001b[0;32mfor\u001b[0m \u001b[0marr\u001b[0m \u001b[0;32min\u001b[0m \u001b[0marrays\u001b[0m\u001b[0;34m\u001b[0m\u001b[0;34m\u001b[0m\u001b[0m\n\u001b[1;32m    256\u001b[0m         ]\n\u001b[0;32m--> 257\u001b[0;31m     \u001b[0;32mreturn\u001b[0m \u001b[0marrays_to_mgr\u001b[0m\u001b[0;34m(\u001b[0m\u001b[0marrays\u001b[0m\u001b[0;34m,\u001b[0m \u001b[0mdata_names\u001b[0m\u001b[0;34m,\u001b[0m \u001b[0mindex\u001b[0m\u001b[0;34m,\u001b[0m \u001b[0mcolumns\u001b[0m\u001b[0;34m,\u001b[0m \u001b[0mdtype\u001b[0m\u001b[0;34m=\u001b[0m\u001b[0mdtype\u001b[0m\u001b[0;34m)\u001b[0m\u001b[0;34m\u001b[0m\u001b[0;34m\u001b[0m\u001b[0m\n\u001b[0m\u001b[1;32m    258\u001b[0m \u001b[0;34m\u001b[0m\u001b[0m\n\u001b[1;32m    259\u001b[0m \u001b[0;34m\u001b[0m\u001b[0m\n",
      "\u001b[0;32m~/miniconda2/envs/kernpy3/lib/python3.6/site-packages/pandas/core/internals/construction.py\u001b[0m in \u001b[0;36marrays_to_mgr\u001b[0;34m(arrays, arr_names, index, columns, dtype)\u001b[0m\n\u001b[1;32m     85\u001b[0m     \u001b[0maxes\u001b[0m \u001b[0;34m=\u001b[0m \u001b[0;34m[\u001b[0m\u001b[0mensure_index\u001b[0m\u001b[0;34m(\u001b[0m\u001b[0mcolumns\u001b[0m\u001b[0;34m)\u001b[0m\u001b[0;34m,\u001b[0m \u001b[0mindex\u001b[0m\u001b[0;34m]\u001b[0m\u001b[0;34m\u001b[0m\u001b[0;34m\u001b[0m\u001b[0m\n\u001b[1;32m     86\u001b[0m \u001b[0;34m\u001b[0m\u001b[0m\n\u001b[0;32m---> 87\u001b[0;31m     \u001b[0;32mreturn\u001b[0m \u001b[0mcreate_block_manager_from_arrays\u001b[0m\u001b[0;34m(\u001b[0m\u001b[0marrays\u001b[0m\u001b[0;34m,\u001b[0m \u001b[0marr_names\u001b[0m\u001b[0;34m,\u001b[0m \u001b[0maxes\u001b[0m\u001b[0;34m)\u001b[0m\u001b[0;34m\u001b[0m\u001b[0;34m\u001b[0m\u001b[0m\n\u001b[0m\u001b[1;32m     88\u001b[0m \u001b[0;34m\u001b[0m\u001b[0m\n\u001b[1;32m     89\u001b[0m \u001b[0;34m\u001b[0m\u001b[0m\n",
      "\u001b[0;32m~/miniconda2/envs/kernpy3/lib/python3.6/site-packages/pandas/core/internals/managers.py\u001b[0m in \u001b[0;36mcreate_block_manager_from_arrays\u001b[0;34m(arrays, names, axes)\u001b[0m\n\u001b[1;32m   1697\u001b[0m         \u001b[0;32mreturn\u001b[0m \u001b[0mmgr\u001b[0m\u001b[0;34m\u001b[0m\u001b[0;34m\u001b[0m\u001b[0m\n\u001b[1;32m   1698\u001b[0m     \u001b[0;32mexcept\u001b[0m \u001b[0mValueError\u001b[0m \u001b[0;32mas\u001b[0m \u001b[0me\u001b[0m\u001b[0;34m:\u001b[0m\u001b[0;34m\u001b[0m\u001b[0;34m\u001b[0m\u001b[0m\n\u001b[0;32m-> 1699\u001b[0;31m         \u001b[0mconstruction_error\u001b[0m\u001b[0;34m(\u001b[0m\u001b[0mlen\u001b[0m\u001b[0;34m(\u001b[0m\u001b[0marrays\u001b[0m\u001b[0;34m)\u001b[0m\u001b[0;34m,\u001b[0m \u001b[0marrays\u001b[0m\u001b[0;34m[\u001b[0m\u001b[0;36m0\u001b[0m\u001b[0;34m]\u001b[0m\u001b[0;34m.\u001b[0m\u001b[0mshape\u001b[0m\u001b[0;34m,\u001b[0m \u001b[0maxes\u001b[0m\u001b[0;34m,\u001b[0m \u001b[0me\u001b[0m\u001b[0;34m)\u001b[0m\u001b[0;34m\u001b[0m\u001b[0;34m\u001b[0m\u001b[0m\n\u001b[0m\u001b[1;32m   1700\u001b[0m \u001b[0;34m\u001b[0m\u001b[0m\n\u001b[1;32m   1701\u001b[0m \u001b[0;34m\u001b[0m\u001b[0m\n",
      "\u001b[0;32m~/miniconda2/envs/kernpy3/lib/python3.6/site-packages/pandas/core/internals/managers.py\u001b[0m in \u001b[0;36mconstruction_error\u001b[0;34m(tot_items, block_shape, axes, e)\u001b[0m\n\u001b[1;32m   1713\u001b[0m \u001b[0;34m\u001b[0m\u001b[0m\n\u001b[1;32m   1714\u001b[0m     \u001b[0;32mif\u001b[0m \u001b[0mpassed\u001b[0m \u001b[0;34m==\u001b[0m \u001b[0mimplied\u001b[0m \u001b[0;32mand\u001b[0m \u001b[0me\u001b[0m \u001b[0;32mis\u001b[0m \u001b[0;32mnot\u001b[0m \u001b[0;32mNone\u001b[0m\u001b[0;34m:\u001b[0m\u001b[0;34m\u001b[0m\u001b[0;34m\u001b[0m\u001b[0m\n\u001b[0;32m-> 1715\u001b[0;31m         \u001b[0;32mraise\u001b[0m \u001b[0me\u001b[0m\u001b[0;34m\u001b[0m\u001b[0;34m\u001b[0m\u001b[0m\n\u001b[0m\u001b[1;32m   1716\u001b[0m     \u001b[0;32mif\u001b[0m \u001b[0mblock_shape\u001b[0m\u001b[0;34m[\u001b[0m\u001b[0;36m0\u001b[0m\u001b[0;34m]\u001b[0m \u001b[0;34m==\u001b[0m \u001b[0;36m0\u001b[0m\u001b[0;34m:\u001b[0m\u001b[0;34m\u001b[0m\u001b[0;34m\u001b[0m\u001b[0m\n\u001b[1;32m   1717\u001b[0m         \u001b[0;32mraise\u001b[0m \u001b[0mValueError\u001b[0m\u001b[0;34m(\u001b[0m\u001b[0;34m\"Empty data passed with indices specified.\"\u001b[0m\u001b[0;34m)\u001b[0m\u001b[0;34m\u001b[0m\u001b[0;34m\u001b[0m\u001b[0m\n",
      "\u001b[0;32m~/miniconda2/envs/kernpy3/lib/python3.6/site-packages/pandas/core/internals/managers.py\u001b[0m in \u001b[0;36mcreate_block_manager_from_arrays\u001b[0;34m(arrays, names, axes)\u001b[0m\n\u001b[1;32m   1693\u001b[0m     \u001b[0;32mtry\u001b[0m\u001b[0;34m:\u001b[0m\u001b[0;34m\u001b[0m\u001b[0;34m\u001b[0m\u001b[0m\n\u001b[1;32m   1694\u001b[0m         \u001b[0mblocks\u001b[0m \u001b[0;34m=\u001b[0m \u001b[0mform_blocks\u001b[0m\u001b[0;34m(\u001b[0m\u001b[0marrays\u001b[0m\u001b[0;34m,\u001b[0m \u001b[0mnames\u001b[0m\u001b[0;34m,\u001b[0m \u001b[0maxes\u001b[0m\u001b[0;34m)\u001b[0m\u001b[0;34m\u001b[0m\u001b[0;34m\u001b[0m\u001b[0m\n\u001b[0;32m-> 1695\u001b[0;31m         \u001b[0mmgr\u001b[0m \u001b[0;34m=\u001b[0m \u001b[0mBlockManager\u001b[0m\u001b[0;34m(\u001b[0m\u001b[0mblocks\u001b[0m\u001b[0;34m,\u001b[0m \u001b[0maxes\u001b[0m\u001b[0;34m)\u001b[0m\u001b[0;34m\u001b[0m\u001b[0;34m\u001b[0m\u001b[0m\n\u001b[0m\u001b[1;32m   1696\u001b[0m         \u001b[0mmgr\u001b[0m\u001b[0;34m.\u001b[0m\u001b[0m_consolidate_inplace\u001b[0m\u001b[0;34m(\u001b[0m\u001b[0;34m)\u001b[0m\u001b[0;34m\u001b[0m\u001b[0;34m\u001b[0m\u001b[0m\n\u001b[1;32m   1697\u001b[0m         \u001b[0;32mreturn\u001b[0m \u001b[0mmgr\u001b[0m\u001b[0;34m\u001b[0m\u001b[0;34m\u001b[0m\u001b[0m\n",
      "\u001b[0;32m~/miniconda2/envs/kernpy3/lib/python3.6/site-packages/pandas/core/internals/managers.py\u001b[0m in \u001b[0;36m__init__\u001b[0;34m(self, blocks, axes, do_integrity_check)\u001b[0m\n\u001b[1;32m    141\u001b[0m \u001b[0;34m\u001b[0m\u001b[0m\n\u001b[1;32m    142\u001b[0m         \u001b[0;32mif\u001b[0m \u001b[0mdo_integrity_check\u001b[0m\u001b[0;34m:\u001b[0m\u001b[0;34m\u001b[0m\u001b[0;34m\u001b[0m\u001b[0m\n\u001b[0;32m--> 143\u001b[0;31m             \u001b[0mself\u001b[0m\u001b[0;34m.\u001b[0m\u001b[0m_verify_integrity\u001b[0m\u001b[0;34m(\u001b[0m\u001b[0;34m)\u001b[0m\u001b[0;34m\u001b[0m\u001b[0;34m\u001b[0m\u001b[0m\n\u001b[0m\u001b[1;32m    144\u001b[0m \u001b[0;34m\u001b[0m\u001b[0m\n\u001b[1;32m    145\u001b[0m         \u001b[0mself\u001b[0m\u001b[0;34m.\u001b[0m\u001b[0m_consolidate_check\u001b[0m\u001b[0;34m(\u001b[0m\u001b[0;34m)\u001b[0m\u001b[0;34m\u001b[0m\u001b[0;34m\u001b[0m\u001b[0m\n",
      "\u001b[0;32m~/miniconda2/envs/kernpy3/lib/python3.6/site-packages/pandas/core/internals/managers.py\u001b[0m in \u001b[0;36m_verify_integrity\u001b[0;34m(self)\u001b[0m\n\u001b[1;32m    343\u001b[0m         \u001b[0;32mfor\u001b[0m \u001b[0mblock\u001b[0m \u001b[0;32min\u001b[0m \u001b[0mself\u001b[0m\u001b[0;34m.\u001b[0m\u001b[0mblocks\u001b[0m\u001b[0;34m:\u001b[0m\u001b[0;34m\u001b[0m\u001b[0;34m\u001b[0m\u001b[0m\n\u001b[1;32m    344\u001b[0m             \u001b[0;32mif\u001b[0m \u001b[0mblock\u001b[0m\u001b[0;34m.\u001b[0m\u001b[0m_verify_integrity\u001b[0m \u001b[0;32mand\u001b[0m \u001b[0mblock\u001b[0m\u001b[0;34m.\u001b[0m\u001b[0mshape\u001b[0m\u001b[0;34m[\u001b[0m\u001b[0;36m1\u001b[0m\u001b[0;34m:\u001b[0m\u001b[0;34m]\u001b[0m \u001b[0;34m!=\u001b[0m \u001b[0mmgr_shape\u001b[0m\u001b[0;34m[\u001b[0m\u001b[0;36m1\u001b[0m\u001b[0;34m:\u001b[0m\u001b[0;34m]\u001b[0m\u001b[0;34m:\u001b[0m\u001b[0;34m\u001b[0m\u001b[0;34m\u001b[0m\u001b[0m\n\u001b[0;32m--> 345\u001b[0;31m                 \u001b[0mconstruction_error\u001b[0m\u001b[0;34m(\u001b[0m\u001b[0mtot_items\u001b[0m\u001b[0;34m,\u001b[0m \u001b[0mblock\u001b[0m\u001b[0;34m.\u001b[0m\u001b[0mshape\u001b[0m\u001b[0;34m[\u001b[0m\u001b[0;36m1\u001b[0m\u001b[0;34m:\u001b[0m\u001b[0;34m]\u001b[0m\u001b[0;34m,\u001b[0m \u001b[0mself\u001b[0m\u001b[0;34m.\u001b[0m\u001b[0maxes\u001b[0m\u001b[0;34m)\u001b[0m\u001b[0;34m\u001b[0m\u001b[0;34m\u001b[0m\u001b[0m\n\u001b[0m\u001b[1;32m    346\u001b[0m         \u001b[0;32mif\u001b[0m \u001b[0mlen\u001b[0m\u001b[0;34m(\u001b[0m\u001b[0mself\u001b[0m\u001b[0;34m.\u001b[0m\u001b[0mitems\u001b[0m\u001b[0;34m)\u001b[0m \u001b[0;34m!=\u001b[0m \u001b[0mtot_items\u001b[0m\u001b[0;34m:\u001b[0m\u001b[0;34m\u001b[0m\u001b[0;34m\u001b[0m\u001b[0m\n\u001b[1;32m    347\u001b[0m             raise AssertionError(\n",
      "\u001b[0;32m~/miniconda2/envs/kernpy3/lib/python3.6/site-packages/pandas/core/internals/managers.py\u001b[0m in \u001b[0;36mconstruction_error\u001b[0;34m(tot_items, block_shape, axes, e)\u001b[0m\n\u001b[1;32m   1717\u001b[0m         \u001b[0;32mraise\u001b[0m \u001b[0mValueError\u001b[0m\u001b[0;34m(\u001b[0m\u001b[0;34m\"Empty data passed with indices specified.\"\u001b[0m\u001b[0;34m)\u001b[0m\u001b[0;34m\u001b[0m\u001b[0;34m\u001b[0m\u001b[0m\n\u001b[1;32m   1718\u001b[0m     raise ValueError(\n\u001b[0;32m-> 1719\u001b[0;31m         \u001b[0;34m\"Shape of passed values is {0}, indices imply {1}\"\u001b[0m\u001b[0;34m.\u001b[0m\u001b[0mformat\u001b[0m\u001b[0;34m(\u001b[0m\u001b[0mpassed\u001b[0m\u001b[0;34m,\u001b[0m \u001b[0mimplied\u001b[0m\u001b[0;34m)\u001b[0m\u001b[0;34m\u001b[0m\u001b[0;34m\u001b[0m\u001b[0m\n\u001b[0m\u001b[1;32m   1720\u001b[0m     )\n\u001b[1;32m   1721\u001b[0m \u001b[0;34m\u001b[0m\u001b[0m\n",
      "\u001b[0;31mValueError\u001b[0m: Shape of passed values is (25, 11), indices imply (1, 11)"
     ]
    }
   ],
   "source": [
    "norm_skip = False #skip normalization step (because it has been done previously)\n",
    "\n",
    "#s = read(audiofile)\n",
    "FOLDER_PATH = 'data/YT_set/wavs/1/'\n",
    "for file_name in os.listdir(FOLDER_PATH):\n",
    "    \n",
    "    fname_noExt = os.path.splitext(file_name)[0] #file name without extension\n",
    "    \n",
    "    #full path file name\n",
    "    full_fname = FOLDER_PATH+file_name\n",
    "    #print(full_fname)\n",
    "    \n",
    "    #TODO: put normalized wavs in other folder\n",
    "    #name for normalization\n",
    "    NORM_FOLDER_PATH = 'data/YT_set/wavs/norm/'\n",
    "    norm_fname = NORM_FOLDER_PATH + os.path.splitext(file_name)[0] + '_NORM.wav'\n",
    "    \n",
    "    if norm_skip is False: \n",
    "        ## Normalization\n",
    "        \n",
    "        #level to same dB\n",
    "        tfm = sox.Transformer()\n",
    "        tfm.gain(gain_db=0.0, normalize=False, limiter=False, balance=None)\n",
    "        #downsample to 16kHz and 1 channel\n",
    "        tfm.convert(samplerate=fs_targ, n_channels=n_channels_targ, bitdepth=None) \n",
    "        #tfm.norm(db_level=0.0)\n",
    "    \n",
    "        # create the output normalized audio\n",
    "        \n",
    "        print(norm_fname)\n",
    "        tfm.build(full_fname, norm_fname)\n",
    "        tfm.effects_log\n",
    "    \n",
    "    # load normalized audio\n",
    "    s = AudioSegment.from_wav(norm_fname)\n",
    "    #sampling rate:\n",
    "    info = mediainfo(norm_fname)\n",
    "    fs = float(info['sample_rate'])\n",
    "    \n",
    "    #get ID of recording\n",
    "    ID = fname_noExt.split('-')[-2] #for the current type of naming\n",
    "    print(file_name)\n",
    "    print(ID)\n",
    "    \n",
    "    #get label\n",
    "    label = fname_noExt.split('-')[-1] #for the current type of naming\n",
    "    print(label)\n",
    "    \n",
    "    ## Segmentation of cough streams (silence-based)\n",
    "    #min_silence_len in ms, silence_thresh in dB\n",
    "    s_segments = split_on_silence (s, min_silence_len = 600, silence_thresh = -30)\n",
    "    ## TODO: set more accurate thresholds, or find other way to split (variance-based?)\n",
    "    \n",
    "    #convert s_segments to numpy array format\n",
    "    AudioSegment2numpy_arr = lambda x: np.asarray(x.get_array_of_samples())\n",
    "    s_segments_np = list(map(AudioSegment2numpy_arr, s_segments))\n",
    "    \n",
    "    print('High-pass filtering...')\n",
    "    #pre-emphasis filtering to each segment\n",
    "    preEmph_filtering = lambda x: apply_preEmph(x)\n",
    "    s_segments_filt = list(map(preEmph_filtering, s_segments_np))\n",
    "    \n",
    "    #TODO\n",
    "    #2) the segment is divided into X non-overlapping subsegments (X=3 for dry/wet cough paper,\n",
    "    #X=12 for pneumonia paper)\n",
    "    #TODO: window framing: I think maybe the segments need to be windowed with non-overlapping frames? \n",
    "    #(see frame settings at beggining of notebook)\n",
    "    \n",
    "    print('Computing features...')\n",
    "    #Feature extraction for each segment\n",
    "    \n",
    "    #(lambda function doesn't work )\n",
    "    #feat_extr_step = lambda x, fs, feats_df, lp_ord, ID: feature_extraction(x,fs,feats_df,lp_ord,ID)\n",
    "    #feats = feat_extr_step(s_segments_filt,fs,feats,lp_ord,ID)\n",
    "    for idx, seg_i in enumerate(s_segments_filt):\n",
    "        print(idx)\n",
    "        feats = feature_extraction(seg_i,fs,feats,lp_ord,ID,label)\n",
    "    \n",
    "       "
   ]
  },
  {
   "cell_type": "code",
   "execution_count": 6,
   "metadata": {},
   "outputs": [
    {
     "data": {
      "text/html": [
       "<div>\n",
       "<style scoped>\n",
       "    .dataframe tbody tr th:only-of-type {\n",
       "        vertical-align: middle;\n",
       "    }\n",
       "\n",
       "    .dataframe tbody tr th {\n",
       "        vertical-align: top;\n",
       "    }\n",
       "\n",
       "    .dataframe thead th {\n",
       "        text-align: right;\n",
       "    }\n",
       "</style>\n",
       "<table border=\"1\" class=\"dataframe\">\n",
       "  <thead>\n",
       "    <tr style=\"text-align: right;\">\n",
       "      <th></th>\n",
       "      <th>Id</th>\n",
       "      <th>mfcc</th>\n",
       "      <th>mfcc_d</th>\n",
       "      <th>mfcc_dd</th>\n",
       "      <th>kurtosis</th>\n",
       "      <th>logEnergy</th>\n",
       "      <th>zcr</th>\n",
       "      <th>formants</th>\n",
       "      <th>F0</th>\n",
       "      <th>skew</th>\n",
       "      <th>label</th>\n",
       "    </tr>\n",
       "  </thead>\n",
       "  <tbody>\n",
       "    <tr>\n",
       "      <th>0</th>\n",
       "      <td>Pwsk</td>\n",
       "      <td>[[-36.04365338911715, 0.0, -3.2076317224819155...</td>\n",
       "      <td>[[0.0, 0.0, 0.0, 0.0, 0.0, 0.0, 0.0, 0.0, 0.0,...</td>\n",
       "      <td>[[0.0, 0.0, 0.0, 0.0, 0.0, 0.0, 0.0, 0.0, 0.0,...</td>\n",
       "      <td>10.261335</td>\n",
       "      <td>7.033567</td>\n",
       "      <td>0.266776</td>\n",
       "      <td>[615.4712130184763, 1009.0686183582355, 2031.2...</td>\n",
       "      <td>213.333333</td>\n",
       "      <td>-0.035899</td>\n",
       "      <td>Dry</td>\n",
       "    </tr>\n",
       "    <tr>\n",
       "      <th>1</th>\n",
       "      <td>Pwsk</td>\n",
       "      <td>[[8.684765628904088, -33.314000680327545, -14....</td>\n",
       "      <td>[[0.104018338738749, 0.5568312860759939, 3.516...</td>\n",
       "      <td>[[-0.04379686556487439, 0.4181730602469935, 0....</td>\n",
       "      <td>7.269807</td>\n",
       "      <td>7.445741</td>\n",
       "      <td>0.352220</td>\n",
       "      <td>[795.7480969526919, 900.8716953508034, 2145.66...</td>\n",
       "      <td>152.380952</td>\n",
       "      <td>-0.003134</td>\n",
       "      <td>Dry</td>\n",
       "    </tr>\n",
       "    <tr>\n",
       "      <th>2</th>\n",
       "      <td>Pwsk</td>\n",
       "      <td>[[8.667678075801637, -29.540199480860924, -8.7...</td>\n",
       "      <td>[[1.9987420523521129, 9.192209889613906, -2.71...</td>\n",
       "      <td>[[0.8557744917363834, 2.4443792620245945, -0.0...</td>\n",
       "      <td>0.573200</td>\n",
       "      <td>6.289370</td>\n",
       "      <td>0.097091</td>\n",
       "      <td>[551.2383040575314, 1045.736114981098, 1655.39...</td>\n",
       "      <td>163.265306</td>\n",
       "      <td>-0.180193</td>\n",
       "      <td>Dry</td>\n",
       "    </tr>\n",
       "    <tr>\n",
       "      <th>3</th>\n",
       "      <td>Pwsk</td>\n",
       "      <td>[[8.866746402589161, -28.05970278797004, -3.95...</td>\n",
       "      <td>[[0.1494441638602355, -1.812811579600849, -0.7...</td>\n",
       "      <td>[[-0.16886290126833758, 0.3214850360255639, -2...</td>\n",
       "      <td>5.542743</td>\n",
       "      <td>7.493706</td>\n",
       "      <td>0.326300</td>\n",
       "      <td>[715.756479741867, 1567.4161317150094, 1734.37...</td>\n",
       "      <td>326.530612</td>\n",
       "      <td>-0.019812</td>\n",
       "      <td>Dry</td>\n",
       "    </tr>\n",
       "    <tr>\n",
       "      <th>4</th>\n",
       "      <td>Pwsk</td>\n",
       "      <td>[[9.691520844538447, -26.185043326491204, -1.3...</td>\n",
       "      <td>[[0.09306848338880691, -4.220576230914702, -6....</td>\n",
       "      <td>[[-0.10919975266958426, 0.24839989238782678, 0...</td>\n",
       "      <td>10.933372</td>\n",
       "      <td>7.087280</td>\n",
       "      <td>0.259046</td>\n",
       "      <td>[558.7012952572038, 1242.9710489844333, 2103.9...</td>\n",
       "      <td>320.000000</td>\n",
       "      <td>-0.132976</td>\n",
       "      <td>Dry</td>\n",
       "    </tr>\n",
       "  </tbody>\n",
       "</table>\n",
       "</div>"
      ],
      "text/plain": [
       "     Id                                               mfcc  \\\n",
       "0  Pwsk  [[-36.04365338911715, 0.0, -3.2076317224819155...   \n",
       "1  Pwsk  [[8.684765628904088, -33.314000680327545, -14....   \n",
       "2  Pwsk  [[8.667678075801637, -29.540199480860924, -8.7...   \n",
       "3  Pwsk  [[8.866746402589161, -28.05970278797004, -3.95...   \n",
       "4  Pwsk  [[9.691520844538447, -26.185043326491204, -1.3...   \n",
       "\n",
       "                                              mfcc_d  \\\n",
       "0  [[0.0, 0.0, 0.0, 0.0, 0.0, 0.0, 0.0, 0.0, 0.0,...   \n",
       "1  [[0.104018338738749, 0.5568312860759939, 3.516...   \n",
       "2  [[1.9987420523521129, 9.192209889613906, -2.71...   \n",
       "3  [[0.1494441638602355, -1.812811579600849, -0.7...   \n",
       "4  [[0.09306848338880691, -4.220576230914702, -6....   \n",
       "\n",
       "                                             mfcc_dd   kurtosis  logEnergy  \\\n",
       "0  [[0.0, 0.0, 0.0, 0.0, 0.0, 0.0, 0.0, 0.0, 0.0,...  10.261335   7.033567   \n",
       "1  [[-0.04379686556487439, 0.4181730602469935, 0....   7.269807   7.445741   \n",
       "2  [[0.8557744917363834, 2.4443792620245945, -0.0...   0.573200   6.289370   \n",
       "3  [[-0.16886290126833758, 0.3214850360255639, -2...   5.542743   7.493706   \n",
       "4  [[-0.10919975266958426, 0.24839989238782678, 0...  10.933372   7.087280   \n",
       "\n",
       "        zcr                                           formants          F0  \\\n",
       "0  0.266776  [615.4712130184763, 1009.0686183582355, 2031.2...  213.333333   \n",
       "1  0.352220  [795.7480969526919, 900.8716953508034, 2145.66...  152.380952   \n",
       "2  0.097091  [551.2383040575314, 1045.736114981098, 1655.39...  163.265306   \n",
       "3  0.326300  [715.756479741867, 1567.4161317150094, 1734.37...  326.530612   \n",
       "4  0.259046  [558.7012952572038, 1242.9710489844333, 2103.9...  320.000000   \n",
       "\n",
       "       skew label  \n",
       "0 -0.035899   Dry  \n",
       "1 -0.003134   Dry  \n",
       "2 -0.180193   Dry  \n",
       "3 -0.019812   Dry  \n",
       "4 -0.132976   Dry  "
      ]
     },
     "execution_count": 6,
     "metadata": {},
     "output_type": "execute_result"
    }
   ],
   "source": [
    "feats"
   ]
  },
  {
   "cell_type": "code",
   "execution_count": 103,
   "metadata": {},
   "outputs": [],
   "source": [
    "x_frames = spe_feats.sigproc.framesig(s_segments_filt[0],frame_len,frame_step,win_func)"
   ]
  },
  {
   "cell_type": "code",
   "execution_count": 65,
   "metadata": {},
   "outputs": [
    {
     "data": {
      "text/plain": [
       "(25, 400)"
      ]
     },
     "execution_count": 65,
     "metadata": {},
     "output_type": "execute_result"
    }
   ],
   "source": [
    "x_frames.shape"
   ]
  },
  {
   "cell_type": "code",
   "execution_count": 106,
   "metadata": {},
   "outputs": [
    {
     "data": {
      "text/plain": [
       "3.850969677588145e+17"
      ]
     },
     "execution_count": 106,
     "metadata": {},
     "output_type": "execute_result"
    }
   ],
   "source": [
    "np.linalg.cond(x_frames)"
   ]
  },
  {
   "cell_type": "code",
   "execution_count": 104,
   "metadata": {},
   "outputs": [
    {
     "ename": "FloatingPointError",
     "evalue": "numerical error, input ill-conditioned?",
     "output_type": "error",
     "traceback": [
      "\u001b[0;31m---------------------------------------------------------------------------\u001b[0m",
      "\u001b[0;31mFloatingPointError\u001b[0m                        Traceback (most recent call last)",
      "\u001b[0;32m<ipython-input-104-750bce006e85>\u001b[0m in \u001b[0;36m<module>\u001b[0;34m\u001b[0m\n\u001b[0;32m----> 1\u001b[0;31m \u001b[0mformant_feat\u001b[0m \u001b[0;34m=\u001b[0m \u001b[0mnp\u001b[0m\u001b[0;34m.\u001b[0m\u001b[0mapply_along_axis\u001b[0m\u001b[0;34m(\u001b[0m\u001b[0mget_formants\u001b[0m\u001b[0;34m,\u001b[0m \u001b[0;36m1\u001b[0m\u001b[0;34m,\u001b[0m \u001b[0mx_frames\u001b[0m\u001b[0;34m,\u001b[0m \u001b[0mlp_ord\u001b[0m\u001b[0;34m,\u001b[0m \u001b[0mnr_formants\u001b[0m\u001b[0;34m)\u001b[0m\u001b[0;34m\u001b[0m\u001b[0;34m\u001b[0m\u001b[0m\n\u001b[0m",
      "\u001b[0;32m<__array_function__ internals>\u001b[0m in \u001b[0;36mapply_along_axis\u001b[0;34m(*args, **kwargs)\u001b[0m\n",
      "\u001b[0;32m~/.local/lib/python3.6/site-packages/numpy/lib/shape_base.py\u001b[0m in \u001b[0;36mapply_along_axis\u001b[0;34m(func1d, axis, arr, *args, **kwargs)\u001b[0m\n\u001b[1;32m    377\u001b[0m     \u001b[0;32mexcept\u001b[0m \u001b[0mStopIteration\u001b[0m\u001b[0;34m:\u001b[0m\u001b[0;34m\u001b[0m\u001b[0;34m\u001b[0m\u001b[0m\n\u001b[1;32m    378\u001b[0m         \u001b[0;32mraise\u001b[0m \u001b[0mValueError\u001b[0m\u001b[0;34m(\u001b[0m\u001b[0;34m'Cannot apply_along_axis when any iteration dimensions are 0'\u001b[0m\u001b[0;34m)\u001b[0m\u001b[0;34m\u001b[0m\u001b[0;34m\u001b[0m\u001b[0m\n\u001b[0;32m--> 379\u001b[0;31m     \u001b[0mres\u001b[0m \u001b[0;34m=\u001b[0m \u001b[0masanyarray\u001b[0m\u001b[0;34m(\u001b[0m\u001b[0mfunc1d\u001b[0m\u001b[0;34m(\u001b[0m\u001b[0minarr_view\u001b[0m\u001b[0;34m[\u001b[0m\u001b[0mind0\u001b[0m\u001b[0;34m]\u001b[0m\u001b[0;34m,\u001b[0m \u001b[0;34m*\u001b[0m\u001b[0margs\u001b[0m\u001b[0;34m,\u001b[0m \u001b[0;34m**\u001b[0m\u001b[0mkwargs\u001b[0m\u001b[0;34m)\u001b[0m\u001b[0;34m)\u001b[0m\u001b[0;34m\u001b[0m\u001b[0;34m\u001b[0m\u001b[0m\n\u001b[0m\u001b[1;32m    380\u001b[0m \u001b[0;34m\u001b[0m\u001b[0m\n\u001b[1;32m    381\u001b[0m     \u001b[0;31m# build a buffer for storing evaluations of func1d.\u001b[0m\u001b[0;34m\u001b[0m\u001b[0;34m\u001b[0m\u001b[0;34m\u001b[0m\u001b[0m\n",
      "\u001b[0;32m<ipython-input-100-18276ce6b7ea>\u001b[0m in \u001b[0;36mget_formants\u001b[0;34m(x, lp_order, nr_formants)\u001b[0m\n\u001b[1;32m     40\u001b[0m \u001b[0;34m\u001b[0m\u001b[0m\n\u001b[1;32m     41\u001b[0m     \u001b[0;31m#compute lp coefficients\u001b[0m\u001b[0;34m\u001b[0m\u001b[0;34m\u001b[0m\u001b[0;34m\u001b[0m\u001b[0m\n\u001b[0;32m---> 42\u001b[0;31m     \u001b[0ma\u001b[0m \u001b[0;34m=\u001b[0m \u001b[0mlibrosa\u001b[0m\u001b[0;34m.\u001b[0m\u001b[0mlpc\u001b[0m\u001b[0;34m(\u001b[0m\u001b[0mx\u001b[0m\u001b[0;34m,\u001b[0m \u001b[0mlp_ord\u001b[0m\u001b[0;34m)\u001b[0m\u001b[0;34m\u001b[0m\u001b[0;34m\u001b[0m\u001b[0m\n\u001b[0m\u001b[1;32m     43\u001b[0m \u001b[0;34m\u001b[0m\u001b[0m\n\u001b[1;32m     44\u001b[0m     \u001b[0;31m#get roots from lp coefficients\u001b[0m\u001b[0;34m\u001b[0m\u001b[0;34m\u001b[0m\u001b[0;34m\u001b[0m\u001b[0m\n",
      "\u001b[0;32m~/miniconda2/envs/kernpy3/lib/python3.6/site-packages/librosa/core/audio.py\u001b[0m in \u001b[0;36mlpc\u001b[0;34m(y, order)\u001b[0m\n\u001b[1;32m    843\u001b[0m     \u001b[0mutil\u001b[0m\u001b[0;34m.\u001b[0m\u001b[0mvalid_audio\u001b[0m\u001b[0;34m(\u001b[0m\u001b[0my\u001b[0m\u001b[0;34m,\u001b[0m \u001b[0mmono\u001b[0m\u001b[0;34m=\u001b[0m\u001b[0;32mTrue\u001b[0m\u001b[0;34m)\u001b[0m\u001b[0;34m\u001b[0m\u001b[0;34m\u001b[0m\u001b[0m\n\u001b[1;32m    844\u001b[0m \u001b[0;34m\u001b[0m\u001b[0m\n\u001b[0;32m--> 845\u001b[0;31m     \u001b[0;32mreturn\u001b[0m \u001b[0m__lpc\u001b[0m\u001b[0;34m(\u001b[0m\u001b[0my\u001b[0m\u001b[0;34m,\u001b[0m \u001b[0morder\u001b[0m\u001b[0;34m)\u001b[0m\u001b[0;34m\u001b[0m\u001b[0;34m\u001b[0m\u001b[0m\n\u001b[0m\u001b[1;32m    846\u001b[0m \u001b[0;34m\u001b[0m\u001b[0m\n\u001b[1;32m    847\u001b[0m \u001b[0;34m\u001b[0m\u001b[0m\n",
      "\u001b[0;32m~/miniconda2/envs/kernpy3/lib/python3.6/site-packages/librosa/core/audio.py\u001b[0m in \u001b[0;36m__lpc\u001b[0;34m()\u001b[0m\n\u001b[1;32m    878\u001b[0m     \u001b[0;32mfor\u001b[0m \u001b[0mi\u001b[0m \u001b[0;32min\u001b[0m \u001b[0mrange\u001b[0m\u001b[0;34m(\u001b[0m\u001b[0morder\u001b[0m\u001b[0;34m)\u001b[0m\u001b[0;34m:\u001b[0m\u001b[0;34m\u001b[0m\u001b[0;34m\u001b[0m\u001b[0m\n\u001b[1;32m    879\u001b[0m         \u001b[0;32mif\u001b[0m \u001b[0mden\u001b[0m \u001b[0;34m<=\u001b[0m \u001b[0;36m0\u001b[0m\u001b[0;34m:\u001b[0m\u001b[0;34m\u001b[0m\u001b[0;34m\u001b[0m\u001b[0m\n\u001b[0;32m--> 880\u001b[0;31m             \u001b[0;32mraise\u001b[0m \u001b[0mFloatingPointError\u001b[0m\u001b[0;34m(\u001b[0m\u001b[0;34m'numerical error, input ill-conditioned?'\u001b[0m\u001b[0;34m)\u001b[0m\u001b[0;34m\u001b[0m\u001b[0;34m\u001b[0m\u001b[0m\n\u001b[0m\u001b[1;32m    881\u001b[0m \u001b[0;34m\u001b[0m\u001b[0m\n\u001b[1;32m    882\u001b[0m         \u001b[0;31m# Eqn 15 of Marple, with fwd_pred_error and bwd_pred_error\u001b[0m\u001b[0;34m\u001b[0m\u001b[0;34m\u001b[0m\u001b[0;34m\u001b[0m\u001b[0m\n",
      "\u001b[0;31mFloatingPointError\u001b[0m: numerical error, input ill-conditioned?"
     ]
    }
   ],
   "source": [
    "formant_feat = np.apply_along_axis(get_formants, 1, x_frames, lp_ord, nr_formants)   "
   ]
  },
  {
   "cell_type": "code",
   "execution_count": 102,
   "metadata": {},
   "outputs": [
    {
     "data": {
      "text/plain": [
       "(30, 4)"
      ]
     },
     "execution_count": 102,
     "metadata": {},
     "output_type": "execute_result"
    }
   ],
   "source": [
    "formant_feat.shape"
   ]
  },
  {
   "cell_type": "markdown",
   "metadata": {},
   "source": [
    "### Pre-processing of features"
   ]
  },
  {
   "cell_type": "code",
   "execution_count": null,
   "metadata": {},
   "outputs": [],
   "source": [
    "#TODO: Pre-proces the dataframe prior to use with a model (normalize if needed for the model, check there is no NaNs...)\n",
    "\n",
    "\n",
    "\n"
   ]
  },
  {
   "cell_type": "markdown",
   "metadata": {},
   "source": [
    "## Model training"
   ]
  },
  {
   "cell_type": "code",
   "execution_count": null,
   "metadata": {},
   "outputs": [],
   "source": []
  },
  {
   "cell_type": "code",
   "execution_count": null,
   "metadata": {},
   "outputs": [],
   "source": [
    "#Cough sound\n",
    "#Breathing rate\n",
    "#Breathing rhytm (consistence smoothness)\n",
    "#Cough rate\n",
    "#Panic level\n",
    "#Hoarseness"
   ]
  },
  {
   "cell_type": "code",
   "execution_count": null,
   "metadata": {},
   "outputs": [],
   "source": []
  }
 ],
 "metadata": {
  "kernelspec": {
   "display_name": "Python 3",
   "language": "python",
   "name": "python3"
  },
  "language_info": {
   "codemirror_mode": {
    "name": "ipython",
    "version": 3
   },
   "file_extension": ".py",
   "mimetype": "text/x-python",
   "name": "python",
   "nbconvert_exporter": "python",
   "pygments_lexer": "ipython3",
   "version": "3.6.9"
  }
 },
 "nbformat": 4,
 "nbformat_minor": 2
}
